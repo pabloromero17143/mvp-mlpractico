{
 "cells": [
  {
   "cell_type": "code",
   "execution_count": 2,
   "metadata": {
    "colab": {
     "base_uri": "https://localhost:8080/",
     "height": 74,
     "resources": {
      "http://localhost:8080/nbextensions/google.colab/files.js": {
       "data": "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",
       "headers": [
        [
         "content-type",
         "application/javascript"
        ]
       ],
       "ok": true,
       "status": 200,
       "status_text": ""
      }
     }
    },
    "id": "EZpgfrHuJdpW",
    "outputId": "c0288908-7df6-4a42-e809-b26ea6f42947"
   },
   "outputs": [
    {
     "data": {
      "text/html": [
       "\n",
       "     <input type=\"file\" id=\"files-258edd57-ce3f-40c0-af8b-2d0eb6fdbc51\" name=\"files[]\" multiple disabled\n",
       "        style=\"border:none\" />\n",
       "     <output id=\"result-258edd57-ce3f-40c0-af8b-2d0eb6fdbc51\">\n",
       "      Upload widget is only available when the cell has been executed in the\n",
       "      current browser session. Please rerun this cell to enable.\n",
       "      </output>\n",
       "      <script src=\"/nbextensions/google.colab/files.js\"></script> "
      ],
      "text/plain": [
       "<IPython.core.display.HTML object>"
      ]
     },
     "metadata": {
      "tags": []
     },
     "output_type": "display_data"
    },
    {
     "name": "stdout",
     "output_type": "stream",
     "text": [
      "Saving movies_metadata.csv to movies_metadata.csv\n"
     ]
    }
   ],
   "source": [
    "from google.colab import files\n",
    "uploaded = files.upload()"
   ]
  },
  {
   "cell_type": "code",
   "execution_count": 877,
   "metadata": {
    "colab": {
     "base_uri": "https://localhost:8080/"
    },
    "id": "WZQ_l5YpJwjV",
    "outputId": "3a70608d-5536-4ad6-c8a0-acb8f93a45d9"
   },
   "outputs": [
    {
     "name": "stderr",
     "output_type": "stream",
     "text": [
      "/usr/local/lib/python3.6/dist-packages/IPython/core/interactiveshell.py:2718: DtypeWarning: Columns (10) have mixed types.Specify dtype option on import or set low_memory=False.\n",
      "  interactivity=interactivity, compiler=compiler, result=result)\n"
     ]
    }
   ],
   "source": [
    "import io\n",
    "import pandas as pd\n",
    "df = pd.read_csv(io.BytesIO(uploaded['movies_metadata.csv']))\n",
    "# Dataset is now stored in a Pandas Dataframe"
   ]
  },
  {
   "cell_type": "code",
   "execution_count": 878,
   "metadata": {
    "colab": {
     "base_uri": "https://localhost:8080/"
    },
    "id": "afeeMa6kKbEW",
    "outputId": "1533e1a5-eb73-4537-c172-0c123cb32584"
   },
   "outputs": [
    {
     "data": {
      "text/plain": [
       "(45466, 24)"
      ]
     },
     "execution_count": 878,
     "metadata": {
      "tags": []
     },
     "output_type": "execute_result"
    }
   ],
   "source": [
    "df.shape"
   ]
  },
  {
   "cell_type": "code",
   "execution_count": 879,
   "metadata": {
    "colab": {
     "base_uri": "https://localhost:8080/"
    },
    "id": "jlFC_yz-Kae5",
    "outputId": "c3bfccfd-a7aa-46e8-e04e-1a6ffe31294a"
   },
   "outputs": [
    {
     "data": {
      "text/plain": [
       "38052"
      ]
     },
     "execution_count": 879,
     "metadata": {
      "tags": []
     },
     "output_type": "execute_result"
    }
   ],
   "source": [
    "(df.revenue == 0).sum()"
   ]
  },
  {
   "cell_type": "markdown",
   "metadata": {
    "id": "AxEu2vxOMD2x"
   },
   "source": [
    "38k registros con revenue = 0"
   ]
  },
  {
   "cell_type": "code",
   "execution_count": 880,
   "metadata": {
    "id": "VKHqFAPpMFmt"
   },
   "outputs": [],
   "source": [
    "df = df[df.revenue > 0]"
   ]
  },
  {
   "cell_type": "code",
   "execution_count": 881,
   "metadata": {
    "colab": {
     "base_uri": "https://localhost:8080/"
    },
    "id": "WgrAYmxgMLMH",
    "outputId": "57b43ae4-8cc0-4a74-8c0c-a8a92d74bab7"
   },
   "outputs": [
    {
     "data": {
      "text/plain": [
       "(7408, 24)"
      ]
     },
     "execution_count": 881,
     "metadata": {
      "tags": []
     },
     "output_type": "execute_result"
    }
   ],
   "source": [
    "df.shape"
   ]
  },
  {
   "cell_type": "markdown",
   "metadata": {
    "id": "xE3hVC2CMcAO"
   },
   "source": [
    "Quedan 7408 registros si nos quedamos con los revenue > *0*"
   ]
  },
  {
   "cell_type": "code",
   "execution_count": 882,
   "metadata": {
    "colab": {
     "base_uri": "https://localhost:8080/"
    },
    "id": "bXsze-UKMf7k",
    "outputId": "393bede6-1b6c-4815-cfbd-fb306f3650a8"
   },
   "outputs": [
    {
     "data": {
      "text/plain": [
       "Index(['adult', 'belongs_to_collection', 'budget', 'genres', 'homepage', 'id',\n",
       "       'imdb_id', 'original_language', 'original_title', 'overview',\n",
       "       'popularity', 'poster_path', 'production_companies',\n",
       "       'production_countries', 'release_date', 'revenue', 'runtime',\n",
       "       'spoken_languages', 'status', 'tagline', 'title', 'video',\n",
       "       'vote_average', 'vote_count'],\n",
       "      dtype='object')"
      ]
     },
     "execution_count": 882,
     "metadata": {
      "tags": []
     },
     "output_type": "execute_result"
    }
   ],
   "source": [
    "df.columns"
   ]
  },
  {
   "cell_type": "code",
   "execution_count": 883,
   "metadata": {
    "colab": {
     "base_uri": "https://localhost:8080/"
    },
    "id": "LEeSWjImNXJU",
    "outputId": "521fe81c-2e96-49e5-ab36-a180c033aac3"
   },
   "outputs": [
    {
     "data": {
      "text/plain": [
       "0"
      ]
     },
     "execution_count": 883,
     "metadata": {
      "tags": []
     },
     "output_type": "execute_result"
    }
   ],
   "source": [
    "(df.video == True).sum()"
   ]
  },
  {
   "cell_type": "code",
   "execution_count": 884,
   "metadata": {
    "colab": {
     "base_uri": "https://localhost:8080/"
    },
    "id": "6WyCVAMkNicU",
    "outputId": "24ee7484-cfb0-4d24-82c7-2e67127eeae4"
   },
   "outputs": [
    {
     "data": {
      "text/plain": [
       "13"
      ]
     },
     "execution_count": 884,
     "metadata": {
      "tags": []
     },
     "output_type": "execute_result"
    }
   ],
   "source": [
    "(df.status != 'Released').sum()"
   ]
  },
  {
   "cell_type": "code",
   "execution_count": 885,
   "metadata": {
    "colab": {
     "base_uri": "https://localhost:8080/"
    },
    "id": "1HuoaUJFOTRn",
    "outputId": "10b6a757-3344-4ede-8999-cf213d33491e"
   },
   "outputs": [
    {
     "data": {
      "text/plain": [
       "0"
      ]
     },
     "execution_count": 885,
     "metadata": {
      "tags": []
     },
     "output_type": "execute_result"
    }
   ],
   "source": [
    "(df.adult != 'False').sum()"
   ]
  },
  {
   "cell_type": "markdown",
   "metadata": {
    "id": "aCXbCVAlOI0-"
   },
   "source": [
    "Siendo que hay tan poca variabilidad en los valores de estas columnas las quito tambien."
   ]
  },
  {
   "cell_type": "code",
   "execution_count": 886,
   "metadata": {
    "id": "JZIqpBJuOL2Z"
   },
   "outputs": [],
   "source": [
    "df = df[['belongs_to_collection', 'budget', 'genres',\n",
    "       'imdb_id', 'original_language', 'overview',\n",
    "       'popularity', 'production_companies',\n",
    "       'production_countries', 'release_date', 'revenue', 'runtime', 'title','vote_average', 'vote_count']]"
   ]
  },
  {
   "cell_type": "code",
   "execution_count": 887,
   "metadata": {
    "colab": {
     "base_uri": "https://localhost:8080/",
     "height": 635
    },
    "id": "J8QU4IuJOgh3",
    "outputId": "69204501-dbfb-45fb-edc6-5b8fddd48b36"
   },
   "outputs": [
    {
     "data": {
      "text/html": [
       "<div>\n",
       "<style scoped>\n",
       "    .dataframe tbody tr th:only-of-type {\n",
       "        vertical-align: middle;\n",
       "    }\n",
       "\n",
       "    .dataframe tbody tr th {\n",
       "        vertical-align: top;\n",
       "    }\n",
       "\n",
       "    .dataframe thead th {\n",
       "        text-align: right;\n",
       "    }\n",
       "</style>\n",
       "<table border=\"1\" class=\"dataframe\">\n",
       "  <thead>\n",
       "    <tr style=\"text-align: right;\">\n",
       "      <th></th>\n",
       "      <th>belongs_to_collection</th>\n",
       "      <th>budget</th>\n",
       "      <th>genres</th>\n",
       "      <th>imdb_id</th>\n",
       "      <th>original_language</th>\n",
       "      <th>overview</th>\n",
       "      <th>popularity</th>\n",
       "      <th>production_companies</th>\n",
       "      <th>production_countries</th>\n",
       "      <th>release_date</th>\n",
       "      <th>revenue</th>\n",
       "      <th>runtime</th>\n",
       "      <th>title</th>\n",
       "      <th>vote_average</th>\n",
       "      <th>vote_count</th>\n",
       "    </tr>\n",
       "  </thead>\n",
       "  <tbody>\n",
       "    <tr>\n",
       "      <th>0</th>\n",
       "      <td>{'id': 10194, 'name': 'Toy Story Collection', ...</td>\n",
       "      <td>30000000</td>\n",
       "      <td>[{'id': 16, 'name': 'Animation'}, {'id': 35, '...</td>\n",
       "      <td>tt0114709</td>\n",
       "      <td>en</td>\n",
       "      <td>Led by Woody, Andy's toys live happily in his ...</td>\n",
       "      <td>21.9469</td>\n",
       "      <td>[{'name': 'Pixar Animation Studios', 'id': 3}]</td>\n",
       "      <td>[{'iso_3166_1': 'US', 'name': 'United States o...</td>\n",
       "      <td>1995-10-30</td>\n",
       "      <td>373554033.0</td>\n",
       "      <td>81.0</td>\n",
       "      <td>Toy Story</td>\n",
       "      <td>7.7</td>\n",
       "      <td>5415.0</td>\n",
       "    </tr>\n",
       "    <tr>\n",
       "      <th>1</th>\n",
       "      <td>NaN</td>\n",
       "      <td>65000000</td>\n",
       "      <td>[{'id': 12, 'name': 'Adventure'}, {'id': 14, '...</td>\n",
       "      <td>tt0113497</td>\n",
       "      <td>en</td>\n",
       "      <td>When siblings Judy and Peter discover an encha...</td>\n",
       "      <td>17.0155</td>\n",
       "      <td>[{'name': 'TriStar Pictures', 'id': 559}, {'na...</td>\n",
       "      <td>[{'iso_3166_1': 'US', 'name': 'United States o...</td>\n",
       "      <td>1995-12-15</td>\n",
       "      <td>262797249.0</td>\n",
       "      <td>104.0</td>\n",
       "      <td>Jumanji</td>\n",
       "      <td>6.9</td>\n",
       "      <td>2413.0</td>\n",
       "    </tr>\n",
       "    <tr>\n",
       "      <th>3</th>\n",
       "      <td>NaN</td>\n",
       "      <td>16000000</td>\n",
       "      <td>[{'id': 35, 'name': 'Comedy'}, {'id': 18, 'nam...</td>\n",
       "      <td>tt0114885</td>\n",
       "      <td>en</td>\n",
       "      <td>Cheated on, mistreated and stepped on, the wom...</td>\n",
       "      <td>3.85949</td>\n",
       "      <td>[{'name': 'Twentieth Century Fox Film Corporat...</td>\n",
       "      <td>[{'iso_3166_1': 'US', 'name': 'United States o...</td>\n",
       "      <td>1995-12-22</td>\n",
       "      <td>81452156.0</td>\n",
       "      <td>127.0</td>\n",
       "      <td>Waiting to Exhale</td>\n",
       "      <td>6.1</td>\n",
       "      <td>34.0</td>\n",
       "    </tr>\n",
       "    <tr>\n",
       "      <th>4</th>\n",
       "      <td>{'id': 96871, 'name': 'Father of the Bride Col...</td>\n",
       "      <td>0</td>\n",
       "      <td>[{'id': 35, 'name': 'Comedy'}]</td>\n",
       "      <td>tt0113041</td>\n",
       "      <td>en</td>\n",
       "      <td>Just when George Banks has recovered from his ...</td>\n",
       "      <td>8.38752</td>\n",
       "      <td>[{'name': 'Sandollar Productions', 'id': 5842}...</td>\n",
       "      <td>[{'iso_3166_1': 'US', 'name': 'United States o...</td>\n",
       "      <td>1995-02-10</td>\n",
       "      <td>76578911.0</td>\n",
       "      <td>106.0</td>\n",
       "      <td>Father of the Bride Part II</td>\n",
       "      <td>5.7</td>\n",
       "      <td>173.0</td>\n",
       "    </tr>\n",
       "    <tr>\n",
       "      <th>5</th>\n",
       "      <td>NaN</td>\n",
       "      <td>60000000</td>\n",
       "      <td>[{'id': 28, 'name': 'Action'}, {'id': 80, 'nam...</td>\n",
       "      <td>tt0113277</td>\n",
       "      <td>en</td>\n",
       "      <td>Obsessive master thief, Neil McCauley leads a ...</td>\n",
       "      <td>17.9249</td>\n",
       "      <td>[{'name': 'Regency Enterprises', 'id': 508}, {...</td>\n",
       "      <td>[{'iso_3166_1': 'US', 'name': 'United States o...</td>\n",
       "      <td>1995-12-15</td>\n",
       "      <td>187436818.0</td>\n",
       "      <td>170.0</td>\n",
       "      <td>Heat</td>\n",
       "      <td>7.7</td>\n",
       "      <td>1886.0</td>\n",
       "    </tr>\n",
       "  </tbody>\n",
       "</table>\n",
       "</div>"
      ],
      "text/plain": [
       "                               belongs_to_collection  ... vote_count\n",
       "0  {'id': 10194, 'name': 'Toy Story Collection', ...  ...     5415.0\n",
       "1                                                NaN  ...     2413.0\n",
       "3                                                NaN  ...       34.0\n",
       "4  {'id': 96871, 'name': 'Father of the Bride Col...  ...      173.0\n",
       "5                                                NaN  ...     1886.0\n",
       "\n",
       "[5 rows x 15 columns]"
      ]
     },
     "execution_count": 887,
     "metadata": {
      "tags": []
     },
     "output_type": "execute_result"
    }
   ],
   "source": [
    "df.head()"
   ]
  },
  {
   "cell_type": "code",
   "execution_count": 888,
   "metadata": {
    "colab": {
     "base_uri": "https://localhost:8080/",
     "height": 53
    },
    "id": "3Kvuw2K8PGhV",
    "outputId": "67f87ca3-a541-462e-adcf-2e1660860cd2"
   },
   "outputs": [
    {
     "data": {
      "application/vnd.google.colaboratory.intrinsic+json": {
       "type": "string"
      },
      "text/plain": [
       "\"{'id': 10194, 'name': 'Toy Story Collection', 'poster_path': '/7G9915LfUQ2lVfwMEEhDsn3kT4B.jpg', 'backdrop_path': '/9FBwqcd9IRruEDUrTdcaafOMKUq.jpg'}\""
      ]
     },
     "execution_count": 888,
     "metadata": {
      "tags": []
     },
     "output_type": "execute_result"
    }
   ],
   "source": [
    "df.belongs_to_collection[0]"
   ]
  },
  {
   "cell_type": "markdown",
   "metadata": {
    "id": "AQrBRh26Uvas"
   },
   "source": [
    "Hago a los nulls o na de la columna belongs_to_collection = 0\n"
   ]
  },
  {
   "cell_type": "code",
   "execution_count": 889,
   "metadata": {
    "id": "UOyHyXXbT8Wc"
   },
   "outputs": [],
   "source": [
    "df['belongs_to_collection'].fillna(0, inplace = True)"
   ]
  },
  {
   "cell_type": "code",
   "execution_count": 890,
   "metadata": {
    "colab": {
     "base_uri": "https://localhost:8080/"
    },
    "id": "U6ry3ZJNUs_1",
    "outputId": "c24dcb47-2e63-4248-b2c6-89308141bc2f"
   },
   "outputs": [
    {
     "data": {
      "text/plain": [
       "0"
      ]
     },
     "execution_count": 890,
     "metadata": {
      "tags": []
     },
     "output_type": "execute_result"
    }
   ],
   "source": [
    "df['belongs_to_collection'].isnull().sum()"
   ]
  },
  {
   "cell_type": "markdown",
   "metadata": {
    "id": "mv27bvk_VIRf"
   },
   "source": [
    "Limpio el diccionario para quedarme solo con el nombre de la colección"
   ]
  },
  {
   "cell_type": "code",
   "execution_count": 891,
   "metadata": {
    "id": "SDiPXr1DS4nu"
   },
   "outputs": [],
   "source": [
    "import ast\n",
    "def collection_from_dict(x):\n",
    "  if x != 0:\n",
    "   #convert string to dictionary\n",
    "    res = ast.literal_eval(x) \n",
    "    #return just the name of the collection\n",
    "    return res['name']\n",
    "  return 0\n",
    "df['collection'] = df.belongs_to_collection.apply(lambda x: collection_from_dict(x))\n"
   ]
  },
  {
   "cell_type": "code",
   "execution_count": 892,
   "metadata": {
    "colab": {
     "base_uri": "https://localhost:8080/"
    },
    "id": "l7cTLQ-xU_vk",
    "outputId": "586e6d48-2631-403e-e105-dc13893e9deb"
   },
   "outputs": [
    {
     "data": {
      "text/plain": [
       "0              Toy Story Collection\n",
       "1                                 0\n",
       "3                                 0\n",
       "4    Father of the Bride Collection\n",
       "5                                 0\n",
       "Name: collection, dtype: object"
      ]
     },
     "execution_count": 892,
     "metadata": {
      "tags": []
     },
     "output_type": "execute_result"
    }
   ],
   "source": [
    "df.collection.head()"
   ]
  },
  {
   "cell_type": "markdown",
   "metadata": {
    "id": "F-3EQJdzVe6F"
   },
   "source": [
    "Elimino la columna antigua"
   ]
  },
  {
   "cell_type": "code",
   "execution_count": 893,
   "metadata": {
    "id": "MI_xNWEsPajL"
   },
   "outputs": [],
   "source": [
    "df.drop(columns = 'belongs_to_collection', inplace = True)"
   ]
  },
  {
   "cell_type": "markdown",
   "metadata": {
    "id": "yKyJKQ0PVlz-"
   },
   "source": [
    "Hago lo mismo con genres, production_companies y production_countries"
   ]
  },
  {
   "cell_type": "code",
   "execution_count": 894,
   "metadata": {
    "id": "SW0oyLf8Vrze"
   },
   "outputs": [],
   "source": [
    "df['genres'].fillna(0, inplace = True)\n",
    "df.genres.replace('[]', 0, inplace = True)\n",
    "df['production_companies'].fillna(0, inplace = True)\n",
    "df.production_companies.replace('[]', 0, inplace = True)\n",
    "df['production_countries'].fillna(0, inplace = True)\n",
    "df.production_countries.replace('[]', 0, inplace = True)"
   ]
  },
  {
   "cell_type": "code",
   "execution_count": 895,
   "metadata": {
    "colab": {
     "base_uri": "https://localhost:8080/",
     "height": 635
    },
    "id": "FjVZuF6qV6yn",
    "outputId": "8e5004b8-6536-4b5e-d5da-114494fd6db8"
   },
   "outputs": [
    {
     "data": {
      "text/html": [
       "<div>\n",
       "<style scoped>\n",
       "    .dataframe tbody tr th:only-of-type {\n",
       "        vertical-align: middle;\n",
       "    }\n",
       "\n",
       "    .dataframe tbody tr th {\n",
       "        vertical-align: top;\n",
       "    }\n",
       "\n",
       "    .dataframe thead th {\n",
       "        text-align: right;\n",
       "    }\n",
       "</style>\n",
       "<table border=\"1\" class=\"dataframe\">\n",
       "  <thead>\n",
       "    <tr style=\"text-align: right;\">\n",
       "      <th></th>\n",
       "      <th>budget</th>\n",
       "      <th>imdb_id</th>\n",
       "      <th>original_language</th>\n",
       "      <th>overview</th>\n",
       "      <th>popularity</th>\n",
       "      <th>release_date</th>\n",
       "      <th>revenue</th>\n",
       "      <th>runtime</th>\n",
       "      <th>title</th>\n",
       "      <th>vote_average</th>\n",
       "      <th>vote_count</th>\n",
       "      <th>collection</th>\n",
       "      <th>genre</th>\n",
       "      <th>production</th>\n",
       "      <th>country</th>\n",
       "    </tr>\n",
       "  </thead>\n",
       "  <tbody>\n",
       "    <tr>\n",
       "      <th>0</th>\n",
       "      <td>30000000</td>\n",
       "      <td>tt0114709</td>\n",
       "      <td>en</td>\n",
       "      <td>Led by Woody, Andy's toys live happily in his ...</td>\n",
       "      <td>21.9469</td>\n",
       "      <td>1995-10-30</td>\n",
       "      <td>373554033.0</td>\n",
       "      <td>81.0</td>\n",
       "      <td>Toy Story</td>\n",
       "      <td>7.7</td>\n",
       "      <td>5415.0</td>\n",
       "      <td>Toy Story Collection</td>\n",
       "      <td>Animation</td>\n",
       "      <td>Pixar Animation Studios</td>\n",
       "      <td>United States of America</td>\n",
       "    </tr>\n",
       "    <tr>\n",
       "      <th>1</th>\n",
       "      <td>65000000</td>\n",
       "      <td>tt0113497</td>\n",
       "      <td>en</td>\n",
       "      <td>When siblings Judy and Peter discover an encha...</td>\n",
       "      <td>17.0155</td>\n",
       "      <td>1995-12-15</td>\n",
       "      <td>262797249.0</td>\n",
       "      <td>104.0</td>\n",
       "      <td>Jumanji</td>\n",
       "      <td>6.9</td>\n",
       "      <td>2413.0</td>\n",
       "      <td>0</td>\n",
       "      <td>Adventure</td>\n",
       "      <td>TriStar Pictures</td>\n",
       "      <td>United States of America</td>\n",
       "    </tr>\n",
       "    <tr>\n",
       "      <th>3</th>\n",
       "      <td>16000000</td>\n",
       "      <td>tt0114885</td>\n",
       "      <td>en</td>\n",
       "      <td>Cheated on, mistreated and stepped on, the wom...</td>\n",
       "      <td>3.85949</td>\n",
       "      <td>1995-12-22</td>\n",
       "      <td>81452156.0</td>\n",
       "      <td>127.0</td>\n",
       "      <td>Waiting to Exhale</td>\n",
       "      <td>6.1</td>\n",
       "      <td>34.0</td>\n",
       "      <td>0</td>\n",
       "      <td>Comedy</td>\n",
       "      <td>Twentieth Century Fox Film Corporation</td>\n",
       "      <td>United States of America</td>\n",
       "    </tr>\n",
       "    <tr>\n",
       "      <th>4</th>\n",
       "      <td>0</td>\n",
       "      <td>tt0113041</td>\n",
       "      <td>en</td>\n",
       "      <td>Just when George Banks has recovered from his ...</td>\n",
       "      <td>8.38752</td>\n",
       "      <td>1995-02-10</td>\n",
       "      <td>76578911.0</td>\n",
       "      <td>106.0</td>\n",
       "      <td>Father of the Bride Part II</td>\n",
       "      <td>5.7</td>\n",
       "      <td>173.0</td>\n",
       "      <td>Father of the Bride Collection</td>\n",
       "      <td>Comedy</td>\n",
       "      <td>Sandollar Productions</td>\n",
       "      <td>United States of America</td>\n",
       "    </tr>\n",
       "    <tr>\n",
       "      <th>5</th>\n",
       "      <td>60000000</td>\n",
       "      <td>tt0113277</td>\n",
       "      <td>en</td>\n",
       "      <td>Obsessive master thief, Neil McCauley leads a ...</td>\n",
       "      <td>17.9249</td>\n",
       "      <td>1995-12-15</td>\n",
       "      <td>187436818.0</td>\n",
       "      <td>170.0</td>\n",
       "      <td>Heat</td>\n",
       "      <td>7.7</td>\n",
       "      <td>1886.0</td>\n",
       "      <td>0</td>\n",
       "      <td>Action</td>\n",
       "      <td>Regency Enterprises</td>\n",
       "      <td>United States of America</td>\n",
       "    </tr>\n",
       "  </tbody>\n",
       "</table>\n",
       "</div>"
      ],
      "text/plain": [
       "     budget  ...                   country\n",
       "0  30000000  ...  United States of America\n",
       "1  65000000  ...  United States of America\n",
       "3  16000000  ...  United States of America\n",
       "4         0  ...  United States of America\n",
       "5  60000000  ...  United States of America\n",
       "\n",
       "[5 rows x 15 columns]"
      ]
     },
     "execution_count": 895,
     "metadata": {
      "tags": []
     },
     "output_type": "execute_result"
    }
   ],
   "source": [
    "#aplico la funcion para crear las nuevas columnas (me quedo solo con el valor del primer dict)\n",
    "def first_name_from_dict(x):\n",
    "  if x != 0:\n",
    "    #convert string to dictionary\n",
    "    res = ast.literal_eval(x) \n",
    "    #return just the name of the first dict\n",
    "    return res[0]['name']\n",
    "  return 0\n",
    "\n",
    "\n",
    "df['genre'] = df.genres.apply(lambda x: first_name_from_dict(x))\n",
    "df['production'] = df.production_companies.apply(lambda x: first_name_from_dict(x))\n",
    "df['country'] = df.production_countries.apply(lambda x: first_name_from_dict(x))\n",
    "\n",
    "#elimino las columnas antiguas\n",
    "df.drop(columns = ['genres', 'production_companies', 'production_countries'], inplace = True)\n",
    "df.head()"
   ]
  },
  {
   "cell_type": "code",
   "execution_count": 896,
   "metadata": {
    "colab": {
     "base_uri": "https://localhost:8080/"
    },
    "id": "QQPxXuIAYihF",
    "outputId": "633ea56d-1cbf-4d52-cd5c-29bf25195771"
   },
   "outputs": [
    {
     "data": {
      "text/plain": [
       "22"
      ]
     },
     "execution_count": 896,
     "metadata": {
      "tags": []
     },
     "output_type": "execute_result"
    }
   ],
   "source": [
    "df.overview.isnull().values.sum()"
   ]
  },
  {
   "cell_type": "code",
   "execution_count": 897,
   "metadata": {
    "colab": {
     "base_uri": "https://localhost:8080/"
    },
    "id": "7SLEs6lBZ2kS",
    "outputId": "0f9e3e56-3e44-41eb-8e81-49a8af1d0724"
   },
   "outputs": [
    {
     "data": {
      "text/plain": [
       "1"
      ]
     },
     "execution_count": 897,
     "metadata": {
      "tags": []
     },
     "output_type": "execute_result"
    }
   ],
   "source": [
    "df.release_date.isnull().values.sum()"
   ]
  },
  {
   "cell_type": "code",
   "execution_count": 898,
   "metadata": {
    "colab": {
     "base_uri": "https://localhost:8080/"
    },
    "id": "HWOGdcdIaBr3",
    "outputId": "9f6ea2d3-90c0-4466-c5ff-8b1db647d5d5"
   },
   "outputs": [
    {
     "data": {
      "text/plain": [
       "6"
      ]
     },
     "execution_count": 898,
     "metadata": {
      "tags": []
     },
     "output_type": "execute_result"
    }
   ],
   "source": [
    "df.runtime.isnull().values.sum()"
   ]
  },
  {
   "cell_type": "markdown",
   "metadata": {
    "id": "rvHYK8kvaT1H"
   },
   "source": [
    "Elimino las filas de release_date, runtime y overview que tienen null dado que son poquitos registros."
   ]
  },
  {
   "cell_type": "code",
   "execution_count": 899,
   "metadata": {
    "id": "uF1oRzJ3a2SD"
   },
   "outputs": [],
   "source": [
    "df.fillna(0, inplace= True)"
   ]
  },
  {
   "cell_type": "code",
   "execution_count": 900,
   "metadata": {
    "id": "YU8EdZ2yacIB"
   },
   "outputs": [],
   "source": [
    "df = df[df.overview != 0]\n",
    "df = df[df.runtime != 0]\n",
    "df = df[df.release_date != 0]"
   ]
  },
  {
   "cell_type": "code",
   "execution_count": 901,
   "metadata": {
    "colab": {
     "base_uri": "https://localhost:8080/"
    },
    "id": "wBwOcJanaiop",
    "outputId": "48420a24-004b-4b1c-a359-59a7ecc5b310"
   },
   "outputs": [
    {
     "data": {
      "text/plain": [
       "0"
      ]
     },
     "execution_count": 901,
     "metadata": {
      "tags": []
     },
     "output_type": "execute_result"
    }
   ],
   "source": [
    "df.isnull().values.sum()"
   ]
  },
  {
   "cell_type": "code",
   "execution_count": 902,
   "metadata": {
    "colab": {
     "base_uri": "https://localhost:8080/"
    },
    "id": "EXXSADURa3hy",
    "outputId": "27562b57-2db4-45cf-fe37-c6eed1bceeba"
   },
   "outputs": [
    {
     "data": {
      "text/plain": [
       "5895"
      ]
     },
     "execution_count": 902,
     "metadata": {
      "tags": []
     },
     "output_type": "execute_result"
    }
   ],
   "source": [
    "#dado que la mayoria no pertenece a una coleccion, voy a hacer que sea una variable binaria. 0 si no pertences, 1 si perteneces\n",
    "(df.collection == 0).sum()"
   ]
  },
  {
   "cell_type": "code",
   "execution_count": 903,
   "metadata": {
    "colab": {
     "base_uri": "https://localhost:8080/",
     "height": 136
    },
    "id": "VZ0iHZKUbbM0",
    "outputId": "5d0fab6b-f541-43cf-b95f-640d917a2e3d"
   },
   "outputs": [
    {
     "data": {
      "text/html": [
       "<div>\n",
       "<style scoped>\n",
       "    .dataframe tbody tr th:only-of-type {\n",
       "        vertical-align: middle;\n",
       "    }\n",
       "\n",
       "    .dataframe tbody tr th {\n",
       "        vertical-align: top;\n",
       "    }\n",
       "\n",
       "    .dataframe thead th {\n",
       "        text-align: right;\n",
       "    }\n",
       "</style>\n",
       "<table border=\"1\" class=\"dataframe\">\n",
       "  <thead>\n",
       "    <tr style=\"text-align: right;\">\n",
       "      <th>col_0</th>\n",
       "      <th>count</th>\n",
       "    </tr>\n",
       "    <tr>\n",
       "      <th>collection</th>\n",
       "      <th></th>\n",
       "    </tr>\n",
       "  </thead>\n",
       "  <tbody>\n",
       "    <tr>\n",
       "      <th>0</th>\n",
       "      <td>5895</td>\n",
       "    </tr>\n",
       "    <tr>\n",
       "      <th>1</th>\n",
       "      <td>1480</td>\n",
       "    </tr>\n",
       "  </tbody>\n",
       "</table>\n",
       "</div>"
      ],
      "text/plain": [
       "col_0       count\n",
       "collection       \n",
       "0            5895\n",
       "1            1480"
      ]
     },
     "execution_count": 903,
     "metadata": {
      "tags": []
     },
     "output_type": "execute_result"
    }
   ],
   "source": [
    "def collection(x):\n",
    "  if x != 0:\n",
    "    return 1\n",
    "  return 0\n",
    "df.collection = df.collection.apply(lambda x: collection(x))\n",
    "\n",
    "pd.crosstab(index = df.collection, columns = 'count')"
   ]
  },
  {
   "cell_type": "markdown",
   "metadata": {
    "id": "FnKUBrw67aOE"
   },
   "source": [
    "##Runtime"
   ]
  },
  {
   "cell_type": "code",
   "execution_count": 904,
   "metadata": {
    "colab": {
     "base_uri": "https://localhost:8080/",
     "height": 265
    },
    "id": "48Dz1i5E7PCh",
    "outputId": "76812a11-4f0b-40ee-bccf-0299934bcb8a"
   },
   "outputs": [
    {
     "data": {
      "image/png": "[encoded data removed]",
      "text/plain": [
       "<Figure size 432x288 with 1 Axes>"
      ]
     },
     "metadata": {
      "needs_background": "light",
      "tags": []
     },
     "output_type": "display_data"
    }
   ],
   "source": [
    "x = df.runtime\n",
    "plt.hist(x, bins = 100)\n",
    "plt.show()"
   ]
  },
  {
   "cell_type": "code",
   "execution_count": 905,
   "metadata": {
    "colab": {
     "base_uri": "https://localhost:8080/",
     "height": 265
    },
    "id": "sekJzHuH73hv",
    "outputId": "b33648e5-51ab-43e7-d31c-26bd0deb27be"
   },
   "outputs": [
    {
     "data": {
      "image/png": "[encoded data removed]",
      "text/plain": [
       "<Figure size 432x288 with 1 Axes>"
      ]
     },
     "metadata": {
      "needs_background": "light",
      "tags": []
     },
     "output_type": "display_data"
    }
   ],
   "source": [
    "upper_lim = np.mean(df.runtime) + np.std(df.runtime)*2\n",
    "lower_lim = np.mean(df.runtime) - np.std(df.runtime)*2\n",
    "\n",
    "df = df[df.runtime > lower_lim]\n",
    "df = df[df.runtime < upper_lim]\n",
    "\n",
    "x = df.runtime\n",
    "plt.hist(x, bins = 100)\n",
    "plt.show()"
   ]
  },
  {
   "cell_type": "code",
   "execution_count": 906,
   "metadata": {
    "colab": {
     "base_uri": "https://localhost:8080/"
    },
    "id": "fYHClAzW9o8m",
    "outputId": "43041452-158c-4932-8169-177251f80023"
   },
   "outputs": [
    {
     "data": {
      "text/plain": [
       "(7035, 15)"
      ]
     },
     "execution_count": 906,
     "metadata": {
      "tags": []
     },
     "output_type": "execute_result"
    }
   ],
   "source": [
    "df.shape"
   ]
  },
  {
   "cell_type": "markdown",
   "metadata": {
    "id": "wPIEKOxma-dj"
   },
   "source": [
    "##Budget"
   ]
  },
  {
   "cell_type": "code",
   "execution_count": 907,
   "metadata": {
    "colab": {
     "base_uri": "https://localhost:8080/",
     "height": 265
    },
    "id": "E6vS3gTB7ZiF",
    "outputId": "186991d0-7ea1-40e1-e499-b086ef8e0e1d"
   },
   "outputs": [
    {
     "data": {
      "image/png": "[encoded data removed]",
      "text/plain": [
       "<Figure size 432x288 with 1 Axes>"
      ]
     },
     "metadata": {
      "needs_background": "light",
      "tags": []
     },
     "output_type": "display_data"
    }
   ],
   "source": [
    "x = df.budget\n",
    "plt.hist(x, bins = 100)\n",
    "plt.show()"
   ]
  },
  {
   "cell_type": "markdown",
   "metadata": {
    "id": "xs92_NItEzcK"
   },
   "source": [
    "## Release date"
   ]
  },
  {
   "cell_type": "code",
   "execution_count": 908,
   "metadata": {
    "id": "YIf6jbCNEE6O"
   },
   "outputs": [],
   "source": [
    "df['release_date'] = pd.to_datetime(df['release_date'])"
   ]
  },
  {
   "cell_type": "code",
   "execution_count": 909,
   "metadata": {
    "id": "pFVwB9llE5KQ"
   },
   "outputs": [],
   "source": [
    "#Trabajo solo con el año de la pelicula\n",
    "df['year'] = pd.DatetimeIndex(df['release_date']).year"
   ]
  },
  {
   "cell_type": "code",
   "execution_count": 910,
   "metadata": {
    "id": "v50iWdDKFhC1"
   },
   "outputs": [],
   "source": [
    "df.drop(columns = ['release_date'], inplace = True)"
   ]
  },
  {
   "cell_type": "code",
   "execution_count": 911,
   "metadata": {
    "colab": {
     "base_uri": "https://localhost:8080/",
     "height": 268
    },
    "id": "bv3R3Qm4F0xw",
    "outputId": "c149d76f-4be0-470e-84e7-44f4c1f6b2c9"
   },
   "outputs": [
    {
     "data": {
      "image/png": "[encoded data removed]",
      "text/plain": [
       "<Figure size 432x288 with 1 Axes>"
      ]
     },
     "metadata": {
      "needs_background": "light",
      "tags": []
     },
     "output_type": "display_data"
    }
   ],
   "source": [
    "x = df.year\n",
    "plt.hist(x, bins = 100)\n",
    "plt.show()"
   ]
  },
  {
   "cell_type": "code",
   "execution_count": 912,
   "metadata": {
    "id": "H2fCEZo6F5v0"
   },
   "outputs": [],
   "source": [
    "#Me quedo con las peliculas del 1985 en adelante\n",
    "df = df[df.year > 1985]"
   ]
  },
  {
   "cell_type": "code",
   "execution_count": 913,
   "metadata": {
    "colab": {
     "base_uri": "https://localhost:8080/",
     "height": 265
    },
    "id": "4Mm3UU-EGCe1",
    "outputId": "5de839aa-20ea-4001-9de8-386de9c2519e"
   },
   "outputs": [
    {
     "data": {
      "image/png": "[encoded data removed]",
      "text/plain": [
       "<Figure size 432x288 with 1 Axes>"
      ]
     },
     "metadata": {
      "needs_background": "light",
      "tags": []
     },
     "output_type": "display_data"
    }
   ],
   "source": [
    "x = df.year\n",
    "plt.hist(x, bins = 10)\n",
    "plt.show()"
   ]
  },
  {
   "cell_type": "markdown",
   "metadata": {
    "id": "UR1pcZaqiRMs"
   },
   "source": [
    "##Revenue"
   ]
  },
  {
   "cell_type": "code",
   "execution_count": 914,
   "metadata": {
    "colab": {
     "base_uri": "https://localhost:8080/",
     "height": 269
    },
    "id": "UVFMggIDcADw",
    "outputId": "6f6ca5e0-91da-4bde-ce53-ed7b947c76ab"
   },
   "outputs": [
    {
     "data": {
      "image/png": "[encoded data removed]",
      "text/plain": [
       "<Figure size 432x288 with 1 Axes>"
      ]
     },
     "metadata": {
      "needs_background": "light",
      "tags": []
     },
     "output_type": "display_data"
    }
   ],
   "source": [
    "import matplotlib.pyplot as plt\n",
    "\n",
    "x = df.revenue\n",
    "plt.hist(x, bins = 500)\n",
    "plt.xscale('log')\n",
    "plt.show()"
   ]
  },
  {
   "cell_type": "code",
   "execution_count": 915,
   "metadata": {
    "id": "drQo-UXUfab5"
   },
   "outputs": [],
   "source": [
    "cat = pd.qcut(df['revenue'], q=4)"
   ]
  },
  {
   "cell_type": "code",
   "execution_count": 916,
   "metadata": {
    "colab": {
     "base_uri": "https://localhost:8080/",
     "height": 195
    },
    "id": "RAB7pUZPfdN9",
    "outputId": "4ba15271-d81e-491e-b545-0209e1e0c3cd"
   },
   "outputs": [
    {
     "data": {
      "text/html": [
       "<div>\n",
       "<style scoped>\n",
       "    .dataframe tbody tr th:only-of-type {\n",
       "        vertical-align: middle;\n",
       "    }\n",
       "\n",
       "    .dataframe tbody tr th {\n",
       "        vertical-align: top;\n",
       "    }\n",
       "\n",
       "    .dataframe thead th {\n",
       "        text-align: right;\n",
       "    }\n",
       "</style>\n",
       "<table border=\"1\" class=\"dataframe\">\n",
       "  <thead>\n",
       "    <tr style=\"text-align: right;\">\n",
       "      <th>col_0</th>\n",
       "      <th>count</th>\n",
       "    </tr>\n",
       "    <tr>\n",
       "      <th>revenue</th>\n",
       "      <th></th>\n",
       "    </tr>\n",
       "  </thead>\n",
       "  <tbody>\n",
       "    <tr>\n",
       "      <th>(0.999, 2076423.5]</th>\n",
       "      <td>1511</td>\n",
       "    </tr>\n",
       "    <tr>\n",
       "      <th>(2076423.5, 17768012.0]</th>\n",
       "      <td>1511</td>\n",
       "    </tr>\n",
       "    <tr>\n",
       "      <th>(17768012.0, 74577879.0]</th>\n",
       "      <td>1510</td>\n",
       "    </tr>\n",
       "    <tr>\n",
       "      <th>(74577879.0, 2068223624.0]</th>\n",
       "      <td>1511</td>\n",
       "    </tr>\n",
       "  </tbody>\n",
       "</table>\n",
       "</div>"
      ],
      "text/plain": [
       "col_0                       count\n",
       "revenue                          \n",
       "(0.999, 2076423.5]           1511\n",
       "(2076423.5, 17768012.0]      1511\n",
       "(17768012.0, 74577879.0]     1510\n",
       "(74577879.0, 2068223624.0]   1511"
      ]
     },
     "execution_count": 916,
     "metadata": {
      "tags": []
     },
     "output_type": "execute_result"
    }
   ],
   "source": [
    "pd.crosstab(index = cat, columns = 'count')"
   ]
  },
  {
   "cell_type": "markdown",
   "metadata": {
    "id": "pluCDncYYm_S"
   },
   "source": [
    "Quito outliers usando la median absolute deviation porque no tiene una distribución de cola pesada.\n",
    "Hago la mediana +- 2.5 MAD"
   ]
  },
  {
   "cell_type": "code",
   "execution_count": 917,
   "metadata": {
    "colab": {
     "base_uri": "https://localhost:8080/"
    },
    "id": "JH6Hle8JYFfk",
    "outputId": "daa24cea-f36c-468e-9fa4-ccf515807d0a"
   },
   "outputs": [
    {
     "data": {
      "text/plain": [
       "(4629, 15)"
      ]
     },
     "execution_count": 917,
     "metadata": {
      "tags": []
     },
     "output_type": "execute_result"
    }
   ],
   "source": [
    "from scipy import stats\n",
    "from statistics import median\n",
    "mad =stats.median_absolute_deviation(df.revenue)\n",
    "med = median(df.revenue)\n",
    "\n",
    "upp_lim = med + 2.5*mad\n",
    "low_lim = med - 2.5*mad\n",
    "\n",
    "df = df[df.revenue < upp_lim]\n",
    "df = df[df.revenue > low_lim]\n",
    "df.shape"
   ]
  },
  {
   "cell_type": "code",
   "execution_count": 918,
   "metadata": {
    "colab": {
     "base_uri": "https://localhost:8080/",
     "height": 269
    },
    "id": "xoYZWw9WZF2_",
    "outputId": "c65c24b5-d40c-4342-dc90-cdc3c6d231dd"
   },
   "outputs": [
    {
     "data": {
      "image/png": "[encoded data removed]",
      "text/plain": [
       "<Figure size 432x288 with 1 Axes>"
      ]
     },
     "metadata": {
      "needs_background": "light",
      "tags": []
     },
     "output_type": "display_data"
    }
   ],
   "source": [
    "x = df.revenue\n",
    "plt.hist(x, bins = 500)\n",
    "plt.xscale('log')\n",
    "plt.show()"
   ]
  },
  {
   "cell_type": "markdown",
   "metadata": {
    "id": "e5KrKKqHf_5W"
   },
   "source": [
    "Creo dos columnas. Una divido al revenue en 4 cuartiles y la otra es dividir al revenue en 10 deciles"
   ]
  },
  {
   "cell_type": "code",
   "execution_count": 919,
   "metadata": {
    "id": "GQ-IMW9Pfren"
   },
   "outputs": [],
   "source": [
    "labels_4 = ['Bajo', 'Moderado', 'Alto', 'Muy Alto']\n",
    "labels_10 = ['Bajisimo','Muy Bajo','Bajo','Moderado Bajo','Moderado Medio','Moderado Alto','Alto Bajo','Alto Medio','Muy Alto','Altisimo']\n",
    "\n",
    "df['quantile_4'] = pd.qcut(df['revenue'], q=4, precision = 0, labels = labels_4)\n",
    "df['quantile_10'] = pd.qcut(df['revenue'], q=10, precision=0, labels = labels_10)\n"
   ]
  },
  {
   "cell_type": "code",
   "execution_count": 920,
   "metadata": {
    "id": "urNxidSAhUT5"
   },
   "outputs": [],
   "source": [
    "#CREO TABLAS PARA SABER QUE THRESHOLD CORRESPONDE A CADA TIER\n",
    "results4, bin_edges4 = pd.qcut(df['revenue'],\n",
    "                            q=4,\n",
    "                            labels=labels_4,\n",
    "                            retbins=True)\n",
    "\n",
    "results_table_4 = pd.DataFrame(zip(bin_edges4, labels_4),\n",
    "                            columns=['Threshold', 'Tier'])\n",
    "\n",
    "\n",
    "results10, bin_edges10 = pd.qcut(df['revenue'],\n",
    "                            q=10,\n",
    "                            labels=labels_10,\n",
    "                            retbins=True)\n",
    "\n",
    "results_table_10 = pd.DataFrame(zip(bin_edges10, labels_10),\n",
    "                            columns=['Threshold', 'Tier'])\n"
   ]
  },
  {
   "cell_type": "code",
   "execution_count": 921,
   "metadata": {
    "colab": {
     "base_uri": "https://localhost:8080/",
     "height": 166
    },
    "id": "5z11aaW4gFz6",
    "outputId": "b398727b-ad36-4307-a346-d6d5ff99e67b"
   },
   "outputs": [
    {
     "data": {
      "text/html": [
       "<div>\n",
       "<style scoped>\n",
       "    .dataframe tbody tr th:only-of-type {\n",
       "        vertical-align: middle;\n",
       "    }\n",
       "\n",
       "    .dataframe tbody tr th {\n",
       "        vertical-align: top;\n",
       "    }\n",
       "\n",
       "    .dataframe thead th {\n",
       "        text-align: right;\n",
       "    }\n",
       "</style>\n",
       "<table border=\"1\" class=\"dataframe\">\n",
       "  <thead>\n",
       "    <tr style=\"text-align: right;\">\n",
       "      <th></th>\n",
       "      <th>Threshold</th>\n",
       "      <th>Tier</th>\n",
       "    </tr>\n",
       "  </thead>\n",
       "  <tbody>\n",
       "    <tr>\n",
       "      <th>0</th>\n",
       "      <td>1.0</td>\n",
       "      <td>Bajo</td>\n",
       "    </tr>\n",
       "    <tr>\n",
       "      <th>1</th>\n",
       "      <td>944915.0</td>\n",
       "      <td>Moderado</td>\n",
       "    </tr>\n",
       "    <tr>\n",
       "      <th>2</th>\n",
       "      <td>8025872.0</td>\n",
       "      <td>Alto</td>\n",
       "    </tr>\n",
       "    <tr>\n",
       "      <th>3</th>\n",
       "      <td>27728118.0</td>\n",
       "      <td>Muy Alto</td>\n",
       "    </tr>\n",
       "  </tbody>\n",
       "</table>\n",
       "</div>"
      ],
      "text/plain": [
       "    Threshold      Tier\n",
       "0         1.0      Bajo\n",
       "1    944915.0  Moderado\n",
       "2   8025872.0      Alto\n",
       "3  27728118.0  Muy Alto"
      ]
     },
     "execution_count": 921,
     "metadata": {
      "tags": []
     },
     "output_type": "execute_result"
    }
   ],
   "source": [
    "results_table_4"
   ]
  },
  {
   "cell_type": "code",
   "execution_count": 922,
   "metadata": {
    "colab": {
     "base_uri": "https://localhost:8080/",
     "height": 343
    },
    "id": "qjoZCa0yht0E",
    "outputId": "ee655fdf-0df6-4571-a5d0-a976daf9b27a"
   },
   "outputs": [
    {
     "data": {
      "text/html": [
       "<div>\n",
       "<style scoped>\n",
       "    .dataframe tbody tr th:only-of-type {\n",
       "        vertical-align: middle;\n",
       "    }\n",
       "\n",
       "    .dataframe tbody tr th {\n",
       "        vertical-align: top;\n",
       "    }\n",
       "\n",
       "    .dataframe thead th {\n",
       "        text-align: right;\n",
       "    }\n",
       "</style>\n",
       "<table border=\"1\" class=\"dataframe\">\n",
       "  <thead>\n",
       "    <tr style=\"text-align: right;\">\n",
       "      <th></th>\n",
       "      <th>Threshold</th>\n",
       "      <th>Tier</th>\n",
       "    </tr>\n",
       "  </thead>\n",
       "  <tbody>\n",
       "    <tr>\n",
       "      <th>0</th>\n",
       "      <td>1.0</td>\n",
       "      <td>Bajisimo</td>\n",
       "    </tr>\n",
       "    <tr>\n",
       "      <th>1</th>\n",
       "      <td>66172.8</td>\n",
       "      <td>Muy Bajo</td>\n",
       "    </tr>\n",
       "    <tr>\n",
       "      <th>2</th>\n",
       "      <td>444043.6</td>\n",
       "      <td>Bajo</td>\n",
       "    </tr>\n",
       "    <tr>\n",
       "      <th>3</th>\n",
       "      <td>1644338.0</td>\n",
       "      <td>Moderado Bajo</td>\n",
       "    </tr>\n",
       "    <tr>\n",
       "      <th>4</th>\n",
       "      <td>4000000.0</td>\n",
       "      <td>Moderado Medio</td>\n",
       "    </tr>\n",
       "    <tr>\n",
       "      <th>5</th>\n",
       "      <td>8025872.0</td>\n",
       "      <td>Moderado Alto</td>\n",
       "    </tr>\n",
       "    <tr>\n",
       "      <th>6</th>\n",
       "      <td>14059961.0</td>\n",
       "      <td>Alto Bajo</td>\n",
       "    </tr>\n",
       "    <tr>\n",
       "      <th>7</th>\n",
       "      <td>21794876.4</td>\n",
       "      <td>Alto Medio</td>\n",
       "    </tr>\n",
       "    <tr>\n",
       "      <th>8</th>\n",
       "      <td>34827037.8</td>\n",
       "      <td>Muy Alto</td>\n",
       "    </tr>\n",
       "    <tr>\n",
       "      <th>9</th>\n",
       "      <td>52602436.0</td>\n",
       "      <td>Altisimo</td>\n",
       "    </tr>\n",
       "  </tbody>\n",
       "</table>\n",
       "</div>"
      ],
      "text/plain": [
       "    Threshold            Tier\n",
       "0         1.0        Bajisimo\n",
       "1     66172.8        Muy Bajo\n",
       "2    444043.6            Bajo\n",
       "3   1644338.0   Moderado Bajo\n",
       "4   4000000.0  Moderado Medio\n",
       "5   8025872.0   Moderado Alto\n",
       "6  14059961.0       Alto Bajo\n",
       "7  21794876.4      Alto Medio\n",
       "8  34827037.8        Muy Alto\n",
       "9  52602436.0        Altisimo"
      ]
     },
     "execution_count": 922,
     "metadata": {
      "tags": []
     },
     "output_type": "execute_result"
    }
   ],
   "source": [
    "results_table_10"
   ]
  },
  {
   "cell_type": "code",
   "execution_count": 923,
   "metadata": {
    "colab": {
     "base_uri": "https://localhost:8080/",
     "height": 166
    },
    "id": "a3sAUYfsiXFw",
    "outputId": "3eca0518-ee8a-4d7d-8e3d-92a28b70590e"
   },
   "outputs": [
    {
     "data": {
      "text/html": [
       "<div>\n",
       "<style scoped>\n",
       "    .dataframe tbody tr th:only-of-type {\n",
       "        vertical-align: middle;\n",
       "    }\n",
       "\n",
       "    .dataframe tbody tr th {\n",
       "        vertical-align: top;\n",
       "    }\n",
       "\n",
       "    .dataframe thead th {\n",
       "        text-align: right;\n",
       "    }\n",
       "</style>\n",
       "<table border=\"1\" class=\"dataframe\">\n",
       "  <thead>\n",
       "    <tr style=\"text-align: right;\">\n",
       "      <th></th>\n",
       "      <th>quantile_4</th>\n",
       "      <th>quantile_10</th>\n",
       "    </tr>\n",
       "  </thead>\n",
       "  <tbody>\n",
       "    <tr>\n",
       "      <th>count</th>\n",
       "      <td>4629</td>\n",
       "      <td>4629</td>\n",
       "    </tr>\n",
       "    <tr>\n",
       "      <th>unique</th>\n",
       "      <td>4</td>\n",
       "      <td>10</td>\n",
       "    </tr>\n",
       "    <tr>\n",
       "      <th>top</th>\n",
       "      <td>Bajo</td>\n",
       "      <td>Moderado Bajo</td>\n",
       "    </tr>\n",
       "    <tr>\n",
       "      <th>freq</th>\n",
       "      <td>1158</td>\n",
       "      <td>465</td>\n",
       "    </tr>\n",
       "  </tbody>\n",
       "</table>\n",
       "</div>"
      ],
      "text/plain": [
       "       quantile_4    quantile_10\n",
       "count        4629           4629\n",
       "unique          4             10\n",
       "top          Bajo  Moderado Bajo\n",
       "freq         1158            465"
      ]
     },
     "execution_count": 923,
     "metadata": {
      "tags": []
     },
     "output_type": "execute_result"
    }
   ],
   "source": [
    "df.describe(include='category')"
   ]
  },
  {
   "cell_type": "markdown",
   "metadata": {
    "id": "CmyePCUtWWu8"
   },
   "source": [
    "Creo otras dos columnas que armen 4 y 10 rangos del mismo tamaño en terminos de revenue en cada uno"
   ]
  },
  {
   "cell_type": "code",
   "execution_count": 924,
   "metadata": {
    "id": "e5SVpacoVzDf"
   },
   "outputs": [],
   "source": [
    "df['4cuts'] = pd.cut(df['revenue'], bins = 4, labels = labels_4)\n",
    "df['10cuts'] = pd.cut(df['revenue'], bins = 10, labels = labels_10)"
   ]
  },
  {
   "cell_type": "code",
   "execution_count": 925,
   "metadata": {
    "colab": {
     "base_uri": "https://localhost:8080/",
     "height": 195
    },
    "id": "7VERcLFUXIzc",
    "outputId": "1945bef3-c94c-441b-895f-759db150b298"
   },
   "outputs": [
    {
     "data": {
      "text/html": [
       "<div>\n",
       "<style scoped>\n",
       "    .dataframe tbody tr th:only-of-type {\n",
       "        vertical-align: middle;\n",
       "    }\n",
       "\n",
       "    .dataframe tbody tr th {\n",
       "        vertical-align: top;\n",
       "    }\n",
       "\n",
       "    .dataframe thead th {\n",
       "        text-align: right;\n",
       "    }\n",
       "</style>\n",
       "<table border=\"1\" class=\"dataframe\">\n",
       "  <thead>\n",
       "    <tr style=\"text-align: right;\">\n",
       "      <th>col_0</th>\n",
       "      <th>count</th>\n",
       "    </tr>\n",
       "    <tr>\n",
       "      <th>4cuts</th>\n",
       "      <th></th>\n",
       "    </tr>\n",
       "  </thead>\n",
       "  <tbody>\n",
       "    <tr>\n",
       "      <th>Bajo</th>\n",
       "      <td>3197</td>\n",
       "    </tr>\n",
       "    <tr>\n",
       "      <th>Moderado</th>\n",
       "      <td>702</td>\n",
       "    </tr>\n",
       "    <tr>\n",
       "      <th>Alto</th>\n",
       "      <td>436</td>\n",
       "    </tr>\n",
       "    <tr>\n",
       "      <th>Muy Alto</th>\n",
       "      <td>294</td>\n",
       "    </tr>\n",
       "  </tbody>\n",
       "</table>\n",
       "</div>"
      ],
      "text/plain": [
       "col_0     count\n",
       "4cuts          \n",
       "Bajo       3197\n",
       "Moderado    702\n",
       "Alto        436\n",
       "Muy Alto    294"
      ]
     },
     "execution_count": 925,
     "metadata": {
      "tags": []
     },
     "output_type": "execute_result"
    }
   ],
   "source": [
    "pd.crosstab(index = df['4cuts'], columns = 'count')"
   ]
  },
  {
   "cell_type": "code",
   "execution_count": 926,
   "metadata": {
    "colab": {
     "base_uri": "https://localhost:8080/",
     "height": 373
    },
    "id": "GtKQZCW5WrAT",
    "outputId": "b5843c99-417d-423e-c263-4d234c6b639d"
   },
   "outputs": [
    {
     "data": {
      "text/html": [
       "<div>\n",
       "<style scoped>\n",
       "    .dataframe tbody tr th:only-of-type {\n",
       "        vertical-align: middle;\n",
       "    }\n",
       "\n",
       "    .dataframe tbody tr th {\n",
       "        vertical-align: top;\n",
       "    }\n",
       "\n",
       "    .dataframe thead th {\n",
       "        text-align: right;\n",
       "    }\n",
       "</style>\n",
       "<table border=\"1\" class=\"dataframe\">\n",
       "  <thead>\n",
       "    <tr style=\"text-align: right;\">\n",
       "      <th>col_0</th>\n",
       "      <th>count</th>\n",
       "    </tr>\n",
       "    <tr>\n",
       "      <th>10cuts</th>\n",
       "      <th></th>\n",
       "    </tr>\n",
       "  </thead>\n",
       "  <tbody>\n",
       "    <tr>\n",
       "      <th>Bajisimo</th>\n",
       "      <td>2346</td>\n",
       "    </tr>\n",
       "    <tr>\n",
       "      <th>Muy Bajo</th>\n",
       "      <td>587</td>\n",
       "    </tr>\n",
       "    <tr>\n",
       "      <th>Bajo</th>\n",
       "      <td>428</td>\n",
       "    </tr>\n",
       "    <tr>\n",
       "      <th>Moderado Bajo</th>\n",
       "      <td>288</td>\n",
       "    </tr>\n",
       "    <tr>\n",
       "      <th>Moderado Medio</th>\n",
       "      <td>250</td>\n",
       "    </tr>\n",
       "    <tr>\n",
       "      <th>Moderado Alto</th>\n",
       "      <td>195</td>\n",
       "    </tr>\n",
       "    <tr>\n",
       "      <th>Alto Bajo</th>\n",
       "      <td>170</td>\n",
       "    </tr>\n",
       "    <tr>\n",
       "      <th>Alto Medio</th>\n",
       "      <td>142</td>\n",
       "    </tr>\n",
       "    <tr>\n",
       "      <th>Muy Alto</th>\n",
       "      <td>124</td>\n",
       "    </tr>\n",
       "    <tr>\n",
       "      <th>Altisimo</th>\n",
       "      <td>99</td>\n",
       "    </tr>\n",
       "  </tbody>\n",
       "</table>\n",
       "</div>"
      ],
      "text/plain": [
       "col_0           count\n",
       "10cuts               \n",
       "Bajisimo         2346\n",
       "Muy Bajo          587\n",
       "Bajo              428\n",
       "Moderado Bajo     288\n",
       "Moderado Medio    250\n",
       "Moderado Alto     195\n",
       "Alto Bajo         170\n",
       "Alto Medio        142\n",
       "Muy Alto          124\n",
       "Altisimo           99"
      ]
     },
     "execution_count": 926,
     "metadata": {
      "tags": []
     },
     "output_type": "execute_result"
    }
   ],
   "source": [
    "pd.crosstab(index = df['10cuts'], columns = 'count')"
   ]
  },
  {
   "cell_type": "markdown",
   "metadata": {
    "id": "dFuzD62UHLnR"
   },
   "source": [
    "## Feature Engineering: categorical data to numeric values"
   ]
  },
  {
   "cell_type": "code",
   "execution_count": 927,
   "metadata": {
    "id": "bLoJtnXCHPa4"
   },
   "outputs": [],
   "source": [
    "df['genre'] = df['genre'].astype('str')\n",
    "df['country'] = df['country'].astype('str') \n",
    "df['production'] = df['production'].astype('str')\n",
    "df['original_language'] = df['original_language'].astype('str')  "
   ]
  },
  {
   "cell_type": "code",
   "execution_count": 928,
   "metadata": {
    "colab": {
     "base_uri": "https://localhost:8080/"
    },
    "id": "hdtlPwaVHKY3",
    "outputId": "c2359846-5679-413a-af0a-c6a77771393a"
   },
   "outputs": [
    {
     "data": {
      "text/plain": [
       "{0: '0',\n",
       " 1: 'Action',\n",
       " 2: 'Adventure',\n",
       " 3: 'Animation',\n",
       " 4: 'Comedy',\n",
       " 5: 'Crime',\n",
       " 6: 'Documentary',\n",
       " 7: 'Drama',\n",
       " 8: 'Family',\n",
       " 9: 'Fantasy',\n",
       " 10: 'Foreign',\n",
       " 11: 'History',\n",
       " 12: 'Horror',\n",
       " 13: 'Music',\n",
       " 14: 'Mystery',\n",
       " 15: 'Romance',\n",
       " 16: 'Science Fiction',\n",
       " 17: 'TV Movie',\n",
       " 18: 'Thriller',\n",
       " 19: 'War',\n",
       " 20: 'Western'}"
      ]
     },
     "execution_count": 928,
     "metadata": {
      "tags": []
     },
     "output_type": "execute_result"
    }
   ],
   "source": [
    "from sklearn.preprocessing import LabelEncoder\n",
    "gle = LabelEncoder()\n",
    "genre_labels = gle.fit_transform(df['genre'])\n",
    "genre_mappings = {index: label for index, label in \n",
    "                  enumerate(gle.classes_)}\n",
    "genre_mappings"
   ]
  },
  {
   "cell_type": "code",
   "execution_count": 929,
   "metadata": {
    "id": "i2q90CriMCW_"
   },
   "outputs": [],
   "source": [
    "df['GenreLabel'] = genre_labels"
   ]
  },
  {
   "cell_type": "code",
   "execution_count": 930,
   "metadata": {
    "id": "ofNvFWC-HUEd"
   },
   "outputs": [],
   "source": [
    "country_labels = gle.fit_transform(df['country'])\n",
    "country_mappings = {index: label for index, label in \n",
    "                  enumerate(gle.classes_)}\n",
    "country_mappings\n",
    "df['CountryLabel'] = country_labels"
   ]
  },
  {
   "cell_type": "code",
   "execution_count": 931,
   "metadata": {
    "id": "97qzbD7BHUHb"
   },
   "outputs": [],
   "source": [
    "production_labels = gle.fit_transform(df['production'])\n",
    "production_mappings = {index: label for index, label in \n",
    "                  enumerate(gle.classes_)}\n",
    "country_mappings\n",
    "df['ProductionLabel'] = production_labels"
   ]
  },
  {
   "cell_type": "code",
   "execution_count": 932,
   "metadata": {
    "id": "6nhBJE4DM6uR"
   },
   "outputs": [],
   "source": [
    "language_labels = gle.fit_transform(df['original_language'])\n",
    "language_mappings = {index: label for index, label in \n",
    "                  enumerate(gle.classes_)}\n",
    "country_mappings\n",
    "df['LanguageLabel'] = language_labels"
   ]
  },
  {
   "cell_type": "markdown",
   "metadata": {
    "id": "IdgGenTqNq9a"
   },
   "source": [
    "## Armar modelo predictivo"
   ]
  },
  {
   "cell_type": "code",
   "execution_count": 933,
   "metadata": {
    "id": "oMTLpsAYQ0w4"
   },
   "outputs": [],
   "source": [
    "from sklearn.metrics import precision_score, recall_score, roc_curve, roc_auc_score, f1_score, accuracy_score, confusion_matrix\n",
    "from sklearn.linear_model import LogisticRegression\n",
    "from sklearn.tree import DecisionTreeClassifier\n",
    "from sklearn.ensemble import RandomForestClassifier"
   ]
  },
  {
   "cell_type": "markdown",
   "metadata": {
    "id": "PJOSvNJDQrn1"
   },
   "source": [
    "####Train and test set"
   ]
  },
  {
   "cell_type": "code",
   "execution_count": 934,
   "metadata": {
    "colab": {
     "base_uri": "https://localhost:8080/"
    },
    "id": "BA-sXzedP8gz",
    "outputId": "81414eb3-b09d-4630-b85b-e9c391b59466"
   },
   "outputs": [
    {
     "data": {
      "text/plain": [
       "(4139, 490, 0.11838608359507127)"
      ]
     },
     "execution_count": 934,
     "metadata": {
      "tags": []
     },
     "output_type": "execute_result"
    }
   ],
   "source": [
    "train_df = df[df.year <= 2014]\n",
    "test_df = df[df.year > 2014]\n",
    "\n",
    "len(train_df), len(test_df), len(test_df) / len(train_df)"
   ]
  },
  {
   "cell_type": "code",
   "execution_count": 935,
   "metadata": {
    "id": "Rym_o_I1iitY"
   },
   "outputs": [],
   "source": [
    "X_train = train_df[['runtime','budget','collection', 'LanguageLabel', 'GenreLabel', 'CountryLabel', 'ProductionLabel']]\n",
    "y_train = np.ravel(train_df[['quantile_4']])\n",
    "\n",
    "X_test = test_df[['runtime','budget','collection', 'LanguageLabel', 'GenreLabel', 'CountryLabel', 'ProductionLabel']]\n",
    "y_test = test_df[['quantile_4']]"
   ]
  },
  {
   "cell_type": "markdown",
   "metadata": {
    "id": "UbrhXQHoQmzN"
   },
   "source": [
    "####Normalize data"
   ]
  },
  {
   "cell_type": "code",
   "execution_count": 936,
   "metadata": {
    "id": "HKmzySXG_EXr"
   },
   "outputs": [],
   "source": [
    "scaler = preprocessing.StandardScaler().fit(X_train)\n",
    "X_train = scaler.transform(X_train)\n",
    "\n",
    "scaler = preprocessing.StandardScaler().fit(X_test)\n",
    "X_test = scaler.transform(X_test)"
   ]
  },
  {
   "cell_type": "markdown",
   "metadata": {
    "id": "wuZ2CJWsRKNP"
   },
   "source": [
    "####Modelos"
   ]
  },
  {
   "cell_type": "code",
   "execution_count": 937,
   "metadata": {
    "colab": {
     "base_uri": "https://localhost:8080/"
    },
    "id": "5Alvq_UkzELY",
    "outputId": "13457d48-ab1b-4368-bd9f-2d0c06391260"
   },
   "outputs": [
    {
     "name": "stdout",
     "output_type": "stream",
     "text": [
      "accuracy:  0.4489795918367347 f1_score:  0.4346650130074534\n"
     ]
    }
   ],
   "source": [
    "clf = LogisticRegression(random_state = 21)\n",
    "clf.fit(X_train, y_train)\n",
    "y_pred = clf.predict(X_test)\n",
    "print('accuracy: ', accuracy_score(y_test, y_pred), 'f1_score: ', f1_score(y_test, y_pred, average = 'weighted'))"
   ]
  },
  {
   "cell_type": "code",
   "execution_count": 938,
   "metadata": {
    "colab": {
     "base_uri": "https://localhost:8080/"
    },
    "id": "QTWN89d9N27O",
    "outputId": "98f14302-b3cb-4b7a-92fb-01681dc42d0c"
   },
   "outputs": [
    {
     "name": "stdout",
     "output_type": "stream",
     "text": [
      "accuracy:  0.43673469387755104 f1_score:  0.4354385742917243\n"
     ]
    }
   ],
   "source": [
    "clf = DecisionTreeClassifier(max_depth = 10, min_samples_leaf = 50, random_state = 21)\n",
    "clf.fit(X_train, y_train)\n",
    "y_pred = clf.predict(X_test)\n",
    "print('accuracy: ', accuracy_score(y_test, y_pred), 'f1_score: ', f1_score(y_test, y_pred, average = 'weighted'))"
   ]
  },
  {
   "cell_type": "code",
   "execution_count": 939,
   "metadata": {
    "colab": {
     "base_uri": "https://localhost:8080/"
    },
    "id": "l3kRZoMiOGXm",
    "outputId": "74f3959d-0ec0-42c7-a38d-bce3d35b217d"
   },
   "outputs": [
    {
     "name": "stdout",
     "output_type": "stream",
     "text": [
      "accuracy:  0.4775510204081633 f1_score:  0.4601783266644225\n"
     ]
    }
   ],
   "source": [
    "clf = RandomForestClassifier(max_depth = 10, min_samples_leaf = 50, random_state = 21)\n",
    "clf.fit(X_train, y_train)\n",
    "y_pred = clf.predict(X_test)\n",
    "print('accuracy: ', accuracy_score(y_test, y_pred), 'f1_score: ', f1_score(y_test, y_pred, average = 'weighted'))"
   ]
  },
  {
   "cell_type": "code",
   "execution_count": 940,
   "metadata": {
    "colab": {
     "base_uri": "https://localhost:8080/"
    },
    "id": "wpX0jE8GTmiV",
    "outputId": "ddff7442-ae97-4363-88e8-c532f4829b3b"
   },
   "outputs": [
    {
     "name": "stdout",
     "output_type": "stream",
     "text": [
      "[[101  27  12   5]\n",
      " [ 57  33  36  15]\n",
      " [ 15  21  32  31]\n",
      " [ 10  10  17  68]]\n"
     ]
    }
   ],
   "source": [
    "print(confusion_matrix(y_test, y_pred, labels = labels_4))"
   ]
  },
  {
   "cell_type": "markdown",
   "metadata": {
    "id": "hend0JQEoG9V"
   },
   "source": [
    "# para implementar"
   ]
  },
  {
   "cell_type": "markdown",
   "metadata": {
    "id": "FQ4ptdykoMsU"
   },
   "source": [
    "con eso aprovechar todos los generos, no solo el primero. Tambien usar para productora y país."
   ]
  },
  {
   "cell_type": "code",
   "execution_count": null,
   "metadata": {
    "id": "wdGbfvFcoJZV"
   },
   "outputs": [],
   "source": [
    "#df['genres'] = df.genres.apply(lambda x: [i['name']  for i in eval(x)])"
   ]
  }
 ],
 "metadata": {
  "colab": {
   "collapsed_sections": [],
   "name": "ML: MVP-Revenue.ipynb",
   "provenance": []
  },
  "kernelspec": {
   "display_name": "Python 3",
   "language": "python",
   "name": "python3"
  },
  "language_info": {
   "codemirror_mode": {
    "name": "ipython",
    "version": 3
   },
   "file_extension": ".py",
   "mimetype": "text/x-python",
   "name": "python",
   "nbconvert_exporter": "python",
   "pygments_lexer": "ipython3",
   "version": "3.7.6"
  }
 },
 "nbformat": 4,
 "nbformat_minor": 1
}
