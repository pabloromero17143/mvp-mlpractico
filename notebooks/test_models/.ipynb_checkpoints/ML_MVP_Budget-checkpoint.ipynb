{
 "cells": [
  {
   "cell_type": "code",
   "execution_count": 325,
   "metadata": {},
   "outputs": [],
   "source": [
    "import pandas as pd\n",
    "\n",
    "pd.set_option('display.max_colwidth',None)\n",
    "pd.set_option('display.max_rows',200)\n",
    "pd.set_option('display.max_columns',200)"
   ]
  },
  {
   "cell_type": "markdown",
   "metadata": {},
   "source": [
    "### Cargo Librerias y datasets"
   ]
  },
  {
   "cell_type": "code",
   "execution_count": 326,
   "metadata": {},
   "outputs": [],
   "source": [
    "from pathlib import Path\n",
    "import sys\n",
    "from random import sample\n",
    "from sklearn.model_selection import train_test_split\n",
    "# sys.path.append('../data')\n",
    "# sys.path.append('../')\n",
    "sys.path.append('../../data')\n",
    "sys.path.append('../../')\n",
    "PATH = Path('../../data/')"
   ]
  },
  {
   "cell_type": "code",
   "execution_count": 328,
   "metadata": {},
   "outputs": [],
   "source": [
    "from lib import transformers, data, mvp_budget_utils"
   ]
  },
  {
   "cell_type": "code",
   "execution_count": 329,
   "metadata": {},
   "outputs": [],
   "source": [
    "from sklearn.metrics import precision_score, recall_score, roc_curve, roc_auc_score, f1_score, accuracy_score, confusion_matrix\n",
    "from sklearn.linear_model import LogisticRegression\n",
    "from sklearn.tree import DecisionTreeClassifier\n",
    "from sklearn.ensemble import RandomForestClassifier\n",
    "import math\n",
    "import numpy as np"
   ]
  },
  {
   "cell_type": "code",
   "execution_count": 330,
   "metadata": {},
   "outputs": [],
   "source": [
    "# si todo va bien lo sumamos a los transformers\n",
    "from sklearn.base import BaseEstimator, TransformerMixin\n",
    "\n",
    "class DirectorFeatures(BaseEstimator, TransformerMixin):\n",
    "    def __init__(self, min_cnt_movies=2):\n",
    "        self.min_cnt_movies = min_cnt_movies\n",
    "\n",
    "    def fit(self, X, y):\n",
    "        # Esto no es la forma mas elegante, pero es mas comodo y a esta altura priorizo la comodidad\n",
    "        # Llevamos las cosas de nuevo a un DataFrame y calculamos features por director\n",
    "        directors_stats = (\n",
    "            pd.DataFrame(X)\n",
    "                .groupby('director')\n",
    "                .agg({\n",
    "                'tconst': 'count'                \n",
    "                }\n",
    "            )\n",
    "        )\n",
    "\n",
    "        # Para hacer flattening de las columnas\n",
    "        # https://stackoverflow.com/questions/14507794/pandas-how-to-flatten-a-hierarchical-index-in-columns\n",
    "        directors_stats.columns = [\n",
    "            '_'.join(i)\n",
    "            for i in zip(directors_stats.columns.get_level_values(1), directors_stats.columns.get_level_values(0))\n",
    "        ]\n",
    "\n",
    "        # Guardamos las estadisticas\n",
    "        self.directors_stats_ = directors_stats\n",
    "\n",
    "        # Diccionario con los datos para los directores comunes\n",
    "        self.directors_stats_lk_ = (\n",
    "            directors_stats[directors_stats.count_tconst >= self.min_cnt_movies].to_dict(orient='index')\n",
    "        )\n",
    "\n",
    "        # Valor default para los que consideramos que tenemos demasiado poca data\n",
    "        self.default_ = directors_stats[directors_stats.count_tconst < self.min_cnt_movies].mean(0).to_dict()\n",
    "        if self.min_cnt_movies > 1:\n",
    "            self.default_ = directors_stats[directors_stats.count_tconst < self.min_cnt_movies].mean(0).to_dict()\n",
    "        else:\n",
    "            self.default_ = directors_stats.mean(0).to_dict()\n",
    "        return self\n",
    "\n",
    "    def transform(self, X):\n",
    "        res = []\n",
    "        for e in X:\n",
    "            if e['director'] in self.directors_stats_lk_:\n",
    "                res.append(self.directors_stats_lk_[e['director']])\n",
    "            else:\n",
    "                res.append(self.default_)\n",
    "        return res"
   ]
  },
  {
   "cell_type": "markdown",
   "metadata": {},
   "source": [
    "## Cargamos movies & movies gross\n",
    "#### Movies lo cargamos para tener el ds a mano por si queremos agregar algo mas."
   ]
  },
  {
   "cell_type": "code",
   "execution_count": 332,
   "metadata": {},
   "outputs": [
    {
     "name": "stdout",
     "output_type": "stream",
     "text": [
      "Loading title basics...\n",
      "Loading title ratings...\n",
      "Loading movie directors...\n",
      "Merging everything...\n",
      "Dataset ya disponible\n"
     ]
    }
   ],
   "source": [
    "# Si quiero cargar todo\n",
    "movies_full = data.load_data(PATH)\n",
    "\n",
    "# Si quiero cargar solo budget con gross (data vieja)\n",
    "movies_gross = data.load_movie_gross(PATH)\n",
    "\n",
    "# cargo info de budget con el scrapper (data nueva)\n",
    "imdb_scrapper_budget = data.imdb_scrapper(PATH)"
   ]
  },
  {
   "cell_type": "code",
   "execution_count": 333,
   "metadata": {},
   "outputs": [
    {
     "data": {
      "text/html": [
       "<div>\n",
       "<style scoped>\n",
       "    .dataframe tbody tr th:only-of-type {\n",
       "        vertical-align: middle;\n",
       "    }\n",
       "\n",
       "    .dataframe tbody tr th {\n",
       "        vertical-align: top;\n",
       "    }\n",
       "\n",
       "    .dataframe thead th {\n",
       "        text-align: right;\n",
       "    }\n",
       "</style>\n",
       "<table border=\"1\" class=\"dataframe\">\n",
       "  <thead>\n",
       "    <tr style=\"text-align: right;\">\n",
       "      <th></th>\n",
       "      <th>tconst</th>\n",
       "      <th>titleType</th>\n",
       "      <th>primaryTitle</th>\n",
       "      <th>originalTitle</th>\n",
       "      <th>isAdult</th>\n",
       "      <th>startYear</th>\n",
       "      <th>endYear</th>\n",
       "      <th>runtimeMinutes</th>\n",
       "      <th>genres</th>\n",
       "      <th>averageRating</th>\n",
       "      <th>numVotes</th>\n",
       "      <th>director</th>\n",
       "    </tr>\n",
       "  </thead>\n",
       "  <tbody>\n",
       "    <tr>\n",
       "      <th>0</th>\n",
       "      <td>tt0000009</td>\n",
       "      <td>movie</td>\n",
       "      <td>Miss Jerry</td>\n",
       "      <td>Miss Jerry</td>\n",
       "      <td>0</td>\n",
       "      <td>1894.0</td>\n",
       "      <td>\\N</td>\n",
       "      <td>45.0</td>\n",
       "      <td>[Romance]</td>\n",
       "      <td>5.9</td>\n",
       "      <td>154</td>\n",
       "      <td>nm0085156</td>\n",
       "    </tr>\n",
       "    <tr>\n",
       "      <th>1</th>\n",
       "      <td>tt0000147</td>\n",
       "      <td>movie</td>\n",
       "      <td>The Corbett-Fitzsimmons Fight</td>\n",
       "      <td>The Corbett-Fitzsimmons Fight</td>\n",
       "      <td>0</td>\n",
       "      <td>1897.0</td>\n",
       "      <td>\\N</td>\n",
       "      <td>20.0</td>\n",
       "      <td>[Documentary, News, Sport]</td>\n",
       "      <td>5.2</td>\n",
       "      <td>356</td>\n",
       "      <td>nm0714557</td>\n",
       "    </tr>\n",
       "  </tbody>\n",
       "</table>\n",
       "</div>"
      ],
      "text/plain": [
       "      tconst titleType                   primaryTitle  \\\n",
       "0  tt0000009     movie                     Miss Jerry   \n",
       "1  tt0000147     movie  The Corbett-Fitzsimmons Fight   \n",
       "\n",
       "                   originalTitle  isAdult  startYear endYear  runtimeMinutes  \\\n",
       "0                     Miss Jerry        0     1894.0      \\N            45.0   \n",
       "1  The Corbett-Fitzsimmons Fight        0     1897.0      \\N            20.0   \n",
       "\n",
       "                       genres  averageRating  numVotes   director  \n",
       "0                   [Romance]            5.9       154  nm0085156  \n",
       "1  [Documentary, News, Sport]            5.2       356  nm0714557  "
      ]
     },
     "execution_count": 333,
     "metadata": {},
     "output_type": "execute_result"
    }
   ],
   "source": [
    "movies_full.head(2)"
   ]
  },
  {
   "cell_type": "code",
   "execution_count": 334,
   "metadata": {},
   "outputs": [
    {
     "data": {
      "text/html": [
       "<div>\n",
       "<style scoped>\n",
       "    .dataframe tbody tr th:only-of-type {\n",
       "        vertical-align: middle;\n",
       "    }\n",
       "\n",
       "    .dataframe tbody tr th {\n",
       "        vertical-align: top;\n",
       "    }\n",
       "\n",
       "    .dataframe thead th {\n",
       "        text-align: right;\n",
       "    }\n",
       "</style>\n",
       "<table border=\"1\" class=\"dataframe\">\n",
       "  <thead>\n",
       "    <tr style=\"text-align: right;\">\n",
       "      <th></th>\n",
       "      <th>tconst</th>\n",
       "      <th>budget</th>\n",
       "      <th>gross</th>\n",
       "    </tr>\n",
       "  </thead>\n",
       "  <tbody>\n",
       "    <tr>\n",
       "      <th>0</th>\n",
       "      <td>tt0000009</td>\n",
       "      <td>NaN</td>\n",
       "      <td>NaN</td>\n",
       "    </tr>\n",
       "    <tr>\n",
       "      <th>1</th>\n",
       "      <td>tt0000147</td>\n",
       "      <td>NaN</td>\n",
       "      <td>NaN</td>\n",
       "    </tr>\n",
       "    <tr>\n",
       "      <th>2</th>\n",
       "      <td>tt0000502</td>\n",
       "      <td>NaN</td>\n",
       "      <td>NaN</td>\n",
       "    </tr>\n",
       "    <tr>\n",
       "      <th>3</th>\n",
       "      <td>tt0000574</td>\n",
       "      <td>$2,250</td>\n",
       "      <td>NaN</td>\n",
       "    </tr>\n",
       "  </tbody>\n",
       "</table>\n",
       "</div>"
      ],
      "text/plain": [
       "      tconst  budget  gross\n",
       "0  tt0000009     NaN    NaN\n",
       "1  tt0000147     NaN    NaN\n",
       "2  tt0000502     NaN    NaN\n",
       "3  tt0000574  $2,250    NaN"
      ]
     },
     "execution_count": 334,
     "metadata": {},
     "output_type": "execute_result"
    }
   ],
   "source": [
    "imdb_scrapper_budget.head(4)"
   ]
  },
  {
   "cell_type": "code",
   "execution_count": 335,
   "metadata": {},
   "outputs": [
    {
     "data": {
      "text/html": [
       "<div>\n",
       "<style scoped>\n",
       "    .dataframe tbody tr th:only-of-type {\n",
       "        vertical-align: middle;\n",
       "    }\n",
       "\n",
       "    .dataframe tbody tr th {\n",
       "        vertical-align: top;\n",
       "    }\n",
       "\n",
       "    .dataframe thead th {\n",
       "        text-align: right;\n",
       "    }\n",
       "</style>\n",
       "<table border=\"1\" class=\"dataframe\">\n",
       "  <thead>\n",
       "    <tr style=\"text-align: right;\">\n",
       "      <th></th>\n",
       "      <th>color</th>\n",
       "      <th>director_name</th>\n",
       "      <th>num_critic_for_reviews</th>\n",
       "      <th>duration</th>\n",
       "      <th>director_facebook_likes</th>\n",
       "      <th>actor_3_facebook_likes</th>\n",
       "      <th>actor_2_name</th>\n",
       "      <th>actor_1_facebook_likes</th>\n",
       "      <th>gross</th>\n",
       "      <th>genres</th>\n",
       "      <th>actor_1_name</th>\n",
       "      <th>movie_title</th>\n",
       "      <th>num_voted_users</th>\n",
       "      <th>cast_total_facebook_likes</th>\n",
       "      <th>actor_3_name</th>\n",
       "      <th>facenumber_in_poster</th>\n",
       "      <th>plot_keywords</th>\n",
       "      <th>movie_imdb_link</th>\n",
       "      <th>num_user_for_reviews</th>\n",
       "      <th>language</th>\n",
       "      <th>country</th>\n",
       "      <th>content_rating</th>\n",
       "      <th>budget</th>\n",
       "      <th>title_year</th>\n",
       "      <th>actor_2_facebook_likes</th>\n",
       "      <th>imdb_score</th>\n",
       "      <th>aspect_ratio</th>\n",
       "      <th>movie_facebook_likes</th>\n",
       "    </tr>\n",
       "  </thead>\n",
       "  <tbody>\n",
       "    <tr>\n",
       "      <th>0</th>\n",
       "      <td>Color</td>\n",
       "      <td>James Cameron</td>\n",
       "      <td>723.0</td>\n",
       "      <td>178.0</td>\n",
       "      <td>0.0</td>\n",
       "      <td>855.0</td>\n",
       "      <td>Joel David Moore</td>\n",
       "      <td>1000.0</td>\n",
       "      <td>760505847.0</td>\n",
       "      <td>Action|Adventure|Fantasy|Sci-Fi</td>\n",
       "      <td>CCH Pounder</td>\n",
       "      <td>Avatar</td>\n",
       "      <td>886204</td>\n",
       "      <td>4834</td>\n",
       "      <td>Wes Studi</td>\n",
       "      <td>0.0</td>\n",
       "      <td>avatar|future|marine|native|paraplegic</td>\n",
       "      <td>http://www.imdb.com/title/tt0499549/?ref_=fn_tt_tt_1</td>\n",
       "      <td>3054.0</td>\n",
       "      <td>English</td>\n",
       "      <td>USA</td>\n",
       "      <td>PG-13</td>\n",
       "      <td>237000000.0</td>\n",
       "      <td>2009.0</td>\n",
       "      <td>936.0</td>\n",
       "      <td>7.9</td>\n",
       "      <td>1.78</td>\n",
       "      <td>33000</td>\n",
       "    </tr>\n",
       "    <tr>\n",
       "      <th>1</th>\n",
       "      <td>Color</td>\n",
       "      <td>Gore Verbinski</td>\n",
       "      <td>302.0</td>\n",
       "      <td>169.0</td>\n",
       "      <td>563.0</td>\n",
       "      <td>1000.0</td>\n",
       "      <td>Orlando Bloom</td>\n",
       "      <td>40000.0</td>\n",
       "      <td>309404152.0</td>\n",
       "      <td>Action|Adventure|Fantasy</td>\n",
       "      <td>Johnny Depp</td>\n",
       "      <td>Pirates of the Caribbean: At World's End</td>\n",
       "      <td>471220</td>\n",
       "      <td>48350</td>\n",
       "      <td>Jack Davenport</td>\n",
       "      <td>0.0</td>\n",
       "      <td>goddess|marriage ceremony|marriage proposal|pirate|singapore</td>\n",
       "      <td>http://www.imdb.com/title/tt0449088/?ref_=fn_tt_tt_1</td>\n",
       "      <td>1238.0</td>\n",
       "      <td>English</td>\n",
       "      <td>USA</td>\n",
       "      <td>PG-13</td>\n",
       "      <td>300000000.0</td>\n",
       "      <td>2007.0</td>\n",
       "      <td>5000.0</td>\n",
       "      <td>7.1</td>\n",
       "      <td>2.35</td>\n",
       "      <td>0</td>\n",
       "    </tr>\n",
       "  </tbody>\n",
       "</table>\n",
       "</div>"
      ],
      "text/plain": [
       "   color   director_name  num_critic_for_reviews  duration  \\\n",
       "0  Color   James Cameron                   723.0     178.0   \n",
       "1  Color  Gore Verbinski                   302.0     169.0   \n",
       "\n",
       "   director_facebook_likes  actor_3_facebook_likes      actor_2_name  \\\n",
       "0                      0.0                   855.0  Joel David Moore   \n",
       "1                    563.0                  1000.0     Orlando Bloom   \n",
       "\n",
       "   actor_1_facebook_likes        gross                           genres  \\\n",
       "0                  1000.0  760505847.0  Action|Adventure|Fantasy|Sci-Fi   \n",
       "1                 40000.0  309404152.0         Action|Adventure|Fantasy   \n",
       "\n",
       "  actor_1_name                                movie_title  num_voted_users  \\\n",
       "0  CCH Pounder                                    Avatar            886204   \n",
       "1  Johnny Depp  Pirates of the Caribbean: At World's End            471220   \n",
       "\n",
       "   cast_total_facebook_likes    actor_3_name  facenumber_in_poster  \\\n",
       "0                       4834       Wes Studi                   0.0   \n",
       "1                      48350  Jack Davenport                   0.0   \n",
       "\n",
       "                                                  plot_keywords  \\\n",
       "0                        avatar|future|marine|native|paraplegic   \n",
       "1  goddess|marriage ceremony|marriage proposal|pirate|singapore   \n",
       "\n",
       "                                        movie_imdb_link  num_user_for_reviews  \\\n",
       "0  http://www.imdb.com/title/tt0499549/?ref_=fn_tt_tt_1                3054.0   \n",
       "1  http://www.imdb.com/title/tt0449088/?ref_=fn_tt_tt_1                1238.0   \n",
       "\n",
       "  language country content_rating       budget  title_year  \\\n",
       "0  English     USA          PG-13  237000000.0      2009.0   \n",
       "1  English     USA          PG-13  300000000.0      2007.0   \n",
       "\n",
       "   actor_2_facebook_likes  imdb_score  aspect_ratio  movie_facebook_likes  \n",
       "0                   936.0         7.9          1.78                 33000  \n",
       "1                  5000.0         7.1          2.35                     0  "
      ]
     },
     "execution_count": 335,
     "metadata": {},
     "output_type": "execute_result"
    }
   ],
   "source": [
    "movies_gross.head(2)"
   ]
  },
  {
   "cell_type": "code",
   "execution_count": 339,
   "metadata": {},
   "outputs": [],
   "source": [
    "# creamos variable tconst para poder matchear (si queremos) con movies\n",
    "movies_gross['tconst']=movies_gross.movie_imdb_link.apply(lambda x: x.replace('http://www.imdb.com/title/','').replace('/?ref_=fn_tt_tt_1',''))"
   ]
  },
  {
   "cell_type": "code",
   "execution_count": 340,
   "metadata": {},
   "outputs": [],
   "source": [
    "#Renombro columna de director y year\n",
    "# Esto lo hago para usar las funciones de los transformers ... \n",
    "# Si vemos que tiene sentido y suma, hacemos nuestra propia funcion, por el momento es test\n",
    "movies_gross['startYear'] = movies_gross['title_year']\n",
    "movies_gross['director']  = movies_gross['director_name']"
   ]
  },
  {
   "cell_type": "code",
   "execution_count": 341,
   "metadata": {},
   "outputs": [
    {
     "data": {
      "text/html": [
       "<div>\n",
       "<style scoped>\n",
       "    .dataframe tbody tr th:only-of-type {\n",
       "        vertical-align: middle;\n",
       "    }\n",
       "\n",
       "    .dataframe tbody tr th {\n",
       "        vertical-align: top;\n",
       "    }\n",
       "\n",
       "    .dataframe thead th {\n",
       "        text-align: right;\n",
       "    }\n",
       "</style>\n",
       "<table border=\"1\" class=\"dataframe\">\n",
       "  <thead>\n",
       "    <tr style=\"text-align: right;\">\n",
       "      <th></th>\n",
       "      <th>color</th>\n",
       "      <th>director_name</th>\n",
       "      <th>num_critic_for_reviews</th>\n",
       "      <th>duration</th>\n",
       "      <th>director_facebook_likes</th>\n",
       "      <th>actor_3_facebook_likes</th>\n",
       "      <th>actor_2_name</th>\n",
       "      <th>actor_1_facebook_likes</th>\n",
       "      <th>gross</th>\n",
       "      <th>genres</th>\n",
       "      <th>actor_1_name</th>\n",
       "      <th>movie_title</th>\n",
       "      <th>num_voted_users</th>\n",
       "      <th>cast_total_facebook_likes</th>\n",
       "      <th>actor_3_name</th>\n",
       "      <th>facenumber_in_poster</th>\n",
       "      <th>plot_keywords</th>\n",
       "      <th>movie_imdb_link</th>\n",
       "      <th>num_user_for_reviews</th>\n",
       "      <th>language</th>\n",
       "      <th>country</th>\n",
       "      <th>content_rating</th>\n",
       "      <th>budget</th>\n",
       "      <th>title_year</th>\n",
       "      <th>actor_2_facebook_likes</th>\n",
       "      <th>imdb_score</th>\n",
       "      <th>aspect_ratio</th>\n",
       "      <th>movie_facebook_likes</th>\n",
       "      <th>tconst</th>\n",
       "      <th>startYear</th>\n",
       "      <th>director</th>\n",
       "    </tr>\n",
       "  </thead>\n",
       "  <tbody>\n",
       "    <tr>\n",
       "      <th>0</th>\n",
       "      <td>Color</td>\n",
       "      <td>James Cameron</td>\n",
       "      <td>723.0</td>\n",
       "      <td>178.0</td>\n",
       "      <td>0.0</td>\n",
       "      <td>855.0</td>\n",
       "      <td>Joel David Moore</td>\n",
       "      <td>1000.0</td>\n",
       "      <td>760505847.0</td>\n",
       "      <td>Action|Adventure|Fantasy|Sci-Fi</td>\n",
       "      <td>CCH Pounder</td>\n",
       "      <td>Avatar</td>\n",
       "      <td>886204</td>\n",
       "      <td>4834</td>\n",
       "      <td>Wes Studi</td>\n",
       "      <td>0.0</td>\n",
       "      <td>avatar|future|marine|native|paraplegic</td>\n",
       "      <td>http://www.imdb.com/title/tt0499549/?ref_=fn_tt_tt_1</td>\n",
       "      <td>3054.0</td>\n",
       "      <td>English</td>\n",
       "      <td>USA</td>\n",
       "      <td>PG-13</td>\n",
       "      <td>237000000.0</td>\n",
       "      <td>2009.0</td>\n",
       "      <td>936.0</td>\n",
       "      <td>7.9</td>\n",
       "      <td>1.78</td>\n",
       "      <td>33000</td>\n",
       "      <td>tt0499549</td>\n",
       "      <td>2009.0</td>\n",
       "      <td>James Cameron</td>\n",
       "    </tr>\n",
       "    <tr>\n",
       "      <th>1</th>\n",
       "      <td>Color</td>\n",
       "      <td>Gore Verbinski</td>\n",
       "      <td>302.0</td>\n",
       "      <td>169.0</td>\n",
       "      <td>563.0</td>\n",
       "      <td>1000.0</td>\n",
       "      <td>Orlando Bloom</td>\n",
       "      <td>40000.0</td>\n",
       "      <td>309404152.0</td>\n",
       "      <td>Action|Adventure|Fantasy</td>\n",
       "      <td>Johnny Depp</td>\n",
       "      <td>Pirates of the Caribbean: At World's End</td>\n",
       "      <td>471220</td>\n",
       "      <td>48350</td>\n",
       "      <td>Jack Davenport</td>\n",
       "      <td>0.0</td>\n",
       "      <td>goddess|marriage ceremony|marriage proposal|pirate|singapore</td>\n",
       "      <td>http://www.imdb.com/title/tt0449088/?ref_=fn_tt_tt_1</td>\n",
       "      <td>1238.0</td>\n",
       "      <td>English</td>\n",
       "      <td>USA</td>\n",
       "      <td>PG-13</td>\n",
       "      <td>300000000.0</td>\n",
       "      <td>2007.0</td>\n",
       "      <td>5000.0</td>\n",
       "      <td>7.1</td>\n",
       "      <td>2.35</td>\n",
       "      <td>0</td>\n",
       "      <td>tt0449088</td>\n",
       "      <td>2007.0</td>\n",
       "      <td>Gore Verbinski</td>\n",
       "    </tr>\n",
       "  </tbody>\n",
       "</table>\n",
       "</div>"
      ],
      "text/plain": [
       "   color   director_name  num_critic_for_reviews  duration  \\\n",
       "0  Color   James Cameron                   723.0     178.0   \n",
       "1  Color  Gore Verbinski                   302.0     169.0   \n",
       "\n",
       "   director_facebook_likes  actor_3_facebook_likes      actor_2_name  \\\n",
       "0                      0.0                   855.0  Joel David Moore   \n",
       "1                    563.0                  1000.0     Orlando Bloom   \n",
       "\n",
       "   actor_1_facebook_likes        gross                           genres  \\\n",
       "0                  1000.0  760505847.0  Action|Adventure|Fantasy|Sci-Fi   \n",
       "1                 40000.0  309404152.0         Action|Adventure|Fantasy   \n",
       "\n",
       "  actor_1_name                                movie_title  num_voted_users  \\\n",
       "0  CCH Pounder                                    Avatar            886204   \n",
       "1  Johnny Depp  Pirates of the Caribbean: At World's End            471220   \n",
       "\n",
       "   cast_total_facebook_likes    actor_3_name  facenumber_in_poster  \\\n",
       "0                       4834       Wes Studi                   0.0   \n",
       "1                      48350  Jack Davenport                   0.0   \n",
       "\n",
       "                                                  plot_keywords  \\\n",
       "0                        avatar|future|marine|native|paraplegic   \n",
       "1  goddess|marriage ceremony|marriage proposal|pirate|singapore   \n",
       "\n",
       "                                        movie_imdb_link  num_user_for_reviews  \\\n",
       "0  http://www.imdb.com/title/tt0499549/?ref_=fn_tt_tt_1                3054.0   \n",
       "1  http://www.imdb.com/title/tt0449088/?ref_=fn_tt_tt_1                1238.0   \n",
       "\n",
       "  language country content_rating       budget  title_year  \\\n",
       "0  English     USA          PG-13  237000000.0      2009.0   \n",
       "1  English     USA          PG-13  300000000.0      2007.0   \n",
       "\n",
       "   actor_2_facebook_likes  imdb_score  aspect_ratio  movie_facebook_likes  \\\n",
       "0                   936.0         7.9          1.78                 33000   \n",
       "1                  5000.0         7.1          2.35                     0   \n",
       "\n",
       "      tconst  startYear        director  \n",
       "0  tt0499549     2009.0   James Cameron  \n",
       "1  tt0449088     2007.0  Gore Verbinski  "
      ]
     },
     "execution_count": 341,
     "metadata": {},
     "output_type": "execute_result"
    }
   ],
   "source": [
    "movies_gross.head(2)"
   ]
  },
  {
   "cell_type": "code",
   "execution_count": 12,
   "metadata": {},
   "outputs": [],
   "source": [
    "# Aca sumo load_data y mergeo con movies_gross\n",
    "# movies_full = load_data()\n",
    "# movies = movies_full.merge(movie_gross, on = 'tconst', how = 'inner')\n"
   ]
  },
  {
   "cell_type": "code",
   "execution_count": 13,
   "metadata": {},
   "outputs": [],
   "source": [
    "# imdb_scrapper_budget = data.imdb_scrapper(PATH)"
   ]
  },
  {
   "cell_type": "markdown",
   "metadata": {},
   "source": [
    "## Filtrmamos el ds"
   ]
  },
  {
   "cell_type": "code",
   "execution_count": 379,
   "metadata": {},
   "outputs": [
    {
     "data": {
      "text/html": [
       "<div>\n",
       "<style scoped>\n",
       "    .dataframe tbody tr th:only-of-type {\n",
       "        vertical-align: middle;\n",
       "    }\n",
       "\n",
       "    .dataframe tbody tr th {\n",
       "        vertical-align: top;\n",
       "    }\n",
       "\n",
       "    .dataframe thead th {\n",
       "        text-align: right;\n",
       "    }\n",
       "</style>\n",
       "<table border=\"1\" class=\"dataframe\">\n",
       "  <thead>\n",
       "    <tr style=\"text-align: right;\">\n",
       "      <th></th>\n",
       "      <th>director</th>\n",
       "      <th>actor_1_name</th>\n",
       "      <th>actor_2_name</th>\n",
       "      <th>actor_3_name</th>\n",
       "      <th>genres</th>\n",
       "      <th>movie_title</th>\n",
       "      <th>movie_imdb_link</th>\n",
       "      <th>language</th>\n",
       "      <th>country</th>\n",
       "      <th>content_rating</th>\n",
       "      <th>duration</th>\n",
       "      <th>title_year</th>\n",
       "      <th>startYear</th>\n",
       "      <th>num_critic_for_reviews</th>\n",
       "      <th>director_facebook_likes</th>\n",
       "      <th>actor_2_facebook_likes</th>\n",
       "      <th>actor_3_facebook_likes</th>\n",
       "      <th>actor_1_facebook_likes</th>\n",
       "      <th>num_voted_users</th>\n",
       "      <th>cast_total_facebook_likes</th>\n",
       "      <th>facenumber_in_poster</th>\n",
       "      <th>num_user_for_reviews</th>\n",
       "      <th>imdb_score</th>\n",
       "      <th>tconst</th>\n",
       "      <th>budget</th>\n",
       "    </tr>\n",
       "  </thead>\n",
       "  <tbody>\n",
       "    <tr>\n",
       "      <th>0</th>\n",
       "      <td>James Cameron</td>\n",
       "      <td>CCH Pounder</td>\n",
       "      <td>Joel David Moore</td>\n",
       "      <td>Wes Studi</td>\n",
       "      <td>Action|Adventure|Fantasy|Sci-Fi</td>\n",
       "      <td>Avatar</td>\n",
       "      <td>http://www.imdb.com/title/tt0499549/?ref_=fn_tt_tt_1</td>\n",
       "      <td>English</td>\n",
       "      <td>USA</td>\n",
       "      <td>PG-13</td>\n",
       "      <td>178.0</td>\n",
       "      <td>2009.0</td>\n",
       "      <td>2009.0</td>\n",
       "      <td>723.0</td>\n",
       "      <td>0.0</td>\n",
       "      <td>936.0</td>\n",
       "      <td>855.0</td>\n",
       "      <td>1000.0</td>\n",
       "      <td>886204</td>\n",
       "      <td>4834</td>\n",
       "      <td>0.0</td>\n",
       "      <td>3054.0</td>\n",
       "      <td>7.9</td>\n",
       "      <td>tt0499549</td>\n",
       "      <td>237000000.0</td>\n",
       "    </tr>\n",
       "    <tr>\n",
       "      <th>1</th>\n",
       "      <td>Gore Verbinski</td>\n",
       "      <td>Johnny Depp</td>\n",
       "      <td>Orlando Bloom</td>\n",
       "      <td>Jack Davenport</td>\n",
       "      <td>Action|Adventure|Fantasy</td>\n",
       "      <td>Pirates of the Caribbean: At World's End</td>\n",
       "      <td>http://www.imdb.com/title/tt0449088/?ref_=fn_tt_tt_1</td>\n",
       "      <td>English</td>\n",
       "      <td>USA</td>\n",
       "      <td>PG-13</td>\n",
       "      <td>169.0</td>\n",
       "      <td>2007.0</td>\n",
       "      <td>2007.0</td>\n",
       "      <td>302.0</td>\n",
       "      <td>563.0</td>\n",
       "      <td>5000.0</td>\n",
       "      <td>1000.0</td>\n",
       "      <td>40000.0</td>\n",
       "      <td>471220</td>\n",
       "      <td>48350</td>\n",
       "      <td>0.0</td>\n",
       "      <td>1238.0</td>\n",
       "      <td>7.1</td>\n",
       "      <td>tt0449088</td>\n",
       "      <td>300000000.0</td>\n",
       "    </tr>\n",
       "  </tbody>\n",
       "</table>\n",
       "</div>"
      ],
      "text/plain": [
       "         director actor_1_name      actor_2_name    actor_3_name  \\\n",
       "0   James Cameron  CCH Pounder  Joel David Moore       Wes Studi   \n",
       "1  Gore Verbinski  Johnny Depp     Orlando Bloom  Jack Davenport   \n",
       "\n",
       "                            genres                                movie_title  \\\n",
       "0  Action|Adventure|Fantasy|Sci-Fi                                    Avatar    \n",
       "1         Action|Adventure|Fantasy  Pirates of the Caribbean: At World's End    \n",
       "\n",
       "                                        movie_imdb_link language country  \\\n",
       "0  http://www.imdb.com/title/tt0499549/?ref_=fn_tt_tt_1  English     USA   \n",
       "1  http://www.imdb.com/title/tt0449088/?ref_=fn_tt_tt_1  English     USA   \n",
       "\n",
       "  content_rating  duration  title_year  startYear  num_critic_for_reviews  \\\n",
       "0          PG-13     178.0      2009.0     2009.0                   723.0   \n",
       "1          PG-13     169.0      2007.0     2007.0                   302.0   \n",
       "\n",
       "   director_facebook_likes  actor_2_facebook_likes  actor_3_facebook_likes  \\\n",
       "0                      0.0                   936.0                   855.0   \n",
       "1                    563.0                  5000.0                  1000.0   \n",
       "\n",
       "   actor_1_facebook_likes  num_voted_users  cast_total_facebook_likes  \\\n",
       "0                  1000.0           886204                       4834   \n",
       "1                 40000.0           471220                      48350   \n",
       "\n",
       "   facenumber_in_poster  num_user_for_reviews  imdb_score     tconst  \\\n",
       "0                   0.0                3054.0         7.9  tt0499549   \n",
       "1                   0.0                1238.0         7.1  tt0449088   \n",
       "\n",
       "        budget  \n",
       "0  237000000.0  \n",
       "1  300000000.0  "
      ]
     },
     "execution_count": 379,
     "metadata": {},
     "output_type": "execute_result"
    }
   ],
   "source": [
    "# Filtro columnas del df movie_gross y me quedo con las que pueden servir\n",
    "df_movies_gross= movies_gross[['director', 'actor_1_name','actor_2_name', 'actor_3_name', 'genres', 'movie_title', 'movie_imdb_link', 'language', 'country',\n",
    "                               'content_rating', 'duration', 'title_year', 'startYear',\n",
    "                  'num_critic_for_reviews', 'director_facebook_likes', 'actor_2_facebook_likes', 'actor_3_facebook_likes', 'actor_1_facebook_likes', 'num_voted_users', \n",
    "                  'cast_total_facebook_likes','facenumber_in_poster', 'num_user_for_reviews', 'imdb_score', 'tconst', 'budget']]\n",
    "df_movies_gross.head(2)"
   ]
  },
  {
   "cell_type": "markdown",
   "metadata": {},
   "source": [
    "## Data Cleanning"
   ]
  },
  {
   "cell_type": "code",
   "execution_count": 380,
   "metadata": {},
   "outputs": [
    {
     "data": {
      "text/plain": [
       "Drama                                         236\n",
       "Comedy                                        209\n",
       "Comedy|Drama                                  191\n",
       "Comedy|Drama|Romance                          187\n",
       "Comedy|Romance                                158\n",
       "                                             ... \n",
       "Music                                           1\n",
       "Adventure|Comedy|Crime|Family|Musical           1\n",
       "Action|Comedy|Crime|Drama|Romance|Thriller      1\n",
       "Biography|Comedy|Drama|War                      1\n",
       "Drama|Family|History|Musical                    1\n",
       "Name: genres, Length: 914, dtype: int64"
      ]
     },
     "execution_count": 380,
     "metadata": {},
     "output_type": "execute_result"
    }
   ],
   "source": [
    "df_movies_gross.genres.value_counts()"
   ]
  },
  {
   "cell_type": "code",
   "execution_count": 381,
   "metadata": {
    "id": "nnGQQi_Ev9hg"
   },
   "outputs": [],
   "source": [
    "# me quedo con las peliculas que tengan un budget asignado, \n",
    "# y también con las que sean de 1970 (revisar el año) y con las que no esten duplicadas\n",
    "# revisar el tipo de moneda de cada pais, porque me suena a que o son outliers o estan en otra moneda\n",
    "\n",
    "from dateutil.parser import parse\n",
    "\n",
    "df_movies_gross = df_movies_gross[~df_movies_gross.budget.isna()].copy()\n",
    "df_movies_gross = df_movies_gross[df_movies_gross.title_year > 1990].copy()\n",
    "df_movies_gross['tconst'] = df_movies_gross.movie_imdb_link.apply(lambda x: x.split('/')[4])\n",
    "# df_movies_gross = df_movies_gross.drop_duplicates(df_movies_gross.columns[df_movies_gross.columns.isin(['tconst'])],\n",
    "#                         keep='first')"
   ]
  },
  {
   "cell_type": "code",
   "execution_count": 382,
   "metadata": {},
   "outputs": [],
   "source": [
    "# Analizo si hay peliculas duplicadas\n",
    "# df_movies_gross.drop_duplicates(subset=['tconst'], inplace=True)\n",
    "df_movies_gross = df_movies_gross.drop_duplicates(subset=['tconst'])"
   ]
  },
  {
   "cell_type": "code",
   "execution_count": 383,
   "metadata": {},
   "outputs": [
    {
     "data": {
      "text/plain": [
       "tconst\n",
       "tt5001130    1\n",
       "tt0296166    1\n",
       "tt0301727    1\n",
       "tt0301470    1\n",
       "tt0301390    1\n",
       "dtype: int64"
      ]
     },
     "execution_count": 383,
     "metadata": {},
     "output_type": "execute_result"
    }
   ],
   "source": [
    "df_movies_gross.pivot_table(index=['tconst'], aggfunc='size').sort_values( ascending=False).head()"
   ]
  },
  {
   "cell_type": "code",
   "execution_count": 384,
   "metadata": {},
   "outputs": [
    {
     "data": {
      "text/html": [
       "<div>\n",
       "<style scoped>\n",
       "    .dataframe tbody tr th:only-of-type {\n",
       "        vertical-align: middle;\n",
       "    }\n",
       "\n",
       "    .dataframe tbody tr th {\n",
       "        vertical-align: top;\n",
       "    }\n",
       "\n",
       "    .dataframe thead th {\n",
       "        text-align: right;\n",
       "    }\n",
       "</style>\n",
       "<table border=\"1\" class=\"dataframe\">\n",
       "  <thead>\n",
       "    <tr style=\"text-align: right;\">\n",
       "      <th></th>\n",
       "      <th>director</th>\n",
       "      <th>actor_1_name</th>\n",
       "      <th>actor_2_name</th>\n",
       "      <th>actor_3_name</th>\n",
       "      <th>genres</th>\n",
       "      <th>movie_title</th>\n",
       "      <th>movie_imdb_link</th>\n",
       "      <th>language</th>\n",
       "      <th>country</th>\n",
       "      <th>content_rating</th>\n",
       "      <th>duration</th>\n",
       "      <th>title_year</th>\n",
       "      <th>startYear</th>\n",
       "      <th>num_critic_for_reviews</th>\n",
       "      <th>director_facebook_likes</th>\n",
       "      <th>actor_2_facebook_likes</th>\n",
       "      <th>actor_3_facebook_likes</th>\n",
       "      <th>actor_1_facebook_likes</th>\n",
       "      <th>num_voted_users</th>\n",
       "      <th>cast_total_facebook_likes</th>\n",
       "      <th>facenumber_in_poster</th>\n",
       "      <th>num_user_for_reviews</th>\n",
       "      <th>imdb_score</th>\n",
       "      <th>tconst</th>\n",
       "      <th>budget</th>\n",
       "    </tr>\n",
       "  </thead>\n",
       "  <tbody>\n",
       "    <tr>\n",
       "      <th>4018</th>\n",
       "      <td>Charles Ferguson</td>\n",
       "      <td>Jane Goodall</td>\n",
       "      <td>Jerry Brown</td>\n",
       "      <td>Peter Agnefjall</td>\n",
       "      <td>Documentary</td>\n",
       "      <td>Time to Choose</td>\n",
       "      <td>http://www.imdb.com/title/tt5001130/?ref_=fn_tt_tt_1</td>\n",
       "      <td>English</td>\n",
       "      <td>USA</td>\n",
       "      <td>NaN</td>\n",
       "      <td>100.0</td>\n",
       "      <td>2015.0</td>\n",
       "      <td>2015.0</td>\n",
       "      <td>6.0</td>\n",
       "      <td>117.0</td>\n",
       "      <td>3.0</td>\n",
       "      <td>0.0</td>\n",
       "      <td>21.0</td>\n",
       "      <td>75</td>\n",
       "      <td>24</td>\n",
       "      <td>0.0</td>\n",
       "      <td>2.0</td>\n",
       "      <td>7.0</td>\n",
       "      <td>tt5001130</td>\n",
       "      <td>3500000.0</td>\n",
       "    </tr>\n",
       "  </tbody>\n",
       "</table>\n",
       "</div>"
      ],
      "text/plain": [
       "              director  actor_1_name actor_2_name     actor_3_name  \\\n",
       "4018  Charles Ferguson  Jane Goodall  Jerry Brown  Peter Agnefjall   \n",
       "\n",
       "           genres      movie_title  \\\n",
       "4018  Documentary  Time to Choose    \n",
       "\n",
       "                                           movie_imdb_link language country  \\\n",
       "4018  http://www.imdb.com/title/tt5001130/?ref_=fn_tt_tt_1  English     USA   \n",
       "\n",
       "     content_rating  duration  title_year  startYear  num_critic_for_reviews  \\\n",
       "4018            NaN     100.0      2015.0     2015.0                     6.0   \n",
       "\n",
       "      director_facebook_likes  actor_2_facebook_likes  actor_3_facebook_likes  \\\n",
       "4018                    117.0                     3.0                     0.0   \n",
       "\n",
       "      actor_1_facebook_likes  num_voted_users  cast_total_facebook_likes  \\\n",
       "4018                    21.0               75                         24   \n",
       "\n",
       "      facenumber_in_poster  num_user_for_reviews  imdb_score     tconst  \\\n",
       "4018                   0.0                   2.0         7.0  tt5001130   \n",
       "\n",
       "         budget  \n",
       "4018  3500000.0  "
      ]
     },
     "execution_count": 384,
     "metadata": {},
     "output_type": "execute_result"
    }
   ],
   "source": [
    "df_movies_gross[df_movies_gross.tconst==\"tt5001130\"].head()"
   ]
  },
  {
   "cell_type": "code",
   "execution_count": 385,
   "metadata": {
    "colab": {
     "base_uri": "https://localhost:8080/",
     "height": 309
    },
    "id": "7C5TFJJoytjN",
    "outputId": "89c6e436-c011-4946-8293-c18ffb7b9793"
   },
   "outputs": [
    {
     "data": {
      "text/html": [
       "<div>\n",
       "<style scoped>\n",
       "    .dataframe tbody tr th:only-of-type {\n",
       "        vertical-align: middle;\n",
       "    }\n",
       "\n",
       "    .dataframe tbody tr th {\n",
       "        vertical-align: top;\n",
       "    }\n",
       "\n",
       "    .dataframe thead th {\n",
       "        text-align: right;\n",
       "    }\n",
       "</style>\n",
       "<table border=\"1\" class=\"dataframe\">\n",
       "  <thead>\n",
       "    <tr style=\"text-align: right;\">\n",
       "      <th></th>\n",
       "      <th>director</th>\n",
       "      <th>actor_1_name</th>\n",
       "      <th>actor_2_name</th>\n",
       "      <th>actor_3_name</th>\n",
       "      <th>genres</th>\n",
       "      <th>movie_title</th>\n",
       "      <th>movie_imdb_link</th>\n",
       "      <th>language</th>\n",
       "      <th>country</th>\n",
       "      <th>content_rating</th>\n",
       "      <th>duration</th>\n",
       "      <th>title_year</th>\n",
       "      <th>startYear</th>\n",
       "      <th>num_critic_for_reviews</th>\n",
       "      <th>director_facebook_likes</th>\n",
       "      <th>actor_2_facebook_likes</th>\n",
       "      <th>actor_3_facebook_likes</th>\n",
       "      <th>actor_1_facebook_likes</th>\n",
       "      <th>num_voted_users</th>\n",
       "      <th>cast_total_facebook_likes</th>\n",
       "      <th>facenumber_in_poster</th>\n",
       "      <th>num_user_for_reviews</th>\n",
       "      <th>imdb_score</th>\n",
       "      <th>tconst</th>\n",
       "      <th>budget</th>\n",
       "    </tr>\n",
       "  </thead>\n",
       "  <tbody>\n",
       "    <tr>\n",
       "      <th>2988</th>\n",
       "      <td>Joon-ho Bong</td>\n",
       "      <td>Doona Bae</td>\n",
       "      <td>Kang-ho Song</td>\n",
       "      <td>Ah-sung Ko</td>\n",
       "      <td>Comedy|Drama|Horror|Sci-Fi</td>\n",
       "      <td>The Host</td>\n",
       "      <td>http://www.imdb.com/title/tt0468492/?ref_=fn_tt_tt_1</td>\n",
       "      <td>Korean</td>\n",
       "      <td>South Korea</td>\n",
       "      <td>R</td>\n",
       "      <td>110.0</td>\n",
       "      <td>2006.0</td>\n",
       "      <td>2006.0</td>\n",
       "      <td>363.0</td>\n",
       "      <td>584.0</td>\n",
       "      <td>398.0</td>\n",
       "      <td>74.0</td>\n",
       "      <td>629.0</td>\n",
       "      <td>68883</td>\n",
       "      <td>1173</td>\n",
       "      <td>0.0</td>\n",
       "      <td>279.0</td>\n",
       "      <td>7.0</td>\n",
       "      <td>tt0468492</td>\n",
       "      <td>1.221550e+10</td>\n",
       "    </tr>\n",
       "    <tr>\n",
       "      <th>3859</th>\n",
       "      <td>Chan-wook Park</td>\n",
       "      <td>Min-sik Choi</td>\n",
       "      <td>Yeong-ae Lee</td>\n",
       "      <td>Hye-jeong Kang</td>\n",
       "      <td>Crime|Drama</td>\n",
       "      <td>Lady Vengeance</td>\n",
       "      <td>http://www.imdb.com/title/tt0451094/?ref_=fn_tt_tt_1</td>\n",
       "      <td>Korean</td>\n",
       "      <td>South Korea</td>\n",
       "      <td>R</td>\n",
       "      <td>112.0</td>\n",
       "      <td>2005.0</td>\n",
       "      <td>2005.0</td>\n",
       "      <td>202.0</td>\n",
       "      <td>0.0</td>\n",
       "      <td>126.0</td>\n",
       "      <td>38.0</td>\n",
       "      <td>717.0</td>\n",
       "      <td>53508</td>\n",
       "      <td>907</td>\n",
       "      <td>0.0</td>\n",
       "      <td>131.0</td>\n",
       "      <td>7.7</td>\n",
       "      <td>tt0451094</td>\n",
       "      <td>4.200000e+09</td>\n",
       "    </tr>\n",
       "  </tbody>\n",
       "</table>\n",
       "</div>"
      ],
      "text/plain": [
       "            director  actor_1_name  actor_2_name    actor_3_name  \\\n",
       "2988    Joon-ho Bong     Doona Bae  Kang-ho Song      Ah-sung Ko   \n",
       "3859  Chan-wook Park  Min-sik Choi  Yeong-ae Lee  Hye-jeong Kang   \n",
       "\n",
       "                          genres      movie_title  \\\n",
       "2988  Comedy|Drama|Horror|Sci-Fi        The Host    \n",
       "3859                 Crime|Drama  Lady Vengeance    \n",
       "\n",
       "                                           movie_imdb_link language  \\\n",
       "2988  http://www.imdb.com/title/tt0468492/?ref_=fn_tt_tt_1   Korean   \n",
       "3859  http://www.imdb.com/title/tt0451094/?ref_=fn_tt_tt_1   Korean   \n",
       "\n",
       "          country content_rating  duration  title_year  startYear  \\\n",
       "2988  South Korea              R     110.0      2006.0     2006.0   \n",
       "3859  South Korea              R     112.0      2005.0     2005.0   \n",
       "\n",
       "      num_critic_for_reviews  director_facebook_likes  actor_2_facebook_likes  \\\n",
       "2988                   363.0                    584.0                   398.0   \n",
       "3859                   202.0                      0.0                   126.0   \n",
       "\n",
       "      actor_3_facebook_likes  actor_1_facebook_likes  num_voted_users  \\\n",
       "2988                    74.0                   629.0            68883   \n",
       "3859                    38.0                   717.0            53508   \n",
       "\n",
       "      cast_total_facebook_likes  facenumber_in_poster  num_user_for_reviews  \\\n",
       "2988                       1173                   0.0                 279.0   \n",
       "3859                        907                   0.0                 131.0   \n",
       "\n",
       "      imdb_score     tconst        budget  \n",
       "2988         7.0  tt0468492  1.221550e+10  \n",
       "3859         7.7  tt0451094  4.200000e+09  "
      ]
     },
     "execution_count": 385,
     "metadata": {},
     "output_type": "execute_result"
    }
   ],
   "source": [
    "df_movies_gross.sort_values('budget', ascending=False).head(2)"
   ]
  },
  {
   "cell_type": "code",
   "execution_count": 386,
   "metadata": {},
   "outputs": [
    {
     "data": {
      "image/png": "[encoded data removed]",
      "text/plain": [
       "<Figure size 432x288 with 1 Axes>"
      ]
     },
     "metadata": {
      "needs_background": "light"
     },
     "output_type": "display_data"
    }
   ],
   "source": [
    "log_vars = True\n",
    "mvp_budget_utils.plot_budget_validation(df_movies_gross, movies_gross, log_vars)"
   ]
  },
  {
   "cell_type": "code",
   "execution_count": 387,
   "metadata": {},
   "outputs": [
    {
     "data": {
      "image/png": "[encoded data removed]",
      "text/plain": [
       "<Figure size 432x288 with 1 Axes>"
      ]
     },
     "metadata": {
      "needs_background": "light"
     },
     "output_type": "display_data"
    }
   ],
   "source": [
    "mvp_budget_utils.plot_budget_validation(df_movies_gross, movies_gross, False)"
   ]
  },
  {
   "cell_type": "code",
   "execution_count": 388,
   "metadata": {},
   "outputs": [
    {
     "data": {
      "text/plain": [
       "0.7680452093501156"
      ]
     },
     "execution_count": 388,
     "metadata": {},
     "output_type": "execute_result"
    }
   ],
   "source": [
    "# cuanto representan las peliculas de USA \n",
    "(df_movies_gross.country == 'USA').sum() / len(df_movies_gross)"
   ]
  },
  {
   "cell_type": "code",
   "execution_count": 389,
   "metadata": {
    "id": "HjsBvj9Vyzw1"
   },
   "outputs": [],
   "source": [
    "df_usa_budget = df_movies_gross[df_movies_gross.country == 'USA'].copy()"
   ]
  },
  {
   "cell_type": "markdown",
   "metadata": {},
   "source": [
    "### Analizo si me mueve la aguja tener solo US"
   ]
  },
  {
   "cell_type": "code",
   "execution_count": 390,
   "metadata": {},
   "outputs": [
    {
     "data": {
      "image/png": "[encoded data removed]",
      "text/plain": [
       "<Figure size 432x288 with 1 Axes>"
      ]
     },
     "metadata": {
      "needs_background": "light"
     },
     "output_type": "display_data"
    }
   ],
   "source": [
    "mvp_budget_utils.plot_budget_validation(df_usa_budget, movies_gross)"
   ]
  },
  {
   "cell_type": "markdown",
   "metadata": {},
   "source": [
    "### Comparo el filtrado vs el real"
   ]
  },
  {
   "cell_type": "code",
   "execution_count": 391,
   "metadata": {
    "colab": {
     "base_uri": "https://localhost:8080/",
     "height": 297
    },
    "id": "it6VUWqnzSts",
    "outputId": "838c4266-c667-49e6-a29b-f87232dc6af3"
   },
   "outputs": [
    {
     "data": {
      "text/html": [
       "<div>\n",
       "<style scoped>\n",
       "    .dataframe tbody tr th:only-of-type {\n",
       "        vertical-align: middle;\n",
       "    }\n",
       "\n",
       "    .dataframe tbody tr th {\n",
       "        vertical-align: top;\n",
       "    }\n",
       "\n",
       "    .dataframe thead th {\n",
       "        text-align: right;\n",
       "    }\n",
       "</style>\n",
       "<table border=\"1\" class=\"dataframe\">\n",
       "  <thead>\n",
       "    <tr style=\"text-align: right;\">\n",
       "      <th></th>\n",
       "      <th>title_year</th>\n",
       "      <th>budget</th>\n",
       "    </tr>\n",
       "  </thead>\n",
       "  <tbody>\n",
       "    <tr>\n",
       "      <th>count</th>\n",
       "      <td>2990.000000</td>\n",
       "      <td>2.990000e+03</td>\n",
       "    </tr>\n",
       "    <tr>\n",
       "      <th>mean</th>\n",
       "      <td>2005.630769</td>\n",
       "      <td>3.863388e+07</td>\n",
       "    </tr>\n",
       "    <tr>\n",
       "      <th>std</th>\n",
       "      <td>6.406294</td>\n",
       "      <td>4.361293e+07</td>\n",
       "    </tr>\n",
       "    <tr>\n",
       "      <th>min</th>\n",
       "      <td>1991.000000</td>\n",
       "      <td>2.180000e+02</td>\n",
       "    </tr>\n",
       "    <tr>\n",
       "      <th>25%</th>\n",
       "      <td>2001.000000</td>\n",
       "      <td>8.000000e+06</td>\n",
       "    </tr>\n",
       "    <tr>\n",
       "      <th>50%</th>\n",
       "      <td>2006.000000</td>\n",
       "      <td>2.500000e+07</td>\n",
       "    </tr>\n",
       "    <tr>\n",
       "      <th>75%</th>\n",
       "      <td>2011.000000</td>\n",
       "      <td>5.200000e+07</td>\n",
       "    </tr>\n",
       "    <tr>\n",
       "      <th>max</th>\n",
       "      <td>2016.000000</td>\n",
       "      <td>3.000000e+08</td>\n",
       "    </tr>\n",
       "  </tbody>\n",
       "</table>\n",
       "</div>"
      ],
      "text/plain": [
       "        title_year        budget\n",
       "count  2990.000000  2.990000e+03\n",
       "mean   2005.630769  3.863388e+07\n",
       "std       6.406294  4.361293e+07\n",
       "min    1991.000000  2.180000e+02\n",
       "25%    2001.000000  8.000000e+06\n",
       "50%    2006.000000  2.500000e+07\n",
       "75%    2011.000000  5.200000e+07\n",
       "max    2016.000000  3.000000e+08"
      ]
     },
     "execution_count": 391,
     "metadata": {},
     "output_type": "execute_result"
    }
   ],
   "source": [
    "df_usa_budget[['title_year','budget']].describe()"
   ]
  },
  {
   "cell_type": "code",
   "execution_count": 392,
   "metadata": {},
   "outputs": [
    {
     "data": {
      "text/html": [
       "<div>\n",
       "<style scoped>\n",
       "    .dataframe tbody tr th:only-of-type {\n",
       "        vertical-align: middle;\n",
       "    }\n",
       "\n",
       "    .dataframe tbody tr th {\n",
       "        vertical-align: top;\n",
       "    }\n",
       "\n",
       "    .dataframe thead th {\n",
       "        text-align: right;\n",
       "    }\n",
       "</style>\n",
       "<table border=\"1\" class=\"dataframe\">\n",
       "  <thead>\n",
       "    <tr style=\"text-align: right;\">\n",
       "      <th></th>\n",
       "      <th>title_year</th>\n",
       "      <th>budget</th>\n",
       "    </tr>\n",
       "  </thead>\n",
       "  <tbody>\n",
       "    <tr>\n",
       "      <th>count</th>\n",
       "      <td>4935.000000</td>\n",
       "      <td>4.551000e+03</td>\n",
       "    </tr>\n",
       "    <tr>\n",
       "      <th>mean</th>\n",
       "      <td>2002.470517</td>\n",
       "      <td>3.975262e+07</td>\n",
       "    </tr>\n",
       "    <tr>\n",
       "      <th>std</th>\n",
       "      <td>12.474599</td>\n",
       "      <td>2.061149e+08</td>\n",
       "    </tr>\n",
       "    <tr>\n",
       "      <th>min</th>\n",
       "      <td>1916.000000</td>\n",
       "      <td>2.180000e+02</td>\n",
       "    </tr>\n",
       "    <tr>\n",
       "      <th>25%</th>\n",
       "      <td>1999.000000</td>\n",
       "      <td>6.000000e+06</td>\n",
       "    </tr>\n",
       "    <tr>\n",
       "      <th>50%</th>\n",
       "      <td>2005.000000</td>\n",
       "      <td>2.000000e+07</td>\n",
       "    </tr>\n",
       "    <tr>\n",
       "      <th>75%</th>\n",
       "      <td>2011.000000</td>\n",
       "      <td>4.500000e+07</td>\n",
       "    </tr>\n",
       "    <tr>\n",
       "      <th>max</th>\n",
       "      <td>2016.000000</td>\n",
       "      <td>1.221550e+10</td>\n",
       "    </tr>\n",
       "  </tbody>\n",
       "</table>\n",
       "</div>"
      ],
      "text/plain": [
       "        title_year        budget\n",
       "count  4935.000000  4.551000e+03\n",
       "mean   2002.470517  3.975262e+07\n",
       "std      12.474599  2.061149e+08\n",
       "min    1916.000000  2.180000e+02\n",
       "25%    1999.000000  6.000000e+06\n",
       "50%    2005.000000  2.000000e+07\n",
       "75%    2011.000000  4.500000e+07\n",
       "max    2016.000000  1.221550e+10"
      ]
     },
     "execution_count": 392,
     "metadata": {},
     "output_type": "execute_result"
    }
   ],
   "source": [
    "movies_gross[['title_year','budget']].describe()"
   ]
  },
  {
   "cell_type": "code",
   "execution_count": 393,
   "metadata": {
    "colab": {
     "base_uri": "https://localhost:8080/"
    },
    "id": "U5BwSBAaSEZy",
    "outputId": "a279dd3d-8d3b-4d37-8feb-c72c10451ed4"
   },
   "outputs": [
    {
     "data": {
      "text/plain": [
       "Morgan Freeman         14\n",
       "Brad Pitt              11\n",
       "Charlize Theron        11\n",
       "James Franco            9\n",
       "Adam Sandler            9\n",
       "                       ..\n",
       "Patricia Richardson     1\n",
       "Matt Jones              1\n",
       "Giancarlo Giannini      1\n",
       "Dylan Walsh             1\n",
       "Colin Firth             1\n",
       "Name: actor_2_name, Length: 1826, dtype: int64"
      ]
     },
     "execution_count": 393,
     "metadata": {},
     "output_type": "execute_result"
    }
   ],
   "source": [
    "df_usa_budget.actor_2_name.value_counts()"
   ]
  },
  {
   "cell_type": "markdown",
   "metadata": {},
   "source": [
    "### Divido el dataset en train, val y test\n",
    "### y obtengo los siguientes data sets:\n",
    "\n",
    "X_train, X_val, X_test , lo mismo con la var y"
   ]
  },
  {
   "cell_type": "markdown",
   "metadata": {},
   "source": [
    "## Comienzo del particionado y explotacion"
   ]
  },
  {
   "cell_type": "code",
   "execution_count": 359,
   "metadata": {},
   "outputs": [
    {
     "name": "stdout",
     "output_type": "stream",
     "text": [
      "len(X): 3893 len(y): 3893 \n",
      "len(X_train): 2724, len(X_val): 779, len(X_test):     390 \n",
      "len(y_train): 2724, len(y_val): 779, len(y_test): 390\n"
     ]
    }
   ],
   "source": [
    " X_train, X_val, X_test, y_train, y_val, y_test = mvp_budget_utils.load_budget_train_dev_test(df_movies_gross)"
   ]
  },
  {
   "cell_type": "code",
   "execution_count": 360,
   "metadata": {},
   "outputs": [
    {
     "data": {
      "text/plain": [
       "{'director': 'Boris Rodriguez',\n",
       " 'actor_1_name': 'Stephen McHattie',\n",
       " 'actor_2_name': 'Thure Lindhardt',\n",
       " 'actor_3_name': 'Georgina Reilly',\n",
       " 'genres': 'Comedy|Horror',\n",
       " 'movie_title': 'Eddie: The Sleepwalking Cannibal\\xa0',\n",
       " 'movie_imdb_link': 'http://www.imdb.com/title/tt1480658/?ref_=fn_tt_tt_1',\n",
       " 'language': 'English',\n",
       " 'country': 'Canada',\n",
       " 'duration': 83.0,\n",
       " 'title_year': 2012.0,\n",
       " 'startYear': 2012.0,\n",
       " 'content_rating': 'Not Rated',\n",
       " 'num_critic_for_reviews': 56.0,\n",
       " 'director_facebook_likes': 5.0,\n",
       " 'actor_2_facebook_likes': 197.0,\n",
       " 'actor_3_facebook_likes': 98.0,\n",
       " 'actor_1_facebook_likes': 413.0,\n",
       " 'num_voted_users': 1231,\n",
       " 'cast_total_facebook_likes': 843,\n",
       " 'facenumber_in_poster': 0.0,\n",
       " 'num_user_for_reviews': 10.0,\n",
       " 'imdb_score': 5.7,\n",
       " 'tconst': 'tt1480658'}"
      ]
     },
     "execution_count": 360,
     "metadata": {},
     "output_type": "execute_result"
    }
   ],
   "source": [
    "# Acá vemos la data de train\n",
    "X_train[0]"
   ]
  },
  {
   "cell_type": "code",
   "execution_count": 361,
   "metadata": {},
   "outputs": [
    {
     "data": {
      "text/plain": [
       "1500000.0"
      ]
     },
     "execution_count": 361,
     "metadata": {},
     "output_type": "execute_result"
    }
   ],
   "source": [
    "# miro el budget para el 1er row en train\n",
    "y_train[0]"
   ]
  },
  {
   "cell_type": "code",
   "execution_count": 362,
   "metadata": {},
   "outputs": [
    {
     "data": {
      "text/plain": [
       "{'director': 'David Cronenberg',\n",
       " 'actor_1_name': 'Michael Fassbender',\n",
       " 'actor_2_name': 'Viggo Mortensen',\n",
       " 'actor_3_name': 'Sarah Gadon',\n",
       " 'genres': 'Biography|Drama|Thriller',\n",
       " 'movie_title': 'A Dangerous Method\\xa0',\n",
       " 'movie_imdb_link': 'http://www.imdb.com/title/tt1571222/?ref_=fn_tt_tt_1',\n",
       " 'language': 'English',\n",
       " 'country': 'UK',\n",
       " 'duration': 99.0,\n",
       " 'title_year': 2011.0,\n",
       " 'startYear': 2011.0,\n",
       " 'content_rating': 'R',\n",
       " 'num_critic_for_reviews': 345.0,\n",
       " 'director_facebook_likes': 0.0,\n",
       " 'actor_2_facebook_likes': 10000.0,\n",
       " 'actor_3_facebook_likes': 691.0,\n",
       " 'actor_1_facebook_likes': 13000.0,\n",
       " 'num_voted_users': 80617,\n",
       " 'cast_total_facebook_likes': 23755,\n",
       " 'facenumber_in_poster': 3.0,\n",
       " 'num_user_for_reviews': 190.0,\n",
       " 'imdb_score': 6.5,\n",
       " 'tconst': 'tt1571222'}"
      ]
     },
     "execution_count": 362,
     "metadata": {},
     "output_type": "execute_result"
    }
   ],
   "source": [
    "X_val[0]\n",
    "# data.keys()"
   ]
  },
  {
   "cell_type": "code",
   "execution_count": 363,
   "metadata": {},
   "outputs": [
    {
     "data": {
      "text/plain": [
       "15000000.0"
      ]
     },
     "execution_count": 363,
     "metadata": {},
     "output_type": "execute_result"
    }
   ],
   "source": [
    "y_val[0]"
   ]
  },
  {
   "cell_type": "markdown",
   "metadata": {},
   "source": [
    "## Modelo básico"
   ]
  },
  {
   "cell_type": "code",
   "execution_count": 394,
   "metadata": {},
   "outputs": [],
   "source": [
    "from sklearn.preprocessing import StandardScaler\n",
    "from sklearn.linear_model import LogisticRegression\n",
    "\n",
    "from sklearn.pipeline import make_union, make_pipeline\n",
    "from sklearn.feature_extraction import DictVectorizer\n",
    "\n",
    "import autosklearn.classification\n",
    "from autosklearn.metrics import roc_auc\n",
    "\n",
    "def get_features_pipe(\n",
    "        use_years: bool, use_genre: bool, \n",
    "        use_director: bool, director_kws: dict=None, post_processing=None):\n",
    "    \"\"\"\n",
    "    Construye el pipeline de features de forma parametrizada\n",
    "    \"\"\"\n",
    "    # director_kws solo tiene sentido cuando use_director=True. \n",
    "    # Esto nos va a traer dolores de cabeza a la hora de explorar el espacio de hyper parametros\n",
    "    # TODO: esto debería permitir cachear los datasets transformados\n",
    "    \n",
    "    steps = []\n",
    "    if use_years:\n",
    "        steps.append(make_pipeline(transformers.YearsAgo(), DictVectorizer(sparse=False)))\n",
    "    \n",
    "    if use_genre:\n",
    "        steps.append(make_pipeline(transformers.GenreDummies(), DictVectorizer(sparse=False)))\n",
    "        \n",
    "    if use_director:\n",
    "        director_kws = director_kws or {}\n",
    "        # cuando hacemos **director_kws usamos ese diccionario para pasar parametros\n",
    "        steps.append(make_pipeline(DirectorFeatures(**director_kws), DictVectorizer(sparse=False)))\n",
    "    \n",
    "    res = make_union(*steps)\n",
    "    if post_processing:\n",
    "        res = make_pipeline(res, post_processing)\n",
    "    return res\n",
    "\n",
    "def get_model_pipe(features_pipe, estimator):\n",
    "    return make_pipeline(features_pipe, estimator)"
   ]
  },
  {
   "cell_type": "code",
   "execution_count": 395,
   "metadata": {},
   "outputs": [],
   "source": [
    "# Creamos modelo\n",
    "model = get_model_pipe(\n",
    "    features_pipe=get_features_pipe(\n",
    "        use_years=False, use_director=False, use_genre=True, post_processing=StandardScaler()\n",
    "    ),\n",
    "    estimator=LogisticRegression()   \n",
    ")\n",
    "\n",
    "# model"
   ]
  },
  {
   "cell_type": "code",
   "execution_count": 396,
   "metadata": {},
   "outputs": [
    {
     "data": {
      "text/plain": [
       "2"
      ]
     },
     "execution_count": 396,
     "metadata": {},
     "output_type": "execute_result"
    }
   ],
   "source": [
    "len(model)"
   ]
  },
  {
   "cell_type": "code",
   "execution_count": 398,
   "metadata": {},
   "outputs": [],
   "source": [
    "model.fit(X_train, y_train)"
   ]
  },
  {
   "cell_type": "code",
   "execution_count": 369,
   "metadata": {},
   "outputs": [
    {
     "name": "stdout",
     "output_type": "stream",
     "text": [
      "accuracy:  0.025673940949935817 f1_score:  0.014444682902854484\n",
      "Root Mean Square Error:\n",
      "\n",
      "106251149.20234533\n"
     ]
    }
   ],
   "source": [
    "y_pred = model.predict(X_val)\n",
    "print('accuracy: ', accuracy_score(y_val, y_pred), 'f1_score: ', f1_score(y_val, y_pred, average = 'weighted'))\n",
    "\n",
    "MSE = np.square(np.subtract(y_val,y_pred)).mean() \n",
    " \n",
    "RMSE = math.sqrt(MSE)\n",
    "print(\"Root Mean Square Error:\\n\")\n",
    "print(RMSE)\n"
   ]
  },
  {
   "cell_type": "markdown",
   "metadata": {},
   "source": [
    "## Random Forest"
   ]
  },
  {
   "cell_type": "code",
   "execution_count": 399,
   "metadata": {},
   "outputs": [],
   "source": [
    "import copy\n",
    "import random\n",
    "\n",
    "from sklearn.pipeline import Pipeline,TransformerMixin\n",
    "from sklearn.base import BaseEstimator\n",
    "\n",
    "from sklearn.metrics import mean_squared_error, r2_score,make_scorer\n",
    "from sklearn.datasets import load_svmlight_file\n",
    "from sklearn.linear_model import LinearRegression, LassoCV\n",
    "from sklearn.svm import LinearSVR\n",
    "\n",
    "from sklearn.pipeline import FeatureUnion\n",
    "from sklearn.decomposition import PCA\n",
    "from sklearn.svm import SVC\n",
    "from sklearn.decomposition import KernelPCA\n",
    "from sklearn import datasets\n",
    "from sklearn import preprocessing\n",
    "from sklearn.preprocessing import StandardScaler, MinMaxScaler\n",
    "from sklearn.feature_selection import SelectKBest\n",
    "\n",
    "from sklearn.tree import DecisionTreeRegressor\n",
    "from sklearn.ensemble import RandomForestRegressor #use RandomForestRegressor for regression problem\n",
    "from sklearn.ensemble import GradientBoostingRegressor #For Regression\n",
    "from sklearn import tree\n",
    "\n",
    "\n",
    "from sklearn.decomposition import PCA, NMF\n",
    "\n",
    "# from mlxtend.feature_selection import ExhaustiveFeatureSelector as EFS\n",
    "# from sklearn.grid_search import GridSearchCV, RandomizedSearchCV\n",
    "from sklearn.model_selection import cross_val_score, GridSearchCV,RandomizedSearchCV\n",
    "from sklearn.feature_selection import SelectFromModel\n",
    "from sklearn.model_selection import train_test_split, StratifiedKFold,GroupKFold,KFold\n",
    "from sklearn import datasets, linear_model\n",
    "from sklearn.metrics import mean_squared_error\n",
    "from sklearn import ensemble\n",
    "\n",
    "#from sklearn.externals \n",
    "import joblib\n"
   ]
  },
  {
   "cell_type": "code",
   "execution_count": 436,
   "metadata": {},
   "outputs": [],
   "source": [
    "# dividimos el ds en train, val y test\n",
    "def load_budget_train_dev_test(df):\n",
    "\n",
    "    X = df.loc[:,'title_year':'tconst'] #me quedo con train solo\n",
    "#     X = df.loc[ : , df.columns != 'budget'] #me quedo con train solo\n",
    "    y = df[\"budget\"]  #var target y\n",
    "    \n",
    "    # Splite en 80:20, esto es train y val\n",
    "    X_train, X_val, y_train, y_val = train_test_split(X, y, train_size=0.8, random_state=101)\n",
    "\n",
    "    # AHora con el 0.875, tengo mi test, y finalmente me queda 70,20,10   (ver que 0.8 * 0.875 = 0.7)\n",
    "    X_train, X_test, y_train, y_test = train_test_split(X_train, y_train, train_size=0.875, random_state=101)\n",
    "\n",
    "    print(\"len(X): {} len(y): {} \\nlen(X_train): {}, len(X_val): {}, len(X_test): \\\n",
    "    {} \\nlen(y_train): {}, len(y_val): {}, len(y_test): {}\".format(len(X), len(y),\\\n",
    "    len(X_train), len(X_val), len(X_test), len(y_train), len(y_val), \\\n",
    "    len(y_test))) \n",
    "    \n",
    "#     return X_train.to_dict(orient='records'), X_val.to_dict(orient='records'), X_test.to_dict(orient='records'), y_train, y_val, y_test\n",
    "    return X_train, X_val, X_test, y_train, y_val, y_test"
   ]
  },
  {
   "cell_type": "code",
   "execution_count": 439,
   "metadata": {},
   "outputs": [
    {
     "data": {
      "text/html": [
       "<div>\n",
       "<style scoped>\n",
       "    .dataframe tbody tr th:only-of-type {\n",
       "        vertical-align: middle;\n",
       "    }\n",
       "\n",
       "    .dataframe tbody tr th {\n",
       "        vertical-align: top;\n",
       "    }\n",
       "\n",
       "    .dataframe thead th {\n",
       "        text-align: right;\n",
       "    }\n",
       "</style>\n",
       "<table border=\"1\" class=\"dataframe\">\n",
       "  <thead>\n",
       "    <tr style=\"text-align: right;\">\n",
       "      <th></th>\n",
       "      <th>director</th>\n",
       "      <th>actor_1_name</th>\n",
       "      <th>actor_2_name</th>\n",
       "      <th>actor_3_name</th>\n",
       "      <th>genres</th>\n",
       "      <th>movie_title</th>\n",
       "      <th>movie_imdb_link</th>\n",
       "      <th>language</th>\n",
       "      <th>country</th>\n",
       "      <th>content_rating</th>\n",
       "      <th>title_year</th>\n",
       "      <th>startYear</th>\n",
       "      <th>duration</th>\n",
       "      <th>num_critic_for_reviews</th>\n",
       "      <th>director_facebook_likes</th>\n",
       "      <th>actor_2_facebook_likes</th>\n",
       "      <th>actor_3_facebook_likes</th>\n",
       "      <th>actor_1_facebook_likes</th>\n",
       "      <th>num_voted_users</th>\n",
       "      <th>cast_total_facebook_likes</th>\n",
       "      <th>facenumber_in_poster</th>\n",
       "      <th>num_user_for_reviews</th>\n",
       "      <th>imdb_score</th>\n",
       "      <th>tconst</th>\n",
       "      <th>budget</th>\n",
       "    </tr>\n",
       "  </thead>\n",
       "  <tbody>\n",
       "    <tr>\n",
       "      <th>0</th>\n",
       "      <td>James Cameron</td>\n",
       "      <td>CCH Pounder</td>\n",
       "      <td>Joel David Moore</td>\n",
       "      <td>Wes Studi</td>\n",
       "      <td>Action|Adventure|Fantasy|Sci-Fi</td>\n",
       "      <td>Avatar</td>\n",
       "      <td>http://www.imdb.com/title/tt0499549/?ref_=fn_tt_tt_1</td>\n",
       "      <td>English</td>\n",
       "      <td>USA</td>\n",
       "      <td>PG-13</td>\n",
       "      <td>2009.0</td>\n",
       "      <td>2009.0</td>\n",
       "      <td>178.0</td>\n",
       "      <td>723.0</td>\n",
       "      <td>0.0</td>\n",
       "      <td>936.0</td>\n",
       "      <td>855.0</td>\n",
       "      <td>1000.0</td>\n",
       "      <td>886204</td>\n",
       "      <td>4834</td>\n",
       "      <td>0.0</td>\n",
       "      <td>3054.0</td>\n",
       "      <td>7.9</td>\n",
       "      <td>tt0499549</td>\n",
       "      <td>237000000.0</td>\n",
       "    </tr>\n",
       "    <tr>\n",
       "      <th>1</th>\n",
       "      <td>Gore Verbinski</td>\n",
       "      <td>Johnny Depp</td>\n",
       "      <td>Orlando Bloom</td>\n",
       "      <td>Jack Davenport</td>\n",
       "      <td>Action|Adventure|Fantasy</td>\n",
       "      <td>Pirates of the Caribbean: At World's End</td>\n",
       "      <td>http://www.imdb.com/title/tt0449088/?ref_=fn_tt_tt_1</td>\n",
       "      <td>English</td>\n",
       "      <td>USA</td>\n",
       "      <td>PG-13</td>\n",
       "      <td>2007.0</td>\n",
       "      <td>2007.0</td>\n",
       "      <td>169.0</td>\n",
       "      <td>302.0</td>\n",
       "      <td>563.0</td>\n",
       "      <td>5000.0</td>\n",
       "      <td>1000.0</td>\n",
       "      <td>40000.0</td>\n",
       "      <td>471220</td>\n",
       "      <td>48350</td>\n",
       "      <td>0.0</td>\n",
       "      <td>1238.0</td>\n",
       "      <td>7.1</td>\n",
       "      <td>tt0449088</td>\n",
       "      <td>300000000.0</td>\n",
       "    </tr>\n",
       "  </tbody>\n",
       "</table>\n",
       "</div>"
      ],
      "text/plain": [
       "         director actor_1_name      actor_2_name    actor_3_name  \\\n",
       "0   James Cameron  CCH Pounder  Joel David Moore       Wes Studi   \n",
       "1  Gore Verbinski  Johnny Depp     Orlando Bloom  Jack Davenport   \n",
       "\n",
       "                            genres                                movie_title  \\\n",
       "0  Action|Adventure|Fantasy|Sci-Fi                                    Avatar    \n",
       "1         Action|Adventure|Fantasy  Pirates of the Caribbean: At World's End    \n",
       "\n",
       "                                        movie_imdb_link language country  \\\n",
       "0  http://www.imdb.com/title/tt0499549/?ref_=fn_tt_tt_1  English     USA   \n",
       "1  http://www.imdb.com/title/tt0449088/?ref_=fn_tt_tt_1  English     USA   \n",
       "\n",
       "  content_rating  title_year  startYear  duration  num_critic_for_reviews  \\\n",
       "0          PG-13      2009.0     2009.0     178.0                   723.0   \n",
       "1          PG-13      2007.0     2007.0     169.0                   302.0   \n",
       "\n",
       "   director_facebook_likes  actor_2_facebook_likes  actor_3_facebook_likes  \\\n",
       "0                      0.0                   936.0                   855.0   \n",
       "1                    563.0                  5000.0                  1000.0   \n",
       "\n",
       "   actor_1_facebook_likes  num_voted_users  cast_total_facebook_likes  \\\n",
       "0                  1000.0           886204                       4834   \n",
       "1                 40000.0           471220                      48350   \n",
       "\n",
       "   facenumber_in_poster  num_user_for_reviews  imdb_score     tconst  \\\n",
       "0                   0.0                3054.0         7.9  tt0499549   \n",
       "1                   0.0                1238.0         7.1  tt0449088   \n",
       "\n",
       "        budget  \n",
       "0  237000000.0  \n",
       "1  300000000.0  "
      ]
     },
     "execution_count": 439,
     "metadata": {},
     "output_type": "execute_result"
    }
   ],
   "source": [
    "# Filtro columnas del df movie_gross y me quedo con las que pueden servir\n",
    "df_movies_budget = movies_gross[['director', 'actor_1_name','actor_2_name', 'actor_3_name', 'genres', 'movie_title', 'movie_imdb_link', 'language', 'country', 'content_rating',\n",
    "                                 'title_year', 'startYear', 'duration', 'num_critic_for_reviews', 'director_facebook_likes', 'actor_2_facebook_likes', \n",
    "                                 'actor_3_facebook_likes', 'actor_1_facebook_likes', 'num_voted_users', 'cast_total_facebook_likes','facenumber_in_poster', \n",
    "                                 'num_user_for_reviews', 'imdb_score', 'tconst', 'budget']]\n",
    "df_movies_budget.head(2)"
   ]
  },
  {
   "cell_type": "code",
   "execution_count": 440,
   "metadata": {},
   "outputs": [
    {
     "name": "stdout",
     "output_type": "stream",
     "text": [
      "len(X): 5043 len(y): 5043 \n",
      "len(X_train): 3529, len(X_val): 1009, len(X_test):     505 \n",
      "len(y_train): 3529, len(y_val): 1009, len(y_test): 505\n"
     ]
    }
   ],
   "source": [
    " X_train, X_val, X_test, y_train, y_val, y_test = load_budget_train_dev_test(df_movies_budget)"
   ]
  },
  {
   "cell_type": "code",
   "execution_count": 441,
   "metadata": {},
   "outputs": [
    {
     "data": {
      "text/html": [
       "<div>\n",
       "<style scoped>\n",
       "    .dataframe tbody tr th:only-of-type {\n",
       "        vertical-align: middle;\n",
       "    }\n",
       "\n",
       "    .dataframe tbody tr th {\n",
       "        vertical-align: top;\n",
       "    }\n",
       "\n",
       "    .dataframe thead th {\n",
       "        text-align: right;\n",
       "    }\n",
       "</style>\n",
       "<table border=\"1\" class=\"dataframe\">\n",
       "  <thead>\n",
       "    <tr style=\"text-align: right;\">\n",
       "      <th></th>\n",
       "      <th>title_year</th>\n",
       "      <th>startYear</th>\n",
       "      <th>duration</th>\n",
       "      <th>num_critic_for_reviews</th>\n",
       "      <th>director_facebook_likes</th>\n",
       "      <th>actor_2_facebook_likes</th>\n",
       "      <th>actor_3_facebook_likes</th>\n",
       "      <th>actor_1_facebook_likes</th>\n",
       "      <th>num_voted_users</th>\n",
       "      <th>cast_total_facebook_likes</th>\n",
       "      <th>facenumber_in_poster</th>\n",
       "      <th>num_user_for_reviews</th>\n",
       "      <th>imdb_score</th>\n",
       "      <th>tconst</th>\n",
       "    </tr>\n",
       "  </thead>\n",
       "  <tbody>\n",
       "    <tr>\n",
       "      <th>4003</th>\n",
       "      <td>1987.0</td>\n",
       "      <td>1987.0</td>\n",
       "      <td>37.0</td>\n",
       "      <td>252.0</td>\n",
       "      <td>0.0</td>\n",
       "      <td>328.0</td>\n",
       "      <td>199.0</td>\n",
       "      <td>634.0</td>\n",
       "      <td>113451</td>\n",
       "      <td>1347</td>\n",
       "      <td>0.0</td>\n",
       "      <td>537.0</td>\n",
       "      <td>7.8</td>\n",
       "      <td>tt0092991</td>\n",
       "    </tr>\n",
       "    <tr>\n",
       "      <th>1053</th>\n",
       "      <td>2014.0</td>\n",
       "      <td>2014.0</td>\n",
       "      <td>115.0</td>\n",
       "      <td>222.0</td>\n",
       "      <td>118.0</td>\n",
       "      <td>794.0</td>\n",
       "      <td>482.0</td>\n",
       "      <td>14000.0</td>\n",
       "      <td>133436</td>\n",
       "      <td>16967</td>\n",
       "      <td>0.0</td>\n",
       "      <td>323.0</td>\n",
       "      <td>6.0</td>\n",
       "      <td>tt2446042</td>\n",
       "    </tr>\n",
       "  </tbody>\n",
       "</table>\n",
       "</div>"
      ],
      "text/plain": [
       "      title_year  startYear  duration  num_critic_for_reviews  \\\n",
       "4003      1987.0     1987.0      37.0                   252.0   \n",
       "1053      2014.0     2014.0     115.0                   222.0   \n",
       "\n",
       "      director_facebook_likes  actor_2_facebook_likes  actor_3_facebook_likes  \\\n",
       "4003                      0.0                   328.0                   199.0   \n",
       "1053                    118.0                   794.0                   482.0   \n",
       "\n",
       "      actor_1_facebook_likes  num_voted_users  cast_total_facebook_likes  \\\n",
       "4003                   634.0           113451                       1347   \n",
       "1053                 14000.0           133436                      16967   \n",
       "\n",
       "      facenumber_in_poster  num_user_for_reviews  imdb_score     tconst  \n",
       "4003                   0.0                 537.0         7.8  tt0092991  \n",
       "1053                   0.0                 323.0         6.0  tt2446042  "
      ]
     },
     "execution_count": 441,
     "metadata": {},
     "output_type": "execute_result"
    }
   ],
   "source": [
    "X_train.head(2)"
   ]
  },
  {
   "cell_type": "code",
   "execution_count": 442,
   "metadata": {},
   "outputs": [
    {
     "data": {
      "text/plain": [
       "3229           NaN\n",
       "941     70000000.0\n",
       "Name: budget, dtype: float64"
      ]
     },
     "execution_count": 442,
     "metadata": {},
     "output_type": "execute_result"
    }
   ],
   "source": [
    "y_test.head(2)"
   ]
  },
  {
   "cell_type": "code",
   "execution_count": 443,
   "metadata": {},
   "outputs": [],
   "source": [
    "#   train_models(pipe,     params, X_p2_7,y_p2_7, X_pred_p2_7, y_pred_p2_7, vars_target, str(pipe_label+'_7_days_p2'))\n",
    "def train_models(pipeline, params, X,      y,     X_test,      y_test,       vars_target, pipe_label):\n",
    "\n",
    "    # me quedo solo con las numericas\n",
    "#     df_movies_budget.iloc[:,10:-2].head(2)\n",
    "    X_test_= copy.deepcopy(X_test.loc[:,'title_year':'imdb_score'])\n",
    "\n",
    "    #Params RS\n",
    "    rs = RandomizedSearchCV(pipeline, param_distributions=params, refit=True,\n",
    "                  scoring='neg_mean_squared_error', cv=5, n_jobs=-1, n_iter=1000,random_state=42, verbose=0)\n",
    "    d = []\n",
    "#         rs.fit(X.iloc[:,5:-4].values, y[i].values)\n",
    "    rs.fit(X.loc[:,'title_year':'imdb_score'].values, y.values)\n",
    "    rs_model= rs.best_estimator_\n",
    "\n",
    "    d.append({'pipe_label': pipe_label, 'target': vars_target[0], 'best_score_train': rs.best_score_,\n",
    "              'best_score_test': rs_model.score(X_test_, y_test),\n",
    "\n",
    "              'rmse_train': np.sqrt(mean_squared_error(y.values, rs_model.predict(X.loc[:,'title_year':'imdb_score'].values))),\n",
    "\n",
    "              'rmse_test': np.sqrt(mean_squared_error(y_test.values, rs_model.predict(X_test_.values)))\n",
    "             })\n",
    "    joblib.dump(rs_model, '../../model_output/'+vars_target[0]+'_'+pipe_label+'_.pkl')\n",
    "\n",
    "    out = pd.DataFrame(d)\n",
    "    out[['pipe_label','target', 'best_score_train', 'best_score_test', 'rmse_train', 'rmse_test' ]].to_csv('../../prediction_output/results.csv', mode='a', header=False, index=False)\n",
    "\n",
    "    return out"
   ]
  },
  {
   "cell_type": "code",
   "execution_count": null,
   "metadata": {},
   "outputs": [],
   "source": [
    "# pipelabel               target   best_score_train       best_score_test       rmse_train        rmse_test \n",
    "# superPipe2_budget_pred\tbudget\t-5.37036997583483E+016\t-0.319611989005745\t222679382.733614\t49092025.2335433\n",
    "# superPipe2_budget_pred\tbudget\t-5.35438078972742E+016\t0.178225768355958\t227.829.643.282294\t38.740.398.3430017"
   ]
  },
  {
   "cell_type": "code",
   "execution_count": 444,
   "metadata": {},
   "outputs": [],
   "source": [
    "class IdentityTransformer(BaseEstimator,TransformerMixin):\n",
    "    def transform(self, X, **transform_params):\n",
    "        return X\n",
    "    def fit(self, X, y=None, **fit_params):\n",
    "        return self"
   ]
  },
  {
   "cell_type": "code",
   "execution_count": 445,
   "metadata": {},
   "outputs": [],
   "source": [
    "def define_pipes():\n",
    "    # creo estimadores para transformar data (2nd features)\n",
    "    pipe1 = Pipeline([\n",
    "            ('Pipe_StandardScaler', FeatureUnion([\n",
    "                                    ('media', StandardScaler())\n",
    "                                    ],n_jobs=-1)),\n",
    "            ('RandomForestRegressor', RandomForestRegressor(bootstrap=True, criterion='mse',\n",
    "                                                            n_jobs=-1,oob_score = 'TRUE', random_state=42, verbose=0 ))\n",
    "            ])\n",
    "\n",
    "    pipe2 = Pipeline([\n",
    "            ('Pipe_MinMaxScaler', FeatureUnion([\n",
    "                                    ('range',MinMaxScaler()),\n",
    "                                    ],n_jobs=-1)),\n",
    "            ('RandomForestRegressor', RandomForestRegressor(bootstrap=True, criterion='mse',\n",
    "                                                            n_jobs=-1,oob_score = 'TRUE', random_state=42 ))\n",
    "            ])\n",
    "    pipe3 = Pipeline([\n",
    "            ('IdentityTransformer', FeatureUnion([\n",
    "                                    ('in', IdentityTransformer()),\n",
    "                                    ],n_jobs=-1)),\n",
    "            ('RandomForestRegressor', RandomForestRegressor(bootstrap=True, criterion='mse',\n",
    "                                                            n_jobs=-1,oob_score = 'TRUE', random_state=42 ))\n",
    "            ])\n",
    "\n",
    "    pipe4 = Pipeline([\n",
    "            ('superPipe', FeatureUnion([\n",
    "                                    ('in', IdentityTransformer()),\n",
    "                                    ('pca', PCA(n_components=2)),\n",
    "                                    ('nmf', NMF(init='random')),\n",
    "                                    (\"univ_select\", SelectKBest(k=1)),\n",
    "                                    ('range',MinMaxScaler()),\n",
    "                                    ('media', StandardScaler())\n",
    "                                    ],n_jobs=-1)),\n",
    "            ('RandomForestRegressor', RandomForestRegressor(bootstrap=True, criterion='mse',\n",
    "                                                            n_jobs=-1,oob_score = 'TRUE', random_state=42 ))\n",
    "            ])\n",
    "\n",
    "    pipe5 = Pipeline([\n",
    "            ('superPipe2', FeatureUnion([\n",
    "                                    ('in', IdentityTransformer()),\n",
    "                                    ('pca', PCA(n_components=2)),\n",
    "                                    ('nmf', NMF(init='random')),\n",
    "                                    (\"univ_select\", SelectKBest(k=1)),\n",
    "                                    ('range',MinMaxScaler()),\n",
    "                                    ('media', StandardScaler())\n",
    "                                    ],n_jobs=-1)),\n",
    "            ('feature_selection', SelectFromModel(LinearSVR(), threshold=None)),\n",
    "            ('RandomForestRegressor', RandomForestRegressor(bootstrap=True, criterion='mse',\n",
    "                                                            n_jobs=-1,oob_score = 'TRUE', random_state=42 ))\n",
    "            ])\n",
    "    # params estimators+alg\n",
    "    params = {\n",
    "        # RandomForestRegressor params\n",
    "        'RandomForestRegressor__max_features': ('log2', 'sqrt', None, 0.1, 0.2, 0.3, 0.4, 0.5, 0.6),\n",
    "        'RandomForestRegressor__n_estimators': random.sample(range(100, 1000), 100),\n",
    "        # 'RandomForestRegressor__n_estimators': random.sample(range(100, 1000), 100),\n",
    "        'RandomForestRegressor__max_depth': range(1, 20),\n",
    "        'RandomForestRegressor__min_samples_leaf':range(1, 20),\n",
    "        'RandomForestRegressor__min_samples_split':range(1, 20)\n",
    "    }\n",
    "    # params2 = {\n",
    "    # #     'nmf__n_components': ([2]),\n",
    "    # #     'nmf__tol': (0.001),\n",
    "    #     # RandomForestRegressor params\n",
    "    #     'RandomForestRegressor__max_features': ('log2', 'sqrt', None, 0.1, 0.2, 0.3, 0.4, 0.5, 0.6),\n",
    "    #     'RandomForestRegressor__n_estimators': random.sample(range(100, 1000), 100),\n",
    "    #     'RandomForestRegressor__max_depth': range(1, 20),\n",
    "    #     'RandomForestRegressor__min_samples_leaf':range(1, 20),\n",
    "    #     'RandomForestRegressor__min_samples_split':range(1, 20)\n",
    "    # }\n",
    "    return pipe1, pipe2, pipe3, pipe4, pipe5, params"
   ]
  },
  {
   "cell_type": "code",
   "execution_count": 446,
   "metadata": {},
   "outputs": [],
   "source": [
    "pipe1,pipe2, pipe3,pipe4, pipe5, params = define_pipes()\n",
    "# label=\"1_Random_Forest_completo_StandardScaler\"\n",
    "output={}"
   ]
  },
  {
   "cell_type": "markdown",
   "metadata": {},
   "source": [
    "## Separo en train, validation y en test\n",
    "veo que tenemos problemas con budget .. esta en nan .. los filtramos?? les imputamos la media?\n",
    "\n",
    "#### Replace using median \n",
    "\n",
    "median = df['budget'].median()\n",
    "\n",
    "df['budget'].fillna(median, inplace=True)\n",
    "\n",
    "\n",
    "### Replace dropping null values\n",
    "df_movies_budget.dropna(subset=['budget'])"
   ]
  },
  {
   "cell_type": "code",
   "execution_count": 447,
   "metadata": {},
   "outputs": [
    {
     "data": {
      "text/html": [
       "<div>\n",
       "<style scoped>\n",
       "    .dataframe tbody tr th:only-of-type {\n",
       "        vertical-align: middle;\n",
       "    }\n",
       "\n",
       "    .dataframe tbody tr th {\n",
       "        vertical-align: top;\n",
       "    }\n",
       "\n",
       "    .dataframe thead th {\n",
       "        text-align: right;\n",
       "    }\n",
       "</style>\n",
       "<table border=\"1\" class=\"dataframe\">\n",
       "  <thead>\n",
       "    <tr style=\"text-align: right;\">\n",
       "      <th></th>\n",
       "      <th>director</th>\n",
       "      <th>actor_1_name</th>\n",
       "      <th>actor_2_name</th>\n",
       "      <th>actor_3_name</th>\n",
       "      <th>genres</th>\n",
       "      <th>movie_title</th>\n",
       "      <th>movie_imdb_link</th>\n",
       "      <th>language</th>\n",
       "      <th>country</th>\n",
       "      <th>content_rating</th>\n",
       "      <th>title_year</th>\n",
       "      <th>startYear</th>\n",
       "      <th>duration</th>\n",
       "      <th>num_critic_for_reviews</th>\n",
       "      <th>director_facebook_likes</th>\n",
       "      <th>actor_2_facebook_likes</th>\n",
       "      <th>actor_3_facebook_likes</th>\n",
       "      <th>actor_1_facebook_likes</th>\n",
       "      <th>num_voted_users</th>\n",
       "      <th>cast_total_facebook_likes</th>\n",
       "      <th>facenumber_in_poster</th>\n",
       "      <th>num_user_for_reviews</th>\n",
       "      <th>imdb_score</th>\n",
       "      <th>tconst</th>\n",
       "      <th>budget</th>\n",
       "    </tr>\n",
       "  </thead>\n",
       "  <tbody>\n",
       "    <tr>\n",
       "      <th>0</th>\n",
       "      <td>James Cameron</td>\n",
       "      <td>CCH Pounder</td>\n",
       "      <td>Joel David Moore</td>\n",
       "      <td>Wes Studi</td>\n",
       "      <td>Action|Adventure|Fantasy|Sci-Fi</td>\n",
       "      <td>Avatar</td>\n",
       "      <td>http://www.imdb.com/title/tt0499549/?ref_=fn_tt_tt_1</td>\n",
       "      <td>English</td>\n",
       "      <td>USA</td>\n",
       "      <td>PG-13</td>\n",
       "      <td>2009.0</td>\n",
       "      <td>2009.0</td>\n",
       "      <td>178.0</td>\n",
       "      <td>723.0</td>\n",
       "      <td>0.0</td>\n",
       "      <td>936.0</td>\n",
       "      <td>855.0</td>\n",
       "      <td>1000.0</td>\n",
       "      <td>886204</td>\n",
       "      <td>4834</td>\n",
       "      <td>0.0</td>\n",
       "      <td>3054.0</td>\n",
       "      <td>7.9</td>\n",
       "      <td>tt0499549</td>\n",
       "      <td>237000000.0</td>\n",
       "    </tr>\n",
       "    <tr>\n",
       "      <th>1</th>\n",
       "      <td>Gore Verbinski</td>\n",
       "      <td>Johnny Depp</td>\n",
       "      <td>Orlando Bloom</td>\n",
       "      <td>Jack Davenport</td>\n",
       "      <td>Action|Adventure|Fantasy</td>\n",
       "      <td>Pirates of the Caribbean: At World's End</td>\n",
       "      <td>http://www.imdb.com/title/tt0449088/?ref_=fn_tt_tt_1</td>\n",
       "      <td>English</td>\n",
       "      <td>USA</td>\n",
       "      <td>PG-13</td>\n",
       "      <td>2007.0</td>\n",
       "      <td>2007.0</td>\n",
       "      <td>169.0</td>\n",
       "      <td>302.0</td>\n",
       "      <td>563.0</td>\n",
       "      <td>5000.0</td>\n",
       "      <td>1000.0</td>\n",
       "      <td>40000.0</td>\n",
       "      <td>471220</td>\n",
       "      <td>48350</td>\n",
       "      <td>0.0</td>\n",
       "      <td>1238.0</td>\n",
       "      <td>7.1</td>\n",
       "      <td>tt0449088</td>\n",
       "      <td>300000000.0</td>\n",
       "    </tr>\n",
       "  </tbody>\n",
       "</table>\n",
       "</div>"
      ],
      "text/plain": [
       "         director actor_1_name      actor_2_name    actor_3_name  \\\n",
       "0   James Cameron  CCH Pounder  Joel David Moore       Wes Studi   \n",
       "1  Gore Verbinski  Johnny Depp     Orlando Bloom  Jack Davenport   \n",
       "\n",
       "                            genres                                movie_title  \\\n",
       "0  Action|Adventure|Fantasy|Sci-Fi                                    Avatar    \n",
       "1         Action|Adventure|Fantasy  Pirates of the Caribbean: At World's End    \n",
       "\n",
       "                                        movie_imdb_link language country  \\\n",
       "0  http://www.imdb.com/title/tt0499549/?ref_=fn_tt_tt_1  English     USA   \n",
       "1  http://www.imdb.com/title/tt0449088/?ref_=fn_tt_tt_1  English     USA   \n",
       "\n",
       "  content_rating  title_year  startYear  duration  num_critic_for_reviews  \\\n",
       "0          PG-13      2009.0     2009.0     178.0                   723.0   \n",
       "1          PG-13      2007.0     2007.0     169.0                   302.0   \n",
       "\n",
       "   director_facebook_likes  actor_2_facebook_likes  actor_3_facebook_likes  \\\n",
       "0                      0.0                   936.0                   855.0   \n",
       "1                    563.0                  5000.0                  1000.0   \n",
       "\n",
       "   actor_1_facebook_likes  num_voted_users  cast_total_facebook_likes  \\\n",
       "0                  1000.0           886204                       4834   \n",
       "1                 40000.0           471220                      48350   \n",
       "\n",
       "   facenumber_in_poster  num_user_for_reviews  imdb_score     tconst  \\\n",
       "0                   0.0                3054.0         7.9  tt0499549   \n",
       "1                   0.0                1238.0         7.1  tt0449088   \n",
       "\n",
       "        budget  \n",
       "0  237000000.0  \n",
       "1  300000000.0  "
      ]
     },
     "execution_count": 447,
     "metadata": {},
     "output_type": "execute_result"
    }
   ],
   "source": [
    "df_movies_budget.head(2)"
   ]
  },
  {
   "cell_type": "markdown",
   "metadata": {},
   "source": [
    "# Estoy filtrando los nan y los inf"
   ]
  },
  {
   "cell_type": "code",
   "execution_count": 449,
   "metadata": {},
   "outputs": [
    {
     "name": "stdout",
     "output_type": "stream",
     "text": [
      "len(X): 5043 len(y): 5043 \n",
      "len(X_train): 3529, len(X_val): 1009, len(X_test):     505 \n",
      "len(y_train): 3529, len(y_val): 1009, len(y_test): 505\n"
     ]
    }
   ],
   "source": [
    "# df_movies_budget.dropna(subset=['budget'])\n",
    "# ds_filter = copy.deepcopy(df_movies_budget[~df_movies_budget.isin([np.nan, np.inf, -np.inf])])\n",
    "ds_filter = copy.deepcopy(df_movies_budget)\n",
    "\n",
    "ds_filter[ds_filter==np.inf]=np.nan\n",
    "ds_filter.fillna(ds_filter.mean(), inplace=True)\n",
    "# TODO falta sacar series y novelas y chinos\n",
    "\n",
    "X_train, X_val, X_test, y_train, y_val, y_test = load_budget_train_dev_test(ds_filter)"
   ]
  },
  {
   "cell_type": "code",
   "execution_count": 450,
   "metadata": {},
   "outputs": [
    {
     "data": {
      "text/html": [
       "<div>\n",
       "<style scoped>\n",
       "    .dataframe tbody tr th:only-of-type {\n",
       "        vertical-align: middle;\n",
       "    }\n",
       "\n",
       "    .dataframe tbody tr th {\n",
       "        vertical-align: top;\n",
       "    }\n",
       "\n",
       "    .dataframe thead th {\n",
       "        text-align: right;\n",
       "    }\n",
       "</style>\n",
       "<table border=\"1\" class=\"dataframe\">\n",
       "  <thead>\n",
       "    <tr style=\"text-align: right;\">\n",
       "      <th></th>\n",
       "      <th>title_year</th>\n",
       "      <th>startYear</th>\n",
       "      <th>duration</th>\n",
       "      <th>num_critic_for_reviews</th>\n",
       "      <th>director_facebook_likes</th>\n",
       "      <th>actor_2_facebook_likes</th>\n",
       "      <th>actor_3_facebook_likes</th>\n",
       "      <th>actor_1_facebook_likes</th>\n",
       "      <th>num_voted_users</th>\n",
       "      <th>cast_total_facebook_likes</th>\n",
       "      <th>facenumber_in_poster</th>\n",
       "      <th>num_user_for_reviews</th>\n",
       "      <th>imdb_score</th>\n",
       "      <th>tconst</th>\n",
       "    </tr>\n",
       "  </thead>\n",
       "  <tbody>\n",
       "    <tr>\n",
       "      <th>4003</th>\n",
       "      <td>1987.0</td>\n",
       "      <td>1987.0</td>\n",
       "      <td>37.0</td>\n",
       "      <td>252.0</td>\n",
       "      <td>0.0</td>\n",
       "      <td>328.0</td>\n",
       "      <td>199.0</td>\n",
       "      <td>634.0</td>\n",
       "      <td>113451</td>\n",
       "      <td>1347</td>\n",
       "      <td>0.0</td>\n",
       "      <td>537.0</td>\n",
       "      <td>7.8</td>\n",
       "      <td>tt0092991</td>\n",
       "    </tr>\n",
       "    <tr>\n",
       "      <th>1053</th>\n",
       "      <td>2014.0</td>\n",
       "      <td>2014.0</td>\n",
       "      <td>115.0</td>\n",
       "      <td>222.0</td>\n",
       "      <td>118.0</td>\n",
       "      <td>794.0</td>\n",
       "      <td>482.0</td>\n",
       "      <td>14000.0</td>\n",
       "      <td>133436</td>\n",
       "      <td>16967</td>\n",
       "      <td>0.0</td>\n",
       "      <td>323.0</td>\n",
       "      <td>6.0</td>\n",
       "      <td>tt2446042</td>\n",
       "    </tr>\n",
       "  </tbody>\n",
       "</table>\n",
       "</div>"
      ],
      "text/plain": [
       "      title_year  startYear  duration  num_critic_for_reviews  \\\n",
       "4003      1987.0     1987.0      37.0                   252.0   \n",
       "1053      2014.0     2014.0     115.0                   222.0   \n",
       "\n",
       "      director_facebook_likes  actor_2_facebook_likes  actor_3_facebook_likes  \\\n",
       "4003                      0.0                   328.0                   199.0   \n",
       "1053                    118.0                   794.0                   482.0   \n",
       "\n",
       "      actor_1_facebook_likes  num_voted_users  cast_total_facebook_likes  \\\n",
       "4003                   634.0           113451                       1347   \n",
       "1053                 14000.0           133436                      16967   \n",
       "\n",
       "      facenumber_in_poster  num_user_for_reviews  imdb_score     tconst  \n",
       "4003                   0.0                 537.0         7.8  tt0092991  \n",
       "1053                   0.0                 323.0         6.0  tt2446042  "
      ]
     },
     "execution_count": 450,
     "metadata": {},
     "output_type": "execute_result"
    }
   ],
   "source": [
    "X_train.head(2)"
   ]
  },
  {
   "cell_type": "markdown",
   "metadata": {},
   "source": [
    "# Buscamos peliculas con budget extraños"
   ]
  },
  {
   "cell_type": "code",
   "execution_count": 451,
   "metadata": {
    "collapsed": true,
    "jupyter": {
     "outputs_hidden": true
    }
   },
   "outputs": [
    {
     "data": {
      "text/plain": [
       "2988    1.221550e+10\n",
       "3859    4.200000e+09\n",
       "3005    2.500000e+09\n",
       "2323    2.400000e+09\n",
       "2334    2.127520e+09\n",
       "            ...     \n",
       "5035    7.000000e+03\n",
       "5026    4.500000e+03\n",
       "5036    3.250000e+03\n",
       "5040    1.400000e+03\n",
       "5042    1.100000e+03\n",
       "Name: budget, Length: 3529, dtype: float64"
      ]
     },
     "execution_count": 451,
     "metadata": {},
     "output_type": "execute_result"
    }
   ],
   "source": [
    "y_train[~y_train.isin([np.nan, np.inf, -np.inf])].sort_values(ascending=[False])"
   ]
  },
  {
   "cell_type": "code",
   "execution_count": 452,
   "metadata": {
    "collapsed": true,
    "jupyter": {
     "outputs_hidden": true
    }
   },
   "outputs": [
    {
     "data": {
      "text/plain": [
       "director                                                          Katsuhiro Ôtomo\n",
       "actor_1_name                                                     William Hootkins\n",
       "actor_2_name                                                   Robin Atkin Downes\n",
       "actor_3_name                                                       Rosalind Ayres\n",
       "genres                          Action|Adventure|Animation|Family|Sci-Fi|Thriller\n",
       "movie_title                                                             Steamboy \n",
       "movie_imdb_link              http://www.imdb.com/title/tt0348121/?ref_=fn_tt_tt_1\n",
       "language                                                                 Japanese\n",
       "country                                                                     Japan\n",
       "content_rating                                                              PG-13\n",
       "title_year                                                                   2004\n",
       "startYear                                                                    2004\n",
       "duration                                                                      103\n",
       "num_critic_for_reviews                                                        105\n",
       "director_facebook_likes                                                        78\n",
       "actor_2_facebook_likes                                                        336\n",
       "actor_3_facebook_likes                                                        101\n",
       "actor_1_facebook_likes                                                        488\n",
       "num_voted_users                                                             13727\n",
       "cast_total_facebook_likes                                                     991\n",
       "facenumber_in_poster                                                            1\n",
       "num_user_for_reviews                                                           79\n",
       "imdb_score                                                                    6.9\n",
       "tconst                                                                  tt0348121\n",
       "budget                                                                2.12752e+09\n",
       "Name: 2334, dtype: object"
      ]
     },
     "execution_count": 452,
     "metadata": {},
     "output_type": "execute_result"
    }
   ],
   "source": [
    "df_movies_budget.iloc[2334]"
   ]
  },
  {
   "cell_type": "code",
   "execution_count": 420,
   "metadata": {
    "collapsed": true,
    "jupyter": {
     "outputs_hidden": true
    }
   },
   "outputs": [
    {
     "data": {
      "text/plain": [
       "director                      True\n",
       "actor_1_name                  True\n",
       "actor_2_name                  True\n",
       "actor_3_name                  True\n",
       "genres                       False\n",
       "movie_title                  False\n",
       "movie_imdb_link              False\n",
       "language                      True\n",
       "country                       True\n",
       "content_rating                True\n",
       "title_year                    True\n",
       "startYear                     True\n",
       "duration                      True\n",
       "num_critic_for_reviews        True\n",
       "director_facebook_likes       True\n",
       "actor_2_facebook_likes        True\n",
       "actor_3_facebook_likes        True\n",
       "actor_1_facebook_likes        True\n",
       "num_voted_users              False\n",
       "cast_total_facebook_likes    False\n",
       "facenumber_in_poster          True\n",
       "num_user_for_reviews          True\n",
       "imdb_score                   False\n",
       "tconst                       False\n",
       "budget                        True\n",
       "dtype: bool"
      ]
     },
     "execution_count": 420,
     "metadata": {},
     "output_type": "execute_result"
    }
   ],
   "source": [
    "# Chequeo si tengo faltantes en budget\n",
    "df_movies_budget.isnull().any()"
   ]
  },
  {
   "cell_type": "code",
   "execution_count": 422,
   "metadata": {
    "collapsed": true,
    "jupyter": {
     "outputs_hidden": true
    }
   },
   "outputs": [
    {
     "name": "stdout",
     "output_type": "stream",
     "text": [
      "pipelabel:  Pipe_StandardScaler \n",
      " {'Pipe_StandardScaler': FeatureUnion(n_jobs=-1,\n",
      "             transformer_list=[('media',\n",
      "                                StandardScaler(copy=True, with_mean=True,\n",
      "                                               with_std=True))],\n",
      "             transformer_weights=None, verbose=False), 'RandomForestRegressor': RandomForestRegressor(bootstrap=True, ccp_alpha=0.0, criterion='mse',\n",
      "                      max_depth=None, max_features='auto', max_leaf_nodes=None,\n",
      "                      max_samples=None, min_impurity_decrease=0.0,\n",
      "                      min_impurity_split=None, min_samples_leaf=1,\n",
      "                      min_samples_split=2, min_weight_fraction_leaf=0.0,\n",
      "                      n_estimators=100, n_jobs=-1, oob_score='TRUE',\n",
      "                      random_state=42, verbose=0, warm_start=False)} \n",
      "\n",
      "pipelabel:  Pipe_MinMaxScaler \n",
      " {'Pipe_MinMaxScaler': FeatureUnion(n_jobs=-1,\n",
      "             transformer_list=[('range',\n",
      "                                MinMaxScaler(copy=True, feature_range=(0, 1)))],\n",
      "             transformer_weights=None, verbose=False), 'RandomForestRegressor': RandomForestRegressor(bootstrap=True, ccp_alpha=0.0, criterion='mse',\n",
      "                      max_depth=None, max_features='auto', max_leaf_nodes=None,\n",
      "                      max_samples=None, min_impurity_decrease=0.0,\n",
      "                      min_impurity_split=None, min_samples_leaf=1,\n",
      "                      min_samples_split=2, min_weight_fraction_leaf=0.0,\n",
      "                      n_estimators=100, n_jobs=-1, oob_score='TRUE',\n",
      "                      random_state=42, verbose=0, warm_start=False)} \n",
      "\n",
      "pipelabel:  IdentityTransformer \n",
      " {'IdentityTransformer': FeatureUnion(n_jobs=-1, transformer_list=[('in', IdentityTransformer())],\n",
      "             transformer_weights=None, verbose=False), 'RandomForestRegressor': RandomForestRegressor(bootstrap=True, ccp_alpha=0.0, criterion='mse',\n",
      "                      max_depth=None, max_features='auto', max_leaf_nodes=None,\n",
      "                      max_samples=None, min_impurity_decrease=0.0,\n",
      "                      min_impurity_split=None, min_samples_leaf=1,\n",
      "                      min_samples_split=2, min_weight_fraction_leaf=0.0,\n",
      "                      n_estimators=100, n_jobs=-1, oob_score='TRUE',\n",
      "                      random_state=42, verbose=0, warm_start=False)} \n",
      "\n",
      "pipelabel:  superPipe \n",
      " {'superPipe': FeatureUnion(n_jobs=-1,\n",
      "             transformer_list=[('in', IdentityTransformer()),\n",
      "                               ('pca',\n",
      "                                PCA(copy=True, iterated_power='auto',\n",
      "                                    n_components=2, random_state=None,\n",
      "                                    svd_solver='auto', tol=0.0, whiten=False)),\n",
      "                               ('nmf',\n",
      "                                NMF(alpha=0.0, beta_loss='frobenius',\n",
      "                                    init='random', l1_ratio=0.0, max_iter=200,\n",
      "                                    n_components=None, random_state=None,\n",
      "                                    shuffle=False, solver='cd', tol=0.0001,\n",
      "                                    verbose=0)),\n",
      "                               ('univ_select',\n",
      "                                SelectKBest(k=1,\n",
      "                                            score_func=<function f_classif at 0x7fc35c23a3a0>)),\n",
      "                               ('range',\n",
      "                                MinMaxScaler(copy=True, feature_range=(0, 1))),\n",
      "                               ('media',\n",
      "                                StandardScaler(copy=True, with_mean=True,\n",
      "                                               with_std=True))],\n",
      "             transformer_weights=None, verbose=False), 'RandomForestRegressor': RandomForestRegressor(bootstrap=True, ccp_alpha=0.0, criterion='mse',\n",
      "                      max_depth=None, max_features='auto', max_leaf_nodes=None,\n",
      "                      max_samples=None, min_impurity_decrease=0.0,\n",
      "                      min_impurity_split=None, min_samples_leaf=1,\n",
      "                      min_samples_split=2, min_weight_fraction_leaf=0.0,\n",
      "                      n_estimators=100, n_jobs=-1, oob_score='TRUE',\n",
      "                      random_state=42, verbose=0, warm_start=False)} \n",
      "\n",
      "pipelabel:  superPipe2 \n",
      " {'superPipe2': FeatureUnion(n_jobs=-1,\n",
      "             transformer_list=[('in', IdentityTransformer()),\n",
      "                               ('pca',\n",
      "                                PCA(copy=True, iterated_power='auto',\n",
      "                                    n_components=2, random_state=None,\n",
      "                                    svd_solver='auto', tol=0.0, whiten=False)),\n",
      "                               ('nmf',\n",
      "                                NMF(alpha=0.0, beta_loss='frobenius',\n",
      "                                    init='random', l1_ratio=0.0, max_iter=200,\n",
      "                                    n_components=None, random_state=None,\n",
      "                                    shuffle=False, solver='cd', tol=0.0001,\n",
      "                                    verbose=0)),\n",
      "                               ('univ_select',\n",
      "                                SelectKBest(k=1,\n",
      "                                            score_func=<function f_classif at 0x7fc35c23a3a0>)),\n",
      "                               ('range',\n",
      "                                MinMaxScaler(copy=True, feature_range=(0, 1))),\n",
      "                               ('media',\n",
      "                                StandardScaler(copy=True, with_mean=True,\n",
      "                                               with_std=True))],\n",
      "             transformer_weights=None, verbose=False), 'feature_selection': SelectFromModel(estimator=LinearSVR(C=1.0, dual=True, epsilon=0.0,\n",
      "                                    fit_intercept=True, intercept_scaling=1.0,\n",
      "                                    loss='epsilon_insensitive', max_iter=1000,\n",
      "                                    random_state=None, tol=0.0001, verbose=0),\n",
      "                max_features=None, norm_order=1, prefit=False, threshold=None), 'RandomForestRegressor': RandomForestRegressor(bootstrap=True, ccp_alpha=0.0, criterion='mse',\n",
      "                      max_depth=None, max_features='auto', max_leaf_nodes=None,\n",
      "                      max_samples=None, min_impurity_decrease=0.0,\n",
      "                      min_impurity_split=None, min_samples_leaf=1,\n",
      "                      min_samples_split=2, min_weight_fraction_leaf=0.0,\n",
      "                      n_estimators=100, n_jobs=-1, oob_score='TRUE',\n",
      "                      random_state=42, verbose=0, warm_start=False)} \n",
      "\n"
     ]
    }
   ],
   "source": [
    "for pipe in (pipe1,pipe2, pipe3,pipe4, pipe5):\n",
    "    print(\"pipelabel: \",str(pipe.steps[0][0]), \"\\n\",pipe.named_steps,\"\\n\")\n",
    "    pipe_label=str(pipe.steps[0][0]) #get name pipe\n",
    "\n",
    "#     if repr(pipe_label) ==repr('superPipe') or repr(pipe_label) ==repr('superPipe2'):\n",
    "    print('\\npipe_label : ',pipe_label,'\\n')\n",
    "    output =train_models(pipe, params,  X_train, y_train, X_val, y_val, [\"budget\"], str(pipe_label+'_budget_pred'))"
   ]
  },
  {
   "cell_type": "code",
   "execution_count": null,
   "metadata": {},
   "outputs": [],
   "source": [
    "# Miramos cual es el mejor modelo"
   ]
  },
  {
   "cell_type": "code",
   "execution_count": 453,
   "metadata": {},
   "outputs": [],
   "source": [
    "df = pd.read_csv('../../prediction_output/results.csv')\n",
    "df.columns = ['pipe_label','target', 'best_score_train', 'best_score_test', 'rmse_train', 'rmse_test' ]\n",
    "df.to_csv('../../prediction_output/results.csv')"
   ]
  },
  {
   "cell_type": "markdown",
   "metadata": {},
   "source": [
    "## Con los pkl predigo"
   ]
  },
  {
   "cell_type": "code",
   "execution_count": 454,
   "metadata": {},
   "outputs": [],
   "source": [
    "output=copy.deepcopy(ds_filter)"
   ]
  },
  {
   "cell_type": "code",
   "execution_count": 455,
   "metadata": {},
   "outputs": [
    {
     "data": {
      "text/html": [
       "<div>\n",
       "<style scoped>\n",
       "    .dataframe tbody tr th:only-of-type {\n",
       "        vertical-align: middle;\n",
       "    }\n",
       "\n",
       "    .dataframe tbody tr th {\n",
       "        vertical-align: top;\n",
       "    }\n",
       "\n",
       "    .dataframe thead th {\n",
       "        text-align: right;\n",
       "    }\n",
       "</style>\n",
       "<table border=\"1\" class=\"dataframe\">\n",
       "  <thead>\n",
       "    <tr style=\"text-align: right;\">\n",
       "      <th></th>\n",
       "      <th>director</th>\n",
       "      <th>actor_1_name</th>\n",
       "      <th>actor_2_name</th>\n",
       "      <th>actor_3_name</th>\n",
       "      <th>genres</th>\n",
       "      <th>movie_title</th>\n",
       "      <th>movie_imdb_link</th>\n",
       "      <th>language</th>\n",
       "      <th>country</th>\n",
       "      <th>content_rating</th>\n",
       "      <th>title_year</th>\n",
       "      <th>startYear</th>\n",
       "      <th>duration</th>\n",
       "      <th>num_critic_for_reviews</th>\n",
       "      <th>director_facebook_likes</th>\n",
       "      <th>actor_2_facebook_likes</th>\n",
       "      <th>actor_3_facebook_likes</th>\n",
       "      <th>actor_1_facebook_likes</th>\n",
       "      <th>num_voted_users</th>\n",
       "      <th>cast_total_facebook_likes</th>\n",
       "      <th>facenumber_in_poster</th>\n",
       "      <th>num_user_for_reviews</th>\n",
       "      <th>imdb_score</th>\n",
       "      <th>tconst</th>\n",
       "      <th>budget</th>\n",
       "    </tr>\n",
       "  </thead>\n",
       "  <tbody>\n",
       "    <tr>\n",
       "      <th>0</th>\n",
       "      <td>James Cameron</td>\n",
       "      <td>CCH Pounder</td>\n",
       "      <td>Joel David Moore</td>\n",
       "      <td>Wes Studi</td>\n",
       "      <td>Action|Adventure|Fantasy|Sci-Fi</td>\n",
       "      <td>Avatar</td>\n",
       "      <td>http://www.imdb.com/title/tt0499549/?ref_=fn_tt_tt_1</td>\n",
       "      <td>English</td>\n",
       "      <td>USA</td>\n",
       "      <td>PG-13</td>\n",
       "      <td>2009.0</td>\n",
       "      <td>2009.0</td>\n",
       "      <td>178.0</td>\n",
       "      <td>723.0</td>\n",
       "      <td>0.0</td>\n",
       "      <td>936.0</td>\n",
       "      <td>855.0</td>\n",
       "      <td>1000.0</td>\n",
       "      <td>886204</td>\n",
       "      <td>4834</td>\n",
       "      <td>0.0</td>\n",
       "      <td>3054.0</td>\n",
       "      <td>7.9</td>\n",
       "      <td>tt0499549</td>\n",
       "      <td>237000000.0</td>\n",
       "    </tr>\n",
       "    <tr>\n",
       "      <th>1</th>\n",
       "      <td>Gore Verbinski</td>\n",
       "      <td>Johnny Depp</td>\n",
       "      <td>Orlando Bloom</td>\n",
       "      <td>Jack Davenport</td>\n",
       "      <td>Action|Adventure|Fantasy</td>\n",
       "      <td>Pirates of the Caribbean: At World's End</td>\n",
       "      <td>http://www.imdb.com/title/tt0449088/?ref_=fn_tt_tt_1</td>\n",
       "      <td>English</td>\n",
       "      <td>USA</td>\n",
       "      <td>PG-13</td>\n",
       "      <td>2007.0</td>\n",
       "      <td>2007.0</td>\n",
       "      <td>169.0</td>\n",
       "      <td>302.0</td>\n",
       "      <td>563.0</td>\n",
       "      <td>5000.0</td>\n",
       "      <td>1000.0</td>\n",
       "      <td>40000.0</td>\n",
       "      <td>471220</td>\n",
       "      <td>48350</td>\n",
       "      <td>0.0</td>\n",
       "      <td>1238.0</td>\n",
       "      <td>7.1</td>\n",
       "      <td>tt0449088</td>\n",
       "      <td>300000000.0</td>\n",
       "    </tr>\n",
       "  </tbody>\n",
       "</table>\n",
       "</div>"
      ],
      "text/plain": [
       "         director actor_1_name      actor_2_name    actor_3_name  \\\n",
       "0   James Cameron  CCH Pounder  Joel David Moore       Wes Studi   \n",
       "1  Gore Verbinski  Johnny Depp     Orlando Bloom  Jack Davenport   \n",
       "\n",
       "                            genres                                movie_title  \\\n",
       "0  Action|Adventure|Fantasy|Sci-Fi                                    Avatar    \n",
       "1         Action|Adventure|Fantasy  Pirates of the Caribbean: At World's End    \n",
       "\n",
       "                                        movie_imdb_link language country  \\\n",
       "0  http://www.imdb.com/title/tt0499549/?ref_=fn_tt_tt_1  English     USA   \n",
       "1  http://www.imdb.com/title/tt0449088/?ref_=fn_tt_tt_1  English     USA   \n",
       "\n",
       "  content_rating  title_year  startYear  duration  num_critic_for_reviews  \\\n",
       "0          PG-13      2009.0     2009.0     178.0                   723.0   \n",
       "1          PG-13      2007.0     2007.0     169.0                   302.0   \n",
       "\n",
       "   director_facebook_likes  actor_2_facebook_likes  actor_3_facebook_likes  \\\n",
       "0                      0.0                   936.0                   855.0   \n",
       "1                    563.0                  5000.0                  1000.0   \n",
       "\n",
       "   actor_1_facebook_likes  num_voted_users  cast_total_facebook_likes  \\\n",
       "0                  1000.0           886204                       4834   \n",
       "1                 40000.0           471220                      48350   \n",
       "\n",
       "   facenumber_in_poster  num_user_for_reviews  imdb_score     tconst  \\\n",
       "0                   0.0                3054.0         7.9  tt0499549   \n",
       "1                   0.0                1238.0         7.1  tt0449088   \n",
       "\n",
       "        budget  \n",
       "0  237000000.0  \n",
       "1  300000000.0  "
      ]
     },
     "execution_count": 455,
     "metadata": {},
     "output_type": "execute_result"
    }
   ],
   "source": [
    "output.head(2)"
   ]
  },
  {
   "cell_type": "code",
   "execution_count": 456,
   "metadata": {},
   "outputs": [],
   "source": [
    "# Uso los pkl\n",
    "loaded_model1  = joblib.load('../../model_output/budget_superPipe2_budget_pred_.pkl')"
   ]
  },
  {
   "cell_type": "code",
   "execution_count": 460,
   "metadata": {},
   "outputs": [],
   "source": [
    "# output['budget_pred'] = loaded_model1.predict(X_test.values)  # este no lo usen\n",
    "output['budget_pred'] = loaded_model1.predict(ds_filter.loc[:,'title_year':'imdb_score'])  # este es el entregable\n",
    "output[['tconst', 'budget','budget_pred']].to_csv(\"../../prediction_output/\"+\"budget\"+\"_salida.csv\")"
   ]
  },
  {
   "cell_type": "code",
   "execution_count": 461,
   "metadata": {},
   "outputs": [
    {
     "name": "stdout",
     "output_type": "stream",
     "text": [
      "../../prediction_output/budget_salida.csv\n"
     ]
    }
   ],
   "source": [
    "## buscar el \n",
    "print(\"../../prediction_output/\"+\"budget\"+\"_salida.csv\")"
   ]
  }
 ],
 "metadata": {
  "colab": {
   "collapsed_sections": [],
   "name": "MVP-SQUAD-BUDGET.ipynb",
   "provenance": []
  },
  "kernelspec": {
   "display_name": "Python 3",
   "language": "python",
   "name": "python3"
  },
  "language_info": {
   "codemirror_mode": {
    "name": "ipython",
    "version": 3
   },
   "file_extension": ".py",
   "mimetype": "text/x-python",
   "name": "python",
   "nbconvert_exporter": "python",
   "pygments_lexer": "ipython3",
   "version": "3.8.5"
  }
 },
 "nbformat": 4,
 "nbformat_minor": 4
}
