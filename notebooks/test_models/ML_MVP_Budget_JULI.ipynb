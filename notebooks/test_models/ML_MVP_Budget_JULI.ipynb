{
 "cells": [
  {
   "cell_type": "code",
   "execution_count": 1,
   "metadata": {},
   "outputs": [],
   "source": [
    "import pandas as pd\n",
    "\n",
    "pd.set_option('display.max_colwidth',None)\n",
    "pd.set_option('display.max_rows',200)\n",
    "pd.set_option('display.max_columns',200)"
   ]
  },
  {
   "cell_type": "markdown",
   "metadata": {},
   "source": [
    "### Cargo Librerias y datasets"
   ]
  },
  {
   "cell_type": "code",
   "execution_count": 2,
   "metadata": {},
   "outputs": [],
   "source": [
    "from pathlib import Path\n",
    "import sys\n",
    "from random import sample\n",
    "from sklearn.model_selection import train_test_split\n",
    "sys.path.append('../data')\n",
    "sys.path.append('../')"
   ]
  },
  {
   "cell_type": "code",
   "execution_count": 3,
   "metadata": {},
   "outputs": [],
   "source": [
    "from lib import transformers, data"
   ]
  },
  {
   "cell_type": "code",
   "execution_count": 4,
   "metadata": {},
   "outputs": [],
   "source": [
    "import matplotlib.pyplot as plt"
   ]
  },
  {
   "cell_type": "code",
   "execution_count": 5,
   "metadata": {},
   "outputs": [],
   "source": [
    "## Validamos si lo que sacamos nos impactó en el budget\n",
    "def plot_budget_validation(df_filter, df_validation, log_var=True):\n",
    "    (\n",
    "        df_filter\n",
    "            .budget\n",
    "            .value_counts()\n",
    "            .value_counts(normalize=True)\n",
    "            .sort_index()\n",
    "            .plot(logx=log_var, logy=log_var, label='movies_gross_filter')\n",
    "    )\n",
    "    (\n",
    "        df_validation\n",
    "            .budget\n",
    "            .value_counts()\n",
    "            .value_counts(normalize=True)\n",
    "            .sort_index()\n",
    "            .plot(logx=log_var, logy=log_var, label='movies_gross')\n",
    "    )\n",
    "\n",
    "    plt.legend(loc='best')\n",
    "    plt.title('Budget of films per movie')"
   ]
  },
  {
   "cell_type": "code",
   "execution_count": 6,
   "metadata": {},
   "outputs": [],
   "source": [
    "def load_budget_train_dev_test(df):\n",
    "\n",
    "    X = df.loc[ : , df.columns != 'budget'] #me quedo con train solo\n",
    "    y = df.budget.values  #var target y\n",
    "\n",
    "    # Splite en 80:20, esto es train y val\n",
    "    X_train, X_val, y_train, y_val = train_test_split(X, y, train_size=0.8, random_state=101)\n",
    "\n",
    "    # AHora con el 0.875, tengo mi test, y finalmente me queda 70,20,10   (ver que 0.8 * 0.875 = 0.7)\n",
    "    X_train, X_test, y_train, y_test = train_test_split(X_train, y_train, train_size=0.875, random_state=101)\n",
    "\n",
    "    print(\"len(X): {} len(y): {} \\nlen(X_train): {}, len(X_val): {}, len(X_test): \\\n",
    "    {} \\nlen(y_train): {}, len(y_val): {}, len(y_test): {}\".format(len(X), len(y),\\\n",
    "    len(X_train), len(X_val), len(X_test), len(y_train), len(y_val), \\\n",
    "    len(y_test))) \n",
    "    \n",
    "    return X_train.to_dict(orient='records'), X_val.to_dict(orient='records'), X_test.to_dict(orient='records'), y_train, y_val, y_test"
   ]
  },
  {
   "cell_type": "code",
   "execution_count": 7,
   "metadata": {},
   "outputs": [],
   "source": [
    "# si todo va bien lo sumamos a los transformers\n",
    "from sklearn.base import BaseEstimator, TransformerMixin\n",
    "\n",
    "class DirectorFeatures(BaseEstimator, TransformerMixin):\n",
    "    def __init__(self, min_cnt_movies=2):\n",
    "        self.min_cnt_movies = min_cnt_movies\n",
    "\n",
    "    def fit(self, X, y):\n",
    "        # Esto no es la forma mas elegante, pero es mas comodo y a esta altura priorizo la comodidad\n",
    "        # Llevamos las cosas de nuevo a un DataFrame y calculamos features por director\n",
    "        directors_stats = (\n",
    "            pd.DataFrame(X)\n",
    "                .groupby('director')\n",
    "                .agg({\n",
    "                'tconst': 'count'                \n",
    "                }\n",
    "            )\n",
    "        )\n",
    "\n",
    "        # Para hacer flattening de las columnas\n",
    "        # https://stackoverflow.com/questions/14507794/pandas-how-to-flatten-a-hierarchical-index-in-columns\n",
    "        directors_stats.columns = [\n",
    "            '_'.join(i)\n",
    "            for i in zip(directors_stats.columns.get_level_values(1), directors_stats.columns.get_level_values(0))\n",
    "        ]\n",
    "\n",
    "        # Guardamos las estadisticas\n",
    "        self.directors_stats_ = directors_stats\n",
    "\n",
    "        # Diccionario con los datos para los directores comunes\n",
    "        self.directors_stats_lk_ = (\n",
    "            directors_stats[directors_stats.count_tconst >= self.min_cnt_movies].to_dict(orient='index')\n",
    "        )\n",
    "\n",
    "        # Valor default para los que consideramos que tenemos demasiado poca data\n",
    "        self.default_ = directors_stats[directors_stats.count_tconst < self.min_cnt_movies].mean(0).to_dict()\n",
    "        if self.min_cnt_movies > 1:\n",
    "            self.default_ = directors_stats[directors_stats.count_tconst < self.min_cnt_movies].mean(0).to_dict()\n",
    "        else:\n",
    "            self.default_ = directors_stats.mean(0).to_dict()\n",
    "        return self\n",
    "\n",
    "    def transform(self, X):\n",
    "        res = []\n",
    "        for e in X:\n",
    "            if e['director'] in self.directors_stats_lk_:\n",
    "                res.append(self.directors_stats_lk_[e['director']])\n",
    "            else:\n",
    "                res.append(self.default_)\n",
    "        return res"
   ]
  },
  {
   "cell_type": "markdown",
   "metadata": {},
   "source": [
    "## Cargamos movies & movies gross\n",
    "#### Movies lo cargamos para tener el ds a mano por si queremos agregar algo mas."
   ]
  },
  {
   "cell_type": "code",
   "execution_count": 8,
   "metadata": {},
   "outputs": [],
   "source": [
    "# Si quiero cargar todo\n",
    "# movies, movies_gross = data.load_data(Path('../data/'))\n",
    "\n",
    "# Si quiero cargar solo budget\n",
    "PATH = Path('../data/')\n",
    "movies_gross = data.load_movie_gross(PATH)"
   ]
  },
  {
   "cell_type": "code",
   "execution_count": 9,
   "metadata": {},
   "outputs": [],
   "source": [
    "# movies.head()"
   ]
  },
  {
   "cell_type": "code",
   "execution_count": 10,
   "metadata": {},
   "outputs": [
    {
     "data": {
      "text/html": [
       "<div>\n",
       "<style scoped>\n",
       "    .dataframe tbody tr th:only-of-type {\n",
       "        vertical-align: middle;\n",
       "    }\n",
       "\n",
       "    .dataframe tbody tr th {\n",
       "        vertical-align: top;\n",
       "    }\n",
       "\n",
       "    .dataframe thead th {\n",
       "        text-align: right;\n",
       "    }\n",
       "</style>\n",
       "<table border=\"1\" class=\"dataframe\">\n",
       "  <thead>\n",
       "    <tr style=\"text-align: right;\">\n",
       "      <th></th>\n",
       "      <th>color</th>\n",
       "      <th>director_name</th>\n",
       "      <th>num_critic_for_reviews</th>\n",
       "      <th>duration</th>\n",
       "      <th>director_facebook_likes</th>\n",
       "      <th>actor_3_facebook_likes</th>\n",
       "      <th>actor_2_name</th>\n",
       "      <th>actor_1_facebook_likes</th>\n",
       "      <th>gross</th>\n",
       "      <th>genres</th>\n",
       "      <th>actor_1_name</th>\n",
       "      <th>movie_title</th>\n",
       "      <th>num_voted_users</th>\n",
       "      <th>cast_total_facebook_likes</th>\n",
       "      <th>actor_3_name</th>\n",
       "      <th>facenumber_in_poster</th>\n",
       "      <th>plot_keywords</th>\n",
       "      <th>movie_imdb_link</th>\n",
       "      <th>num_user_for_reviews</th>\n",
       "      <th>language</th>\n",
       "      <th>country</th>\n",
       "      <th>content_rating</th>\n",
       "      <th>budget</th>\n",
       "      <th>title_year</th>\n",
       "      <th>actor_2_facebook_likes</th>\n",
       "      <th>imdb_score</th>\n",
       "      <th>aspect_ratio</th>\n",
       "      <th>movie_facebook_likes</th>\n",
       "    </tr>\n",
       "  </thead>\n",
       "  <tbody>\n",
       "    <tr>\n",
       "      <th>0</th>\n",
       "      <td>Color</td>\n",
       "      <td>James Cameron</td>\n",
       "      <td>723.0</td>\n",
       "      <td>178.0</td>\n",
       "      <td>0.0</td>\n",
       "      <td>855.0</td>\n",
       "      <td>Joel David Moore</td>\n",
       "      <td>1000.0</td>\n",
       "      <td>760505847.0</td>\n",
       "      <td>Action|Adventure|Fantasy|Sci-Fi</td>\n",
       "      <td>CCH Pounder</td>\n",
       "      <td>Avatar</td>\n",
       "      <td>886204</td>\n",
       "      <td>4834</td>\n",
       "      <td>Wes Studi</td>\n",
       "      <td>0.0</td>\n",
       "      <td>avatar|future|marine|native|paraplegic</td>\n",
       "      <td>http://www.imdb.com/title/tt0499549/?ref_=fn_tt_tt_1</td>\n",
       "      <td>3054.0</td>\n",
       "      <td>English</td>\n",
       "      <td>USA</td>\n",
       "      <td>PG-13</td>\n",
       "      <td>237000000.0</td>\n",
       "      <td>2009.0</td>\n",
       "      <td>936.0</td>\n",
       "      <td>7.9</td>\n",
       "      <td>1.78</td>\n",
       "      <td>33000</td>\n",
       "    </tr>\n",
       "    <tr>\n",
       "      <th>1</th>\n",
       "      <td>Color</td>\n",
       "      <td>Gore Verbinski</td>\n",
       "      <td>302.0</td>\n",
       "      <td>169.0</td>\n",
       "      <td>563.0</td>\n",
       "      <td>1000.0</td>\n",
       "      <td>Orlando Bloom</td>\n",
       "      <td>40000.0</td>\n",
       "      <td>309404152.0</td>\n",
       "      <td>Action|Adventure|Fantasy</td>\n",
       "      <td>Johnny Depp</td>\n",
       "      <td>Pirates of the Caribbean: At World's End</td>\n",
       "      <td>471220</td>\n",
       "      <td>48350</td>\n",
       "      <td>Jack Davenport</td>\n",
       "      <td>0.0</td>\n",
       "      <td>goddess|marriage ceremony|marriage proposal|pirate|singapore</td>\n",
       "      <td>http://www.imdb.com/title/tt0449088/?ref_=fn_tt_tt_1</td>\n",
       "      <td>1238.0</td>\n",
       "      <td>English</td>\n",
       "      <td>USA</td>\n",
       "      <td>PG-13</td>\n",
       "      <td>300000000.0</td>\n",
       "      <td>2007.0</td>\n",
       "      <td>5000.0</td>\n",
       "      <td>7.1</td>\n",
       "      <td>2.35</td>\n",
       "      <td>0</td>\n",
       "    </tr>\n",
       "    <tr>\n",
       "      <th>2</th>\n",
       "      <td>Color</td>\n",
       "      <td>Sam Mendes</td>\n",
       "      <td>602.0</td>\n",
       "      <td>148.0</td>\n",
       "      <td>0.0</td>\n",
       "      <td>161.0</td>\n",
       "      <td>Rory Kinnear</td>\n",
       "      <td>11000.0</td>\n",
       "      <td>200074175.0</td>\n",
       "      <td>Action|Adventure|Thriller</td>\n",
       "      <td>Christoph Waltz</td>\n",
       "      <td>Spectre</td>\n",
       "      <td>275868</td>\n",
       "      <td>11700</td>\n",
       "      <td>Stephanie Sigman</td>\n",
       "      <td>1.0</td>\n",
       "      <td>bomb|espionage|sequel|spy|terrorist</td>\n",
       "      <td>http://www.imdb.com/title/tt2379713/?ref_=fn_tt_tt_1</td>\n",
       "      <td>994.0</td>\n",
       "      <td>English</td>\n",
       "      <td>UK</td>\n",
       "      <td>PG-13</td>\n",
       "      <td>245000000.0</td>\n",
       "      <td>2015.0</td>\n",
       "      <td>393.0</td>\n",
       "      <td>6.8</td>\n",
       "      <td>2.35</td>\n",
       "      <td>85000</td>\n",
       "    </tr>\n",
       "    <tr>\n",
       "      <th>3</th>\n",
       "      <td>Color</td>\n",
       "      <td>Christopher Nolan</td>\n",
       "      <td>813.0</td>\n",
       "      <td>164.0</td>\n",
       "      <td>22000.0</td>\n",
       "      <td>23000.0</td>\n",
       "      <td>Christian Bale</td>\n",
       "      <td>27000.0</td>\n",
       "      <td>448130642.0</td>\n",
       "      <td>Action|Thriller</td>\n",
       "      <td>Tom Hardy</td>\n",
       "      <td>The Dark Knight Rises</td>\n",
       "      <td>1144337</td>\n",
       "      <td>106759</td>\n",
       "      <td>Joseph Gordon-Levitt</td>\n",
       "      <td>0.0</td>\n",
       "      <td>deception|imprisonment|lawlessness|police officer|terrorist plot</td>\n",
       "      <td>http://www.imdb.com/title/tt1345836/?ref_=fn_tt_tt_1</td>\n",
       "      <td>2701.0</td>\n",
       "      <td>English</td>\n",
       "      <td>USA</td>\n",
       "      <td>PG-13</td>\n",
       "      <td>250000000.0</td>\n",
       "      <td>2012.0</td>\n",
       "      <td>23000.0</td>\n",
       "      <td>8.5</td>\n",
       "      <td>2.35</td>\n",
       "      <td>164000</td>\n",
       "    </tr>\n",
       "    <tr>\n",
       "      <th>4</th>\n",
       "      <td>NaN</td>\n",
       "      <td>Doug Walker</td>\n",
       "      <td>NaN</td>\n",
       "      <td>NaN</td>\n",
       "      <td>131.0</td>\n",
       "      <td>NaN</td>\n",
       "      <td>Rob Walker</td>\n",
       "      <td>131.0</td>\n",
       "      <td>NaN</td>\n",
       "      <td>Documentary</td>\n",
       "      <td>Doug Walker</td>\n",
       "      <td>Star Wars: Episode VII - The Force Awakens</td>\n",
       "      <td>8</td>\n",
       "      <td>143</td>\n",
       "      <td>NaN</td>\n",
       "      <td>0.0</td>\n",
       "      <td>NaN</td>\n",
       "      <td>http://www.imdb.com/title/tt5289954/?ref_=fn_tt_tt_1</td>\n",
       "      <td>NaN</td>\n",
       "      <td>NaN</td>\n",
       "      <td>NaN</td>\n",
       "      <td>NaN</td>\n",
       "      <td>NaN</td>\n",
       "      <td>NaN</td>\n",
       "      <td>12.0</td>\n",
       "      <td>7.1</td>\n",
       "      <td>NaN</td>\n",
       "      <td>0</td>\n",
       "    </tr>\n",
       "  </tbody>\n",
       "</table>\n",
       "</div>"
      ],
      "text/plain": [
       "   color      director_name  num_critic_for_reviews  duration  \\\n",
       "0  Color      James Cameron                   723.0     178.0   \n",
       "1  Color     Gore Verbinski                   302.0     169.0   \n",
       "2  Color         Sam Mendes                   602.0     148.0   \n",
       "3  Color  Christopher Nolan                   813.0     164.0   \n",
       "4    NaN        Doug Walker                     NaN       NaN   \n",
       "\n",
       "   director_facebook_likes  actor_3_facebook_likes      actor_2_name  \\\n",
       "0                      0.0                   855.0  Joel David Moore   \n",
       "1                    563.0                  1000.0     Orlando Bloom   \n",
       "2                      0.0                   161.0      Rory Kinnear   \n",
       "3                  22000.0                 23000.0    Christian Bale   \n",
       "4                    131.0                     NaN        Rob Walker   \n",
       "\n",
       "   actor_1_facebook_likes        gross                           genres  \\\n",
       "0                  1000.0  760505847.0  Action|Adventure|Fantasy|Sci-Fi   \n",
       "1                 40000.0  309404152.0         Action|Adventure|Fantasy   \n",
       "2                 11000.0  200074175.0        Action|Adventure|Thriller   \n",
       "3                 27000.0  448130642.0                  Action|Thriller   \n",
       "4                   131.0          NaN                      Documentary   \n",
       "\n",
       "      actor_1_name                                              movie_title  \\\n",
       "0      CCH Pounder                                                  Avatar    \n",
       "1      Johnny Depp                Pirates of the Caribbean: At World's End    \n",
       "2  Christoph Waltz                                                 Spectre    \n",
       "3        Tom Hardy                                   The Dark Knight Rises    \n",
       "4      Doug Walker  Star Wars: Episode VII - The Force Awakens                \n",
       "\n",
       "   num_voted_users  cast_total_facebook_likes          actor_3_name  \\\n",
       "0           886204                       4834             Wes Studi   \n",
       "1           471220                      48350        Jack Davenport   \n",
       "2           275868                      11700      Stephanie Sigman   \n",
       "3          1144337                     106759  Joseph Gordon-Levitt   \n",
       "4                8                        143                   NaN   \n",
       "\n",
       "   facenumber_in_poster  \\\n",
       "0                   0.0   \n",
       "1                   0.0   \n",
       "2                   1.0   \n",
       "3                   0.0   \n",
       "4                   0.0   \n",
       "\n",
       "                                                      plot_keywords  \\\n",
       "0                            avatar|future|marine|native|paraplegic   \n",
       "1      goddess|marriage ceremony|marriage proposal|pirate|singapore   \n",
       "2                               bomb|espionage|sequel|spy|terrorist   \n",
       "3  deception|imprisonment|lawlessness|police officer|terrorist plot   \n",
       "4                                                               NaN   \n",
       "\n",
       "                                        movie_imdb_link  num_user_for_reviews  \\\n",
       "0  http://www.imdb.com/title/tt0499549/?ref_=fn_tt_tt_1                3054.0   \n",
       "1  http://www.imdb.com/title/tt0449088/?ref_=fn_tt_tt_1                1238.0   \n",
       "2  http://www.imdb.com/title/tt2379713/?ref_=fn_tt_tt_1                 994.0   \n",
       "3  http://www.imdb.com/title/tt1345836/?ref_=fn_tt_tt_1                2701.0   \n",
       "4  http://www.imdb.com/title/tt5289954/?ref_=fn_tt_tt_1                   NaN   \n",
       "\n",
       "  language country content_rating       budget  title_year  \\\n",
       "0  English     USA          PG-13  237000000.0      2009.0   \n",
       "1  English     USA          PG-13  300000000.0      2007.0   \n",
       "2  English      UK          PG-13  245000000.0      2015.0   \n",
       "3  English     USA          PG-13  250000000.0      2012.0   \n",
       "4      NaN     NaN            NaN          NaN         NaN   \n",
       "\n",
       "   actor_2_facebook_likes  imdb_score  aspect_ratio  movie_facebook_likes  \n",
       "0                   936.0         7.9          1.78                 33000  \n",
       "1                  5000.0         7.1          2.35                     0  \n",
       "2                   393.0         6.8          2.35                 85000  \n",
       "3                 23000.0         8.5          2.35                164000  \n",
       "4                    12.0         7.1           NaN                     0  "
      ]
     },
     "execution_count": 10,
     "metadata": {},
     "output_type": "execute_result"
    }
   ],
   "source": [
    "movies_gross.head()"
   ]
  },
  {
   "cell_type": "code",
   "execution_count": 11,
   "metadata": {},
   "outputs": [],
   "source": [
    "# creamos variable tconst para poder matchear (si queremos) con movies\n",
    "movies_gross['tconst']=movies_gross.movie_imdb_link.apply(lambda x: x.replace('http://www.imdb.com/title/','').replace('/?ref_=fn_tt_tt_1',''))"
   ]
  },
  {
   "cell_type": "code",
   "execution_count": 12,
   "metadata": {},
   "outputs": [],
   "source": [
    "#Renombro columna de director y year\n",
    "# Esto lo hago para usar las funciones de los transformers ... Si vemos que tiene sentido y suma, hacemos nuestra propia funcion, por el momento es test\n",
    "movies_gross['startYear'] = movies_gross['title_year']\n",
    "movies_gross['director']  = movies_gross['director_name']"
   ]
  },
  {
   "cell_type": "code",
   "execution_count": 13,
   "metadata": {},
   "outputs": [
    {
     "data": {
      "text/html": [
       "<div>\n",
       "<style scoped>\n",
       "    .dataframe tbody tr th:only-of-type {\n",
       "        vertical-align: middle;\n",
       "    }\n",
       "\n",
       "    .dataframe tbody tr th {\n",
       "        vertical-align: top;\n",
       "    }\n",
       "\n",
       "    .dataframe thead th {\n",
       "        text-align: right;\n",
       "    }\n",
       "</style>\n",
       "<table border=\"1\" class=\"dataframe\">\n",
       "  <thead>\n",
       "    <tr style=\"text-align: right;\">\n",
       "      <th></th>\n",
       "      <th>color</th>\n",
       "      <th>director_name</th>\n",
       "      <th>num_critic_for_reviews</th>\n",
       "      <th>duration</th>\n",
       "      <th>director_facebook_likes</th>\n",
       "      <th>actor_3_facebook_likes</th>\n",
       "      <th>actor_2_name</th>\n",
       "      <th>actor_1_facebook_likes</th>\n",
       "      <th>gross</th>\n",
       "      <th>genres</th>\n",
       "      <th>actor_1_name</th>\n",
       "      <th>movie_title</th>\n",
       "      <th>num_voted_users</th>\n",
       "      <th>cast_total_facebook_likes</th>\n",
       "      <th>actor_3_name</th>\n",
       "      <th>facenumber_in_poster</th>\n",
       "      <th>plot_keywords</th>\n",
       "      <th>movie_imdb_link</th>\n",
       "      <th>num_user_for_reviews</th>\n",
       "      <th>language</th>\n",
       "      <th>country</th>\n",
       "      <th>content_rating</th>\n",
       "      <th>budget</th>\n",
       "      <th>title_year</th>\n",
       "      <th>actor_2_facebook_likes</th>\n",
       "      <th>imdb_score</th>\n",
       "      <th>aspect_ratio</th>\n",
       "      <th>movie_facebook_likes</th>\n",
       "      <th>tconst</th>\n",
       "      <th>startYear</th>\n",
       "      <th>director</th>\n",
       "    </tr>\n",
       "  </thead>\n",
       "  <tbody>\n",
       "    <tr>\n",
       "      <th>0</th>\n",
       "      <td>Color</td>\n",
       "      <td>James Cameron</td>\n",
       "      <td>723.0</td>\n",
       "      <td>178.0</td>\n",
       "      <td>0.0</td>\n",
       "      <td>855.0</td>\n",
       "      <td>Joel David Moore</td>\n",
       "      <td>1000.0</td>\n",
       "      <td>760505847.0</td>\n",
       "      <td>Action|Adventure|Fantasy|Sci-Fi</td>\n",
       "      <td>CCH Pounder</td>\n",
       "      <td>Avatar</td>\n",
       "      <td>886204</td>\n",
       "      <td>4834</td>\n",
       "      <td>Wes Studi</td>\n",
       "      <td>0.0</td>\n",
       "      <td>avatar|future|marine|native|paraplegic</td>\n",
       "      <td>http://www.imdb.com/title/tt0499549/?ref_=fn_tt_tt_1</td>\n",
       "      <td>3054.0</td>\n",
       "      <td>English</td>\n",
       "      <td>USA</td>\n",
       "      <td>PG-13</td>\n",
       "      <td>237000000.0</td>\n",
       "      <td>2009.0</td>\n",
       "      <td>936.0</td>\n",
       "      <td>7.9</td>\n",
       "      <td>1.78</td>\n",
       "      <td>33000</td>\n",
       "      <td>tt0499549</td>\n",
       "      <td>2009.0</td>\n",
       "      <td>James Cameron</td>\n",
       "    </tr>\n",
       "    <tr>\n",
       "      <th>1</th>\n",
       "      <td>Color</td>\n",
       "      <td>Gore Verbinski</td>\n",
       "      <td>302.0</td>\n",
       "      <td>169.0</td>\n",
       "      <td>563.0</td>\n",
       "      <td>1000.0</td>\n",
       "      <td>Orlando Bloom</td>\n",
       "      <td>40000.0</td>\n",
       "      <td>309404152.0</td>\n",
       "      <td>Action|Adventure|Fantasy</td>\n",
       "      <td>Johnny Depp</td>\n",
       "      <td>Pirates of the Caribbean: At World's End</td>\n",
       "      <td>471220</td>\n",
       "      <td>48350</td>\n",
       "      <td>Jack Davenport</td>\n",
       "      <td>0.0</td>\n",
       "      <td>goddess|marriage ceremony|marriage proposal|pirate|singapore</td>\n",
       "      <td>http://www.imdb.com/title/tt0449088/?ref_=fn_tt_tt_1</td>\n",
       "      <td>1238.0</td>\n",
       "      <td>English</td>\n",
       "      <td>USA</td>\n",
       "      <td>PG-13</td>\n",
       "      <td>300000000.0</td>\n",
       "      <td>2007.0</td>\n",
       "      <td>5000.0</td>\n",
       "      <td>7.1</td>\n",
       "      <td>2.35</td>\n",
       "      <td>0</td>\n",
       "      <td>tt0449088</td>\n",
       "      <td>2007.0</td>\n",
       "      <td>Gore Verbinski</td>\n",
       "    </tr>\n",
       "    <tr>\n",
       "      <th>2</th>\n",
       "      <td>Color</td>\n",
       "      <td>Sam Mendes</td>\n",
       "      <td>602.0</td>\n",
       "      <td>148.0</td>\n",
       "      <td>0.0</td>\n",
       "      <td>161.0</td>\n",
       "      <td>Rory Kinnear</td>\n",
       "      <td>11000.0</td>\n",
       "      <td>200074175.0</td>\n",
       "      <td>Action|Adventure|Thriller</td>\n",
       "      <td>Christoph Waltz</td>\n",
       "      <td>Spectre</td>\n",
       "      <td>275868</td>\n",
       "      <td>11700</td>\n",
       "      <td>Stephanie Sigman</td>\n",
       "      <td>1.0</td>\n",
       "      <td>bomb|espionage|sequel|spy|terrorist</td>\n",
       "      <td>http://www.imdb.com/title/tt2379713/?ref_=fn_tt_tt_1</td>\n",
       "      <td>994.0</td>\n",
       "      <td>English</td>\n",
       "      <td>UK</td>\n",
       "      <td>PG-13</td>\n",
       "      <td>245000000.0</td>\n",
       "      <td>2015.0</td>\n",
       "      <td>393.0</td>\n",
       "      <td>6.8</td>\n",
       "      <td>2.35</td>\n",
       "      <td>85000</td>\n",
       "      <td>tt2379713</td>\n",
       "      <td>2015.0</td>\n",
       "      <td>Sam Mendes</td>\n",
       "    </tr>\n",
       "    <tr>\n",
       "      <th>3</th>\n",
       "      <td>Color</td>\n",
       "      <td>Christopher Nolan</td>\n",
       "      <td>813.0</td>\n",
       "      <td>164.0</td>\n",
       "      <td>22000.0</td>\n",
       "      <td>23000.0</td>\n",
       "      <td>Christian Bale</td>\n",
       "      <td>27000.0</td>\n",
       "      <td>448130642.0</td>\n",
       "      <td>Action|Thriller</td>\n",
       "      <td>Tom Hardy</td>\n",
       "      <td>The Dark Knight Rises</td>\n",
       "      <td>1144337</td>\n",
       "      <td>106759</td>\n",
       "      <td>Joseph Gordon-Levitt</td>\n",
       "      <td>0.0</td>\n",
       "      <td>deception|imprisonment|lawlessness|police officer|terrorist plot</td>\n",
       "      <td>http://www.imdb.com/title/tt1345836/?ref_=fn_tt_tt_1</td>\n",
       "      <td>2701.0</td>\n",
       "      <td>English</td>\n",
       "      <td>USA</td>\n",
       "      <td>PG-13</td>\n",
       "      <td>250000000.0</td>\n",
       "      <td>2012.0</td>\n",
       "      <td>23000.0</td>\n",
       "      <td>8.5</td>\n",
       "      <td>2.35</td>\n",
       "      <td>164000</td>\n",
       "      <td>tt1345836</td>\n",
       "      <td>2012.0</td>\n",
       "      <td>Christopher Nolan</td>\n",
       "    </tr>\n",
       "    <tr>\n",
       "      <th>4</th>\n",
       "      <td>NaN</td>\n",
       "      <td>Doug Walker</td>\n",
       "      <td>NaN</td>\n",
       "      <td>NaN</td>\n",
       "      <td>131.0</td>\n",
       "      <td>NaN</td>\n",
       "      <td>Rob Walker</td>\n",
       "      <td>131.0</td>\n",
       "      <td>NaN</td>\n",
       "      <td>Documentary</td>\n",
       "      <td>Doug Walker</td>\n",
       "      <td>Star Wars: Episode VII - The Force Awakens</td>\n",
       "      <td>8</td>\n",
       "      <td>143</td>\n",
       "      <td>NaN</td>\n",
       "      <td>0.0</td>\n",
       "      <td>NaN</td>\n",
       "      <td>http://www.imdb.com/title/tt5289954/?ref_=fn_tt_tt_1</td>\n",
       "      <td>NaN</td>\n",
       "      <td>NaN</td>\n",
       "      <td>NaN</td>\n",
       "      <td>NaN</td>\n",
       "      <td>NaN</td>\n",
       "      <td>NaN</td>\n",
       "      <td>12.0</td>\n",
       "      <td>7.1</td>\n",
       "      <td>NaN</td>\n",
       "      <td>0</td>\n",
       "      <td>tt5289954</td>\n",
       "      <td>NaN</td>\n",
       "      <td>Doug Walker</td>\n",
       "    </tr>\n",
       "  </tbody>\n",
       "</table>\n",
       "</div>"
      ],
      "text/plain": [
       "   color      director_name  num_critic_for_reviews  duration  \\\n",
       "0  Color      James Cameron                   723.0     178.0   \n",
       "1  Color     Gore Verbinski                   302.0     169.0   \n",
       "2  Color         Sam Mendes                   602.0     148.0   \n",
       "3  Color  Christopher Nolan                   813.0     164.0   \n",
       "4    NaN        Doug Walker                     NaN       NaN   \n",
       "\n",
       "   director_facebook_likes  actor_3_facebook_likes      actor_2_name  \\\n",
       "0                      0.0                   855.0  Joel David Moore   \n",
       "1                    563.0                  1000.0     Orlando Bloom   \n",
       "2                      0.0                   161.0      Rory Kinnear   \n",
       "3                  22000.0                 23000.0    Christian Bale   \n",
       "4                    131.0                     NaN        Rob Walker   \n",
       "\n",
       "   actor_1_facebook_likes        gross                           genres  \\\n",
       "0                  1000.0  760505847.0  Action|Adventure|Fantasy|Sci-Fi   \n",
       "1                 40000.0  309404152.0         Action|Adventure|Fantasy   \n",
       "2                 11000.0  200074175.0        Action|Adventure|Thriller   \n",
       "3                 27000.0  448130642.0                  Action|Thriller   \n",
       "4                   131.0          NaN                      Documentary   \n",
       "\n",
       "      actor_1_name                                              movie_title  \\\n",
       "0      CCH Pounder                                                  Avatar    \n",
       "1      Johnny Depp                Pirates of the Caribbean: At World's End    \n",
       "2  Christoph Waltz                                                 Spectre    \n",
       "3        Tom Hardy                                   The Dark Knight Rises    \n",
       "4      Doug Walker  Star Wars: Episode VII - The Force Awakens                \n",
       "\n",
       "   num_voted_users  cast_total_facebook_likes          actor_3_name  \\\n",
       "0           886204                       4834             Wes Studi   \n",
       "1           471220                      48350        Jack Davenport   \n",
       "2           275868                      11700      Stephanie Sigman   \n",
       "3          1144337                     106759  Joseph Gordon-Levitt   \n",
       "4                8                        143                   NaN   \n",
       "\n",
       "   facenumber_in_poster  \\\n",
       "0                   0.0   \n",
       "1                   0.0   \n",
       "2                   1.0   \n",
       "3                   0.0   \n",
       "4                   0.0   \n",
       "\n",
       "                                                      plot_keywords  \\\n",
       "0                            avatar|future|marine|native|paraplegic   \n",
       "1      goddess|marriage ceremony|marriage proposal|pirate|singapore   \n",
       "2                               bomb|espionage|sequel|spy|terrorist   \n",
       "3  deception|imprisonment|lawlessness|police officer|terrorist plot   \n",
       "4                                                               NaN   \n",
       "\n",
       "                                        movie_imdb_link  num_user_for_reviews  \\\n",
       "0  http://www.imdb.com/title/tt0499549/?ref_=fn_tt_tt_1                3054.0   \n",
       "1  http://www.imdb.com/title/tt0449088/?ref_=fn_tt_tt_1                1238.0   \n",
       "2  http://www.imdb.com/title/tt2379713/?ref_=fn_tt_tt_1                 994.0   \n",
       "3  http://www.imdb.com/title/tt1345836/?ref_=fn_tt_tt_1                2701.0   \n",
       "4  http://www.imdb.com/title/tt5289954/?ref_=fn_tt_tt_1                   NaN   \n",
       "\n",
       "  language country content_rating       budget  title_year  \\\n",
       "0  English     USA          PG-13  237000000.0      2009.0   \n",
       "1  English     USA          PG-13  300000000.0      2007.0   \n",
       "2  English      UK          PG-13  245000000.0      2015.0   \n",
       "3  English     USA          PG-13  250000000.0      2012.0   \n",
       "4      NaN     NaN            NaN          NaN         NaN   \n",
       "\n",
       "   actor_2_facebook_likes  imdb_score  aspect_ratio  movie_facebook_likes  \\\n",
       "0                   936.0         7.9          1.78                 33000   \n",
       "1                  5000.0         7.1          2.35                     0   \n",
       "2                   393.0         6.8          2.35                 85000   \n",
       "3                 23000.0         8.5          2.35                164000   \n",
       "4                    12.0         7.1           NaN                     0   \n",
       "\n",
       "      tconst  startYear           director  \n",
       "0  tt0499549     2009.0      James Cameron  \n",
       "1  tt0449088     2007.0     Gore Verbinski  \n",
       "2  tt2379713     2015.0         Sam Mendes  \n",
       "3  tt1345836     2012.0  Christopher Nolan  \n",
       "4  tt5289954        NaN        Doug Walker  "
      ]
     },
     "execution_count": 13,
     "metadata": {},
     "output_type": "execute_result"
    }
   ],
   "source": [
    "movies_gross.head()"
   ]
  },
  {
   "cell_type": "code",
   "execution_count": 14,
   "metadata": {},
   "outputs": [
    {
     "data": {
      "text/html": [
       "<div>\n",
       "<style scoped>\n",
       "    .dataframe tbody tr th:only-of-type {\n",
       "        vertical-align: middle;\n",
       "    }\n",
       "\n",
       "    .dataframe tbody tr th {\n",
       "        vertical-align: top;\n",
       "    }\n",
       "\n",
       "    .dataframe thead th {\n",
       "        text-align: right;\n",
       "    }\n",
       "</style>\n",
       "<table border=\"1\" class=\"dataframe\">\n",
       "  <thead>\n",
       "    <tr style=\"text-align: right;\">\n",
       "      <th></th>\n",
       "      <th>director</th>\n",
       "      <th>actor_1_name</th>\n",
       "      <th>actor_2_name</th>\n",
       "      <th>actor_3_name</th>\n",
       "      <th>genres</th>\n",
       "      <th>duration</th>\n",
       "      <th>movie_title</th>\n",
       "      <th>movie_imdb_link</th>\n",
       "      <th>language</th>\n",
       "      <th>country</th>\n",
       "      <th>title_year</th>\n",
       "      <th>startYear</th>\n",
       "      <th>content_rating</th>\n",
       "      <th>tconst</th>\n",
       "      <th>budget</th>\n",
       "    </tr>\n",
       "  </thead>\n",
       "  <tbody>\n",
       "    <tr>\n",
       "      <th>0</th>\n",
       "      <td>James Cameron</td>\n",
       "      <td>CCH Pounder</td>\n",
       "      <td>Joel David Moore</td>\n",
       "      <td>Wes Studi</td>\n",
       "      <td>Action|Adventure|Fantasy|Sci-Fi</td>\n",
       "      <td>178.0</td>\n",
       "      <td>Avatar</td>\n",
       "      <td>http://www.imdb.com/title/tt0499549/?ref_=fn_tt_tt_1</td>\n",
       "      <td>English</td>\n",
       "      <td>USA</td>\n",
       "      <td>2009.0</td>\n",
       "      <td>2009.0</td>\n",
       "      <td>PG-13</td>\n",
       "      <td>tt0499549</td>\n",
       "      <td>237000000.0</td>\n",
       "    </tr>\n",
       "    <tr>\n",
       "      <th>1</th>\n",
       "      <td>Gore Verbinski</td>\n",
       "      <td>Johnny Depp</td>\n",
       "      <td>Orlando Bloom</td>\n",
       "      <td>Jack Davenport</td>\n",
       "      <td>Action|Adventure|Fantasy</td>\n",
       "      <td>169.0</td>\n",
       "      <td>Pirates of the Caribbean: At World's End</td>\n",
       "      <td>http://www.imdb.com/title/tt0449088/?ref_=fn_tt_tt_1</td>\n",
       "      <td>English</td>\n",
       "      <td>USA</td>\n",
       "      <td>2007.0</td>\n",
       "      <td>2007.0</td>\n",
       "      <td>PG-13</td>\n",
       "      <td>tt0449088</td>\n",
       "      <td>300000000.0</td>\n",
       "    </tr>\n",
       "  </tbody>\n",
       "</table>\n",
       "</div>"
      ],
      "text/plain": [
       "         director actor_1_name      actor_2_name    actor_3_name  \\\n",
       "0   James Cameron  CCH Pounder  Joel David Moore       Wes Studi   \n",
       "1  Gore Verbinski  Johnny Depp     Orlando Bloom  Jack Davenport   \n",
       "\n",
       "                            genres  duration  \\\n",
       "0  Action|Adventure|Fantasy|Sci-Fi     178.0   \n",
       "1         Action|Adventure|Fantasy     169.0   \n",
       "\n",
       "                                 movie_title  \\\n",
       "0                                    Avatar    \n",
       "1  Pirates of the Caribbean: At World's End    \n",
       "\n",
       "                                        movie_imdb_link language country  \\\n",
       "0  http://www.imdb.com/title/tt0499549/?ref_=fn_tt_tt_1  English     USA   \n",
       "1  http://www.imdb.com/title/tt0449088/?ref_=fn_tt_tt_1  English     USA   \n",
       "\n",
       "   title_year  startYear content_rating     tconst       budget  \n",
       "0      2009.0     2009.0          PG-13  tt0499549  237000000.0  \n",
       "1      2007.0     2007.0          PG-13  tt0449088  300000000.0  "
      ]
     },
     "execution_count": 14,
     "metadata": {},
     "output_type": "execute_result"
    }
   ],
   "source": [
    "# limpio el df movie_gross y me quedo con los datos que pueden servir\n",
    "df= movies_gross[['director', 'actor_1_name','actor_2_name', 'actor_3_name', 'genres', 'duration', 'movie_title', 'movie_imdb_link', 'language', 'country','title_year', 'startYear','content_rating','tconst','budget']]\n",
    "df.head(2)"
   ]
  },
  {
   "cell_type": "markdown",
   "metadata": {},
   "source": [
    "## Data Cleanning"
   ]
  },
  {
   "cell_type": "code",
   "execution_count": 15,
   "metadata": {},
   "outputs": [
    {
     "data": {
      "text/plain": [
       "Drama                                       236\n",
       "Comedy                                      209\n",
       "Comedy|Drama                                191\n",
       "Comedy|Drama|Romance                        187\n",
       "Comedy|Romance                              158\n",
       "                                           ... \n",
       "Crime|Documentary|News                        1\n",
       "Action|Comedy|Drama                           1\n",
       "Biography|Crime|Drama|Mystery|Thriller        1\n",
       "Comedy|Drama|Fantasy|Horror                   1\n",
       "Adventure|Drama|Fantasy|Mystery|Thriller      1\n",
       "Name: genres, Length: 914, dtype: int64"
      ]
     },
     "execution_count": 15,
     "metadata": {},
     "output_type": "execute_result"
    }
   ],
   "source": [
    "df.genres.value_counts()"
   ]
  },
  {
   "cell_type": "code",
   "execution_count": 16,
   "metadata": {
    "id": "nnGQQi_Ev9hg"
   },
   "outputs": [],
   "source": [
    "# me quedo con las peliculas que tengan un budget asignado, y también con las que sean de 1970 (revisar el año) y con las que no esten duplicadas\r\n",
    "# revisar el tipo de moneda de cada pais, porque me suena a que o son outliers o estan en otra moneda\n",
    "\r\n",
    "from dateutil.parser import parse\r\n",
    "\r\n",
    "df = df[~df.budget.isna()].copy()\r\n",
    "df = df[df.title_year > 1970].copy()\r\n",
    "df['tconst'] = df.movie_imdb_link.apply(lambda x: x.split('/')[4])\r\n",
    "df = df.drop_duplicates(df.columns[df.columns.isin(['tconst'])],\r\n",
    "                        keep='first')"
   ]
  },
  {
   "cell_type": "code",
   "execution_count": 17,
   "metadata": {
    "colab": {
     "base_uri": "https://localhost:8080/",
     "height": 309
    },
    "id": "7C5TFJJoytjN",
    "outputId": "89c6e436-c011-4946-8293-c18ffb7b9793"
   },
   "outputs": [
    {
     "data": {
      "text/html": [
       "<div>\n",
       "<style scoped>\n",
       "    .dataframe tbody tr th:only-of-type {\n",
       "        vertical-align: middle;\n",
       "    }\n",
       "\n",
       "    .dataframe tbody tr th {\n",
       "        vertical-align: top;\n",
       "    }\n",
       "\n",
       "    .dataframe thead th {\n",
       "        text-align: right;\n",
       "    }\n",
       "</style>\n",
       "<table border=\"1\" class=\"dataframe\">\n",
       "  <thead>\n",
       "    <tr style=\"text-align: right;\">\n",
       "      <th></th>\n",
       "      <th>director</th>\n",
       "      <th>actor_1_name</th>\n",
       "      <th>actor_2_name</th>\n",
       "      <th>actor_3_name</th>\n",
       "      <th>genres</th>\n",
       "      <th>duration</th>\n",
       "      <th>movie_title</th>\n",
       "      <th>movie_imdb_link</th>\n",
       "      <th>language</th>\n",
       "      <th>country</th>\n",
       "      <th>title_year</th>\n",
       "      <th>startYear</th>\n",
       "      <th>content_rating</th>\n",
       "      <th>tconst</th>\n",
       "      <th>budget</th>\n",
       "    </tr>\n",
       "  </thead>\n",
       "  <tbody>\n",
       "    <tr>\n",
       "      <th>2988</th>\n",
       "      <td>Joon-ho Bong</td>\n",
       "      <td>Doona Bae</td>\n",
       "      <td>Kang-ho Song</td>\n",
       "      <td>Ah-sung Ko</td>\n",
       "      <td>Comedy|Drama|Horror|Sci-Fi</td>\n",
       "      <td>110.0</td>\n",
       "      <td>The Host</td>\n",
       "      <td>http://www.imdb.com/title/tt0468492/?ref_=fn_tt_tt_1</td>\n",
       "      <td>Korean</td>\n",
       "      <td>South Korea</td>\n",
       "      <td>2006.0</td>\n",
       "      <td>2006.0</td>\n",
       "      <td>R</td>\n",
       "      <td>tt0468492</td>\n",
       "      <td>1.221550e+10</td>\n",
       "    </tr>\n",
       "    <tr>\n",
       "      <th>3859</th>\n",
       "      <td>Chan-wook Park</td>\n",
       "      <td>Min-sik Choi</td>\n",
       "      <td>Yeong-ae Lee</td>\n",
       "      <td>Hye-jeong Kang</td>\n",
       "      <td>Crime|Drama</td>\n",
       "      <td>112.0</td>\n",
       "      <td>Lady Vengeance</td>\n",
       "      <td>http://www.imdb.com/title/tt0451094/?ref_=fn_tt_tt_1</td>\n",
       "      <td>Korean</td>\n",
       "      <td>South Korea</td>\n",
       "      <td>2005.0</td>\n",
       "      <td>2005.0</td>\n",
       "      <td>R</td>\n",
       "      <td>tt0451094</td>\n",
       "      <td>4.200000e+09</td>\n",
       "    </tr>\n",
       "    <tr>\n",
       "      <th>3005</th>\n",
       "      <td>Lajos Koltai</td>\n",
       "      <td>Marcell Nagy</td>\n",
       "      <td>Péter Fancsikai</td>\n",
       "      <td>Bálint Péntek</td>\n",
       "      <td>Drama|Romance|War</td>\n",
       "      <td>134.0</td>\n",
       "      <td>Fateless</td>\n",
       "      <td>http://www.imdb.com/title/tt0367082/?ref_=fn_tt_tt_1</td>\n",
       "      <td>Hungarian</td>\n",
       "      <td>Hungary</td>\n",
       "      <td>2005.0</td>\n",
       "      <td>2005.0</td>\n",
       "      <td>R</td>\n",
       "      <td>tt0367082</td>\n",
       "      <td>2.500000e+09</td>\n",
       "    </tr>\n",
       "    <tr>\n",
       "      <th>2323</th>\n",
       "      <td>Hayao Miyazaki</td>\n",
       "      <td>Minnie Driver</td>\n",
       "      <td>Jada Pinkett Smith</td>\n",
       "      <td>Billy Crudup</td>\n",
       "      <td>Adventure|Animation|Fantasy</td>\n",
       "      <td>134.0</td>\n",
       "      <td>Princess Mononoke</td>\n",
       "      <td>http://www.imdb.com/title/tt0119698/?ref_=fn_tt_tt_1</td>\n",
       "      <td>Japanese</td>\n",
       "      <td>Japan</td>\n",
       "      <td>1997.0</td>\n",
       "      <td>1997.0</td>\n",
       "      <td>PG-13</td>\n",
       "      <td>tt0119698</td>\n",
       "      <td>2.400000e+09</td>\n",
       "    </tr>\n",
       "    <tr>\n",
       "      <th>2334</th>\n",
       "      <td>Katsuhiro Ôtomo</td>\n",
       "      <td>William Hootkins</td>\n",
       "      <td>Robin Atkin Downes</td>\n",
       "      <td>Rosalind Ayres</td>\n",
       "      <td>Action|Adventure|Animation|Family|Sci-Fi|Thriller</td>\n",
       "      <td>103.0</td>\n",
       "      <td>Steamboy</td>\n",
       "      <td>http://www.imdb.com/title/tt0348121/?ref_=fn_tt_tt_1</td>\n",
       "      <td>Japanese</td>\n",
       "      <td>Japan</td>\n",
       "      <td>2004.0</td>\n",
       "      <td>2004.0</td>\n",
       "      <td>PG-13</td>\n",
       "      <td>tt0348121</td>\n",
       "      <td>2.127520e+09</td>\n",
       "    </tr>\n",
       "  </tbody>\n",
       "</table>\n",
       "</div>"
      ],
      "text/plain": [
       "             director      actor_1_name        actor_2_name    actor_3_name  \\\n",
       "2988     Joon-ho Bong         Doona Bae        Kang-ho Song      Ah-sung Ko   \n",
       "3859   Chan-wook Park      Min-sik Choi        Yeong-ae Lee  Hye-jeong Kang   \n",
       "3005     Lajos Koltai      Marcell Nagy     Péter Fancsikai   Bálint Péntek   \n",
       "2323   Hayao Miyazaki     Minnie Driver  Jada Pinkett Smith    Billy Crudup   \n",
       "2334  Katsuhiro Ôtomo  William Hootkins  Robin Atkin Downes  Rosalind Ayres   \n",
       "\n",
       "                                                 genres  duration  \\\n",
       "2988                         Comedy|Drama|Horror|Sci-Fi     110.0   \n",
       "3859                                        Crime|Drama     112.0   \n",
       "3005                                  Drama|Romance|War     134.0   \n",
       "2323                        Adventure|Animation|Fantasy     134.0   \n",
       "2334  Action|Adventure|Animation|Family|Sci-Fi|Thriller     103.0   \n",
       "\n",
       "             movie_title  \\\n",
       "2988           The Host    \n",
       "3859     Lady Vengeance    \n",
       "3005           Fateless    \n",
       "2323  Princess Mononoke    \n",
       "2334           Steamboy    \n",
       "\n",
       "                                           movie_imdb_link   language  \\\n",
       "2988  http://www.imdb.com/title/tt0468492/?ref_=fn_tt_tt_1     Korean   \n",
       "3859  http://www.imdb.com/title/tt0451094/?ref_=fn_tt_tt_1     Korean   \n",
       "3005  http://www.imdb.com/title/tt0367082/?ref_=fn_tt_tt_1  Hungarian   \n",
       "2323  http://www.imdb.com/title/tt0119698/?ref_=fn_tt_tt_1   Japanese   \n",
       "2334  http://www.imdb.com/title/tt0348121/?ref_=fn_tt_tt_1   Japanese   \n",
       "\n",
       "          country  title_year  startYear content_rating     tconst  \\\n",
       "2988  South Korea      2006.0     2006.0              R  tt0468492   \n",
       "3859  South Korea      2005.0     2005.0              R  tt0451094   \n",
       "3005      Hungary      2005.0     2005.0              R  tt0367082   \n",
       "2323        Japan      1997.0     1997.0          PG-13  tt0119698   \n",
       "2334        Japan      2004.0     2004.0          PG-13  tt0348121   \n",
       "\n",
       "            budget  \n",
       "2988  1.221550e+10  \n",
       "3859  4.200000e+09  \n",
       "3005  2.500000e+09  \n",
       "2323  2.400000e+09  \n",
       "2334  2.127520e+09  "
      ]
     },
     "execution_count": 17,
     "metadata": {},
     "output_type": "execute_result"
    }
   ],
   "source": [
    "df.sort_values('budget', ascending=False).head()"
   ]
  },
  {
   "cell_type": "code",
   "execution_count": 18,
   "metadata": {},
   "outputs": [
    {
     "data": {
      "image/png": "[encoded data removed]",
      "text/plain": [
       "<Figure size 432x288 with 1 Axes>"
      ]
     },
     "metadata": {
      "needs_background": "light"
     },
     "output_type": "display_data"
    }
   ],
   "source": [
    "log_vars = True\n",
    "plot_budget_validation(df, movies_gross, log_vars)"
   ]
  },
  {
   "cell_type": "code",
   "execution_count": 19,
   "metadata": {},
   "outputs": [
    {
     "data": {
      "image/png": "[encoded data removed]",
      "text/plain": [
       "<Figure size 432x288 with 1 Axes>"
      ]
     },
     "metadata": {
      "needs_background": "light"
     },
     "output_type": "display_data"
    }
   ],
   "source": [
    "plot_budget_validation(df, movies_gross, False)"
   ]
  },
  {
   "cell_type": "code",
   "execution_count": 20,
   "metadata": {
    "colab": {
     "base_uri": "https://localhost:8080/"
    },
    "id": "1Q1w0pNQ1W9a",
    "outputId": "b678fea9-abd2-44ab-e1b6-bf6d7acc13dc"
   },
   "outputs": [
    {
     "data": {
      "text/plain": [
       "0.7695540508989026"
      ]
     },
     "execution_count": 20,
     "metadata": {},
     "output_type": "execute_result"
    }
   ],
   "source": [
    "# cuanto representan las peliculas de USA \r\n",
    "(df.country == 'USA').sum() / len(df)"
   ]
  },
  {
   "cell_type": "code",
   "execution_count": 21,
   "metadata": {
    "id": "HjsBvj9Vyzw1"
   },
   "outputs": [],
   "source": [
    "df_usa_budget = df[df.country == 'USA'].copy()"
   ]
  },
  {
   "cell_type": "markdown",
   "metadata": {},
   "source": [
    "### Analizo si me mueve la aguja tener solo US"
   ]
  },
  {
   "cell_type": "code",
   "execution_count": 22,
   "metadata": {},
   "outputs": [
    {
     "data": {
      "image/png": "[encoded data removed]",
      "text/plain": [
       "<Figure size 432x288 with 1 Axes>"
      ]
     },
     "metadata": {
      "needs_background": "light"
     },
     "output_type": "display_data"
    }
   ],
   "source": [
    "plot_budget_validation(df_usa_budget, movies_gross)"
   ]
  },
  {
   "cell_type": "markdown",
   "metadata": {},
   "source": [
    "### Comparo el filtrado vs el real"
   ]
  },
  {
   "cell_type": "code",
   "execution_count": 23,
   "metadata": {
    "colab": {
     "base_uri": "https://localhost:8080/",
     "height": 297
    },
    "id": "it6VUWqnzSts",
    "outputId": "838c4266-c667-49e6-a29b-f87232dc6af3"
   },
   "outputs": [
    {
     "data": {
      "text/html": [
       "<div>\n",
       "<style scoped>\n",
       "    .dataframe tbody tr th:only-of-type {\n",
       "        vertical-align: middle;\n",
       "    }\n",
       "\n",
       "    .dataframe tbody tr th {\n",
       "        vertical-align: top;\n",
       "    }\n",
       "\n",
       "    .dataframe thead th {\n",
       "        text-align: right;\n",
       "    }\n",
       "</style>\n",
       "<table border=\"1\" class=\"dataframe\">\n",
       "  <thead>\n",
       "    <tr style=\"text-align: right;\">\n",
       "      <th></th>\n",
       "      <th>title_year</th>\n",
       "      <th>budget</th>\n",
       "    </tr>\n",
       "  </thead>\n",
       "  <tbody>\n",
       "    <tr>\n",
       "      <th>count</th>\n",
       "      <td>3296.000000</td>\n",
       "      <td>3.296000e+03</td>\n",
       "    </tr>\n",
       "    <tr>\n",
       "      <th>mean</th>\n",
       "      <td>2003.541869</td>\n",
       "      <td>3.636732e+07</td>\n",
       "    </tr>\n",
       "    <tr>\n",
       "      <th>std</th>\n",
       "      <td>9.081192</td>\n",
       "      <td>4.236952e+07</td>\n",
       "    </tr>\n",
       "    <tr>\n",
       "      <th>min</th>\n",
       "      <td>1971.000000</td>\n",
       "      <td>2.180000e+02</td>\n",
       "    </tr>\n",
       "    <tr>\n",
       "      <th>25%</th>\n",
       "      <td>1999.000000</td>\n",
       "      <td>7.500000e+06</td>\n",
       "    </tr>\n",
       "    <tr>\n",
       "      <th>50%</th>\n",
       "      <td>2005.000000</td>\n",
       "      <td>2.200000e+07</td>\n",
       "    </tr>\n",
       "    <tr>\n",
       "      <th>75%</th>\n",
       "      <td>2011.000000</td>\n",
       "      <td>5.000000e+07</td>\n",
       "    </tr>\n",
       "    <tr>\n",
       "      <th>max</th>\n",
       "      <td>2016.000000</td>\n",
       "      <td>3.000000e+08</td>\n",
       "    </tr>\n",
       "  </tbody>\n",
       "</table>\n",
       "</div>"
      ],
      "text/plain": [
       "        title_year        budget\n",
       "count  3296.000000  3.296000e+03\n",
       "mean   2003.541869  3.636732e+07\n",
       "std       9.081192  4.236952e+07\n",
       "min    1971.000000  2.180000e+02\n",
       "25%    1999.000000  7.500000e+06\n",
       "50%    2005.000000  2.200000e+07\n",
       "75%    2011.000000  5.000000e+07\n",
       "max    2016.000000  3.000000e+08"
      ]
     },
     "execution_count": 23,
     "metadata": {},
     "output_type": "execute_result"
    }
   ],
   "source": [
    "df_usa_budget[['title_year','budget']].describe()"
   ]
  },
  {
   "cell_type": "code",
   "execution_count": 24,
   "metadata": {},
   "outputs": [
    {
     "data": {
      "text/html": [
       "<div>\n",
       "<style scoped>\n",
       "    .dataframe tbody tr th:only-of-type {\n",
       "        vertical-align: middle;\n",
       "    }\n",
       "\n",
       "    .dataframe tbody tr th {\n",
       "        vertical-align: top;\n",
       "    }\n",
       "\n",
       "    .dataframe thead th {\n",
       "        text-align: right;\n",
       "    }\n",
       "</style>\n",
       "<table border=\"1\" class=\"dataframe\">\n",
       "  <thead>\n",
       "    <tr style=\"text-align: right;\">\n",
       "      <th></th>\n",
       "      <th>title_year</th>\n",
       "      <th>budget</th>\n",
       "    </tr>\n",
       "  </thead>\n",
       "  <tbody>\n",
       "    <tr>\n",
       "      <th>count</th>\n",
       "      <td>4935.000000</td>\n",
       "      <td>4.551000e+03</td>\n",
       "    </tr>\n",
       "    <tr>\n",
       "      <th>mean</th>\n",
       "      <td>2002.470517</td>\n",
       "      <td>3.975262e+07</td>\n",
       "    </tr>\n",
       "    <tr>\n",
       "      <th>std</th>\n",
       "      <td>12.474599</td>\n",
       "      <td>2.061149e+08</td>\n",
       "    </tr>\n",
       "    <tr>\n",
       "      <th>min</th>\n",
       "      <td>1916.000000</td>\n",
       "      <td>2.180000e+02</td>\n",
       "    </tr>\n",
       "    <tr>\n",
       "      <th>25%</th>\n",
       "      <td>1999.000000</td>\n",
       "      <td>6.000000e+06</td>\n",
       "    </tr>\n",
       "    <tr>\n",
       "      <th>50%</th>\n",
       "      <td>2005.000000</td>\n",
       "      <td>2.000000e+07</td>\n",
       "    </tr>\n",
       "    <tr>\n",
       "      <th>75%</th>\n",
       "      <td>2011.000000</td>\n",
       "      <td>4.500000e+07</td>\n",
       "    </tr>\n",
       "    <tr>\n",
       "      <th>max</th>\n",
       "      <td>2016.000000</td>\n",
       "      <td>1.221550e+10</td>\n",
       "    </tr>\n",
       "  </tbody>\n",
       "</table>\n",
       "</div>"
      ],
      "text/plain": [
       "        title_year        budget\n",
       "count  4935.000000  4.551000e+03\n",
       "mean   2002.470517  3.975262e+07\n",
       "std      12.474599  2.061149e+08\n",
       "min    1916.000000  2.180000e+02\n",
       "25%    1999.000000  6.000000e+06\n",
       "50%    2005.000000  2.000000e+07\n",
       "75%    2011.000000  4.500000e+07\n",
       "max    2016.000000  1.221550e+10"
      ]
     },
     "execution_count": 24,
     "metadata": {},
     "output_type": "execute_result"
    }
   ],
   "source": [
    "movies_gross[['title_year','budget']].describe()"
   ]
  },
  {
   "cell_type": "code",
   "execution_count": 25,
   "metadata": {
    "colab": {
     "base_uri": "https://localhost:8080/"
    },
    "id": "U5BwSBAaSEZy",
    "outputId": "a279dd3d-8d3b-4d37-8feb-c72c10451ed4"
   },
   "outputs": [
    {
     "data": {
      "text/plain": [
       "Morgan Freeman        15\n",
       "Charlize Theron       11\n",
       "Brad Pitt             11\n",
       "Meryl Streep           9\n",
       "James Franco           9\n",
       "                      ..\n",
       "Sandra Staggs          1\n",
       "Michael Jai White      1\n",
       "Giancarlo Giannini     1\n",
       "Katie Aselton          1\n",
       "Patsy Kensit           1\n",
       "Name: actor_2_name, Length: 2006, dtype: int64"
      ]
     },
     "execution_count": 25,
     "metadata": {},
     "output_type": "execute_result"
    }
   ],
   "source": [
    "df_usa_budget.actor_2_name.value_counts()"
   ]
  },
  {
   "cell_type": "markdown",
   "metadata": {},
   "source": [
    "### Divido el dataset en train, val y test\n",
    "### y obtengo los siguientes data sets:\n",
    "\n",
    "X_train, X_val, X_test , lo mismo con la var y"
   ]
  },
  {
   "cell_type": "code",
   "execution_count": 26,
   "metadata": {},
   "outputs": [
    {
     "name": "stdout",
     "output_type": "stream",
     "text": [
      "len(X): 4283 len(y): 4283 \n",
      "len(X_train): 2997, len(X_val): 857, len(X_test):     429 \n",
      "len(y_train): 2997, len(y_val): 857, len(y_test): 429\n"
     ]
    }
   ],
   "source": [
    " X_train, X_val, X_test, y_train, y_val, y_test = load_budget_train_dev_test(df)"
   ]
  },
  {
   "cell_type": "code",
   "execution_count": 27,
   "metadata": {},
   "outputs": [
    {
     "data": {
      "text/plain": [
       "{'director': 'Jafar Panahi',\n",
       " 'actor_1_name': 'Fereshteh Sadre Orafaiy',\n",
       " 'actor_2_name': 'Nargess Mamizadeh',\n",
       " 'actor_3_name': 'Mojgan Faramarzi',\n",
       " 'genres': 'Drama',\n",
       " 'duration': 90.0,\n",
       " 'movie_title': 'The Circle\\xa0',\n",
       " 'movie_imdb_link': 'http://www.imdb.com/title/tt0255094/?ref_=fn_tt_tt_1',\n",
       " 'language': 'Persian',\n",
       " 'country': 'Iran',\n",
       " 'title_year': 2000.0,\n",
       " 'startYear': 2000.0,\n",
       " 'content_rating': 'Not Rated',\n",
       " 'tconst': 'tt0255094'}"
      ]
     },
     "execution_count": 27,
     "metadata": {},
     "output_type": "execute_result"
    }
   ],
   "source": [
    "# Acá vemos la data de train\n",
    "X_train[0]"
   ]
  },
  {
   "cell_type": "code",
   "execution_count": 28,
   "metadata": {},
   "outputs": [
    {
     "data": {
      "text/plain": [
       "10000.0"
      ]
     },
     "execution_count": 28,
     "metadata": {},
     "output_type": "execute_result"
    }
   ],
   "source": [
    "# miro el budget para el 1er row en train\n",
    "y_train[0]"
   ]
  },
  {
   "cell_type": "code",
   "execution_count": 29,
   "metadata": {},
   "outputs": [
    {
     "data": {
      "text/plain": [
       "{'director': 'Jessy Terrero',\n",
       " 'actor_1_name': \"Mo'Nique\",\n",
       " 'actor_2_name': 'Snoop Dogg',\n",
       " 'actor_3_name': 'Tom Arnold',\n",
       " 'genres': 'Comedy',\n",
       " 'duration': 92.0,\n",
       " 'movie_title': 'Soul Plane\\xa0',\n",
       " 'movie_imdb_link': 'http://www.imdb.com/title/tt0367085/?ref_=fn_tt_tt_1',\n",
       " 'language': 'English',\n",
       " 'country': 'USA',\n",
       " 'title_year': 2004.0,\n",
       " 'startYear': 2004.0,\n",
       " 'content_rating': 'R',\n",
       " 'tconst': 'tt0367085'}"
      ]
     },
     "execution_count": 29,
     "metadata": {},
     "output_type": "execute_result"
    }
   ],
   "source": [
    "X_val[0]\n",
    "# data.keys()"
   ]
  },
  {
   "cell_type": "code",
   "execution_count": 30,
   "metadata": {},
   "outputs": [
    {
     "data": {
      "text/plain": [
       "16000000.0"
      ]
     },
     "execution_count": 30,
     "metadata": {},
     "output_type": "execute_result"
    }
   ],
   "source": [
    "y_val[0]"
   ]
  },
  {
   "cell_type": "markdown",
   "metadata": {},
   "source": [
    "## Modelo básico"
   ]
  },
  {
   "cell_type": "code",
   "execution_count": 31,
   "metadata": {},
   "outputs": [
    {
     "name": "stderr",
     "output_type": "stream",
     "text": [
      "/home/constantine/Documents/cursos/2020-machinelearning/ml_env/lib/python3.8/site-packages/pyparsing.py:3190: FutureWarning: Possible set intersection at position 3\n",
      "  self.re = re.compile(self.reString)\n"
     ]
    }
   ],
   "source": [
    "from sklearn.preprocessing import StandardScaler\n",
    "from sklearn.linear_model import LogisticRegression\n",
    "\n",
    "from sklearn.pipeline import make_union, make_pipeline\n",
    "from sklearn.feature_extraction import DictVectorizer\n",
    "\n",
    "import autosklearn.classification\n",
    "from autosklearn.metrics import roc_auc\n",
    "\n",
    "def get_features_pipe(\n",
    "        use_years: bool, use_genre: bool, \n",
    "        use_director: bool, director_kws: dict=None, post_processing=None):\n",
    "    \"\"\"\n",
    "    Construye el pipeline de features de forma parametrizada\n",
    "    \"\"\"\n",
    "    # director_kws solo tiene sentido cuando use_director=True. \n",
    "    # Esto nos va a traer dolores de cabeza a la hora de explorar el espacio de hyper parametros\n",
    "    # TODO: esto debería permitir cachear los datasets transformados\n",
    "    \n",
    "    steps = []\n",
    "    if use_years:\n",
    "        steps.append(make_pipeline(transformers.YearsAgo(), DictVectorizer(sparse=False)))\n",
    "    \n",
    "    if use_genre:\n",
    "        steps.append(make_pipeline(transformers.GenreDummies(), DictVectorizer(sparse=False)))\n",
    "        \n",
    "    if use_director:\n",
    "        director_kws = director_kws or {}\n",
    "        # cuando hacemos **director_kws usamos ese diccionario para pasar parametros\n",
    "        steps.append(make_pipeline(DirectorFeatures(**director_kws), DictVectorizer(sparse=False)))\n",
    "    \n",
    "    res = make_union(*steps)\n",
    "    if post_processing:\n",
    "        res = make_pipeline(res, post_processing)\n",
    "    return res\n",
    "\n",
    "def get_model_pipe(features_pipe, estimator):\n",
    "    return make_pipeline(features_pipe, estimator)"
   ]
  },
  {
   "cell_type": "code",
   "execution_count": 32,
   "metadata": {},
   "outputs": [
    {
     "data": {
      "text/plain": [
       "Pipeline(memory=None,\n",
       "         steps=[('pipeline',\n",
       "                 Pipeline(memory=None,\n",
       "                          steps=[('featureunion',\n",
       "                                  FeatureUnion(n_jobs=None,\n",
       "                                               transformer_list=[('pipeline-1',\n",
       "                                                                  Pipeline(memory=None,\n",
       "                                                                           steps=[('genredummies',\n",
       "                                                                                   GenreDummies()),\n",
       "                                                                                  ('dictvectorizer',\n",
       "                                                                                   DictVectorizer(dtype=<class 'numpy.float64'>,\n",
       "                                                                                                  separator='=',\n",
       "                                                                                                  sort=True,\n",
       "                                                                                                  sparse=False))],\n",
       "                                                                           verbose=False)),\n",
       "                                                                 ('pipeline-2',\n",
       "                                                                  Pipeline(memory=N...\n",
       "                                 ('standardscaler',\n",
       "                                  StandardScaler(copy=True, with_mean=True,\n",
       "                                                 with_std=True))],\n",
       "                          verbose=False)),\n",
       "                ('logisticregression',\n",
       "                 LogisticRegression(C=1.0, class_weight=None, dual=False,\n",
       "                                    fit_intercept=True, intercept_scaling=1,\n",
       "                                    l1_ratio=None, max_iter=100,\n",
       "                                    multi_class='auto', n_jobs=None,\n",
       "                                    penalty='l2', random_state=None,\n",
       "                                    solver='lbfgs', tol=0.0001, verbose=0,\n",
       "                                    warm_start=False))],\n",
       "         verbose=False)"
      ]
     },
     "execution_count": 32,
     "metadata": {},
     "output_type": "execute_result"
    }
   ],
   "source": [
    "# Creamos modelo\n",
    "model = get_model_pipe(\n",
    "    features_pipe=get_features_pipe(\n",
    "        use_years=False, use_director=True, use_genre=True, post_processing=StandardScaler()\n",
    "    ),\n",
    "    estimator=LogisticRegression()   \n",
    ")\n",
    "\n",
    "model"
   ]
  },
  {
   "cell_type": "code",
   "execution_count": 33,
   "metadata": {},
   "outputs": [
    {
     "data": {
      "text/plain": [
       "2"
      ]
     },
     "execution_count": 33,
     "metadata": {},
     "output_type": "execute_result"
    }
   ],
   "source": [
    "len(model)"
   ]
  },
  {
   "cell_type": "code",
   "execution_count": 35,
   "metadata": {},
   "outputs": [],
   "source": [
    "# acá tengo un bug, en la entrada de las variables\n",
    "# model.fit(X_train, y_train)"
   ]
  },
  {
   "cell_type": "markdown",
   "metadata": {},
   "source": [
    "### Visualizamos los modelos"
   ]
  },
  {
   "cell_type": "code",
   "execution_count": null,
   "metadata": {},
   "outputs": [],
   "source": [
    "import matplotlib.pyplot as plt\n",
    "import pandas as pd\n",
    "from random import randint"
   ]
  },
  {
   "cell_type": "code",
   "execution_count": null,
   "metadata": {},
   "outputs": [],
   "source": [
    "dt = X_test\n",
    "y_dt = y_test\n",
    "\n",
    "for _ in range(10):\n",
    "    i = randint(0, len(dt))\n",
    "\n",
    "    plt.figure()\n",
    "    plt.title('{originalTitle} ({startYear:.00f}, {genres})'.format(**dt[i]))\n",
    "    preds = np.asarray([m.predict_proba([dt[i]])[0,1] for m in models])\n",
    "    preds = preds[1:] - preds[:-1]\n",
    "\n",
    "    plt.plot(mids, preds, '-o', label='predicted distribution')\n",
    "    plt.plot([y_dt.iloc[i], y_dt.iloc[i]], [0, preds.max()], label='true rating')\n",
    "    plt.plot([(preds * mids).sum(), (preds * mids).sum()], [0, preds.max()], label='average prediction')\n",
    "    plt.plot([mids[preds.argmax()], mids[preds.argmax()]], [0, preds.max()], label='prediction mode')\n",
    "    plt.legend(loc='best')\n",
    "    plt.xlabel('Rating value')\n",
    "    plt.ylabel('Probabilty')"
   ]
  }
 ],
 "metadata": {
  "colab": {
   "collapsed_sections": [],
   "name": "MVP-SQUAD-BUDGET.ipynb",
   "provenance": []
  },
  "kernelspec": {
   "display_name": "Python 3",
   "language": "python",
   "name": "python3"
  },
  "language_info": {
   "codemirror_mode": {
    "name": "ipython",
    "version": 3
   },
   "file_extension": ".py",
   "mimetype": "text/x-python",
   "name": "python",
   "nbconvert_exporter": "python",
   "pygments_lexer": "ipython3",
   "version": "3.8.5"
  }
 },
 "nbformat": 4,
 "nbformat_minor": 4
}
