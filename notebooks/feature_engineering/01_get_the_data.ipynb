{
 "cells": [
  {
   "cell_type": "markdown",
   "metadata": {
    "colab_type": "text",
    "id": "jFMxfytubohh"
   },
   "source": [
    "# Descargamos y descomprimimos los datos"
   ]
  },
  {
   "cell_type": "code",
   "execution_count": 1,
   "metadata": {},
   "outputs": [
    {
     "name": "stdout",
     "output_type": "stream",
     "text": [
      "/home/constantine/Documents/DM/imdb_mvp_repository/notebooks/feature_engineering\n"
     ]
    }
   ],
   "source": [
    "!pwd"
   ]
  },
  {
   "cell_type": "code",
   "execution_count": 5,
   "metadata": {},
   "outputs": [],
   "source": [
    "DATA_HOME=r\"../../data\""
   ]
  },
  {
   "cell_type": "code",
   "execution_count": 7,
   "metadata": {
    "colab": {
     "base_uri": "https://localhost:8080/",
     "height": 51
    },
    "colab_type": "code",
    "id": "vnHabEWbcQ37",
    "outputId": "3e5cdd8c-b8a7-4c9b-d94a-1de6868f0bbb"
   },
   "outputs": [
    {
     "name": "stdout",
     "output_type": "stream",
     "text": [
      "aclImdb_v1.tar.gz\n"
     ]
    }
   ],
   "source": [
    "!ls $DATA_HOME # revisamos que este vacio"
   ]
  },
  {
   "cell_type": "markdown",
   "metadata": {},
   "source": [
    "# Descargamos los datos si es que no los tenemos"
   ]
  },
  {
   "cell_type": "code",
   "execution_count": null,
   "metadata": {
    "colab": {
     "base_uri": "https://localhost:8080/",
     "height": 1000
    },
    "colab_type": "code",
    "collapsed": true,
    "id": "Z7SAriHdboiO",
    "jupyter": {
     "outputs_hidden": true
    },
    "outputId": "641f6aa2-508c-40c4-da94-81a4fd8268a9"
   },
   "outputs": [
    {
     "name": "stdout",
     "output_type": "stream",
     "text": [
      "--2020-11-03 21:40:11--  https://machine-learning-practico.s3.amazonaws.com/aclImdb_v1.tar.gz\n",
      "Resolving machine-learning-practico.s3.amazonaws.com (machine-learning-practico.s3.amazonaws.com)... 52.217.41.164\n",
      "Connecting to machine-learning-practico.s3.amazonaws.com (machine-learning-practico.s3.amazonaws.com)|52.217.41.164|:443... connected.\n",
      "HTTP request sent, awaiting response... 200 OK\n",
      "Length: 84125825 (80M) [application/x-tar]\n",
      "Saving to: ‘data/aclImdb_v1.tar.gz’\n",
      "\n",
      "data/aclImdb_v1.tar 100%[===================>]  80,23M  1,87MB/s    in 63s     \n",
      "\n",
      "2020-11-03 21:41:15 (1,27 MB/s) - ‘data/aclImdb_v1.tar.gz’ saved [84125825/84125825]\n",
      "\n",
      "--2020-11-03 21:41:16--  https://machine-learning-practico.s3.amazonaws.com/movie_gross.csv\n",
      "Resolving machine-learning-practico.s3.amazonaws.com (machine-learning-practico.s3.amazonaws.com)... 52.217.97.92\n",
      "Connecting to machine-learning-practico.s3.amazonaws.com (machine-learning-practico.s3.amazonaws.com)|52.217.97.92|:443... connected.\n",
      "HTTP request sent, awaiting response... 200 OK\n",
      "Length: 1494688 (1,4M) [text/csv]\n",
      "Saving to: ‘data/movie_gross.csv’\n",
      "\n",
      "data/movie_gross.cs 100%[===================>]   1,42M   973KB/s    in 1,5s    \n",
      "\n",
      "2020-11-03 21:41:18 (973 KB/s) - ‘data/movie_gross.csv’ saved [1494688/1494688]\n",
      "\n",
      "--2020-11-03 21:41:18--  https://machine-learning-practico.s3.amazonaws.com/name.basics.tsv.gz\n",
      "Resolving machine-learning-practico.s3.amazonaws.com (machine-learning-practico.s3.amazonaws.com)... 52.217.97.92\n",
      "Connecting to machine-learning-practico.s3.amazonaws.com (machine-learning-practico.s3.amazonaws.com)|52.217.97.92|:443... connected.\n",
      "HTTP request sent, awaiting response... 200 OK\n",
      "Length: 201935225 (193M) [text/tab-separated-values]\n",
      "Saving to: ‘data/name.basics.tsv.gz’\n",
      "\n",
      "data/name.basics.ts 100%[===================>] 192,58M  1,40MB/s    in 2m 31s  \n",
      "\n",
      "2020-11-03 21:43:50 (1,27 MB/s) - ‘data/name.basics.tsv.gz’ saved [201935225/201935225]\n",
      "\n",
      "--2020-11-03 21:43:50--  https://machine-learning-practico.s3.amazonaws.com/title.akas.tsv.gz\n",
      "Resolving machine-learning-practico.s3.amazonaws.com (machine-learning-practico.s3.amazonaws.com)... 52.216.204.139\n",
      "Connecting to machine-learning-practico.s3.amazonaws.com (machine-learning-practico.s3.amazonaws.com)|52.216.204.139|:443... connected.\n",
      "HTTP request sent, awaiting response... 200 OK\n",
      "Length: 202838924 (193M) [text/tab-separated-values]\n",
      "Saving to: ‘data/title.akas.tsv.gz’\n",
      "\n",
      "data/title.akas.tsv 100%[===================>] 193,44M  2,18MB/s    in 1m 59s  \n",
      "\n",
      "2020-11-03 21:45:50 (1,63 MB/s) - ‘data/title.akas.tsv.gz’ saved [202838924/202838924]\n",
      "\n",
      "--2020-11-03 21:45:51--  https://machine-learning-practico.s3.amazonaws.com/title.basics.tsv.gz\n",
      "Resolving machine-learning-practico.s3.amazonaws.com (machine-learning-practico.s3.amazonaws.com)... 52.217.93.116\n",
      "Connecting to machine-learning-practico.s3.amazonaws.com (machine-learning-practico.s3.amazonaws.com)|52.217.93.116|:443... connected.\n",
      "HTTP request sent, awaiting response... 200 OK\n",
      "Length: 127291198 (121M) [text/tab-separated-values]\n",
      "Saving to: ‘data/title.basics.tsv.gz’\n",
      "\n",
      "data/title.basics.t 100%[===================>] 121,39M  1,50MB/s    in 85s     \n",
      "\n",
      "2020-11-03 21:47:17 (1,42 MB/s) - ‘data/title.basics.tsv.gz’ saved [127291198/127291198]\n",
      "\n",
      "--2020-11-03 21:47:17--  https://machine-learning-practico.s3.amazonaws.com/title.crew.tsv.gz\n",
      "Resolving machine-learning-practico.s3.amazonaws.com (machine-learning-practico.s3.amazonaws.com)... 52.216.179.75\n",
      "Connecting to machine-learning-practico.s3.amazonaws.com (machine-learning-practico.s3.amazonaws.com)|52.216.179.75|:443... connected.\n",
      "HTTP request sent, awaiting response... 200 OK\n",
      "Length: 50185294 (48M) [text/tab-separated-values]\n",
      "Saving to: ‘data/title.crew.tsv.gz’\n",
      "\n",
      "data/title.crew.tsv 100%[===================>]  47,86M  2,23MB/s    in 27s     \n",
      "\n",
      "2020-11-03 21:47:45 (1,79 MB/s) - ‘data/title.crew.tsv.gz’ saved [50185294/50185294]\n",
      "\n",
      "--2020-11-03 21:47:45--  https://machine-learning-practico.s3.amazonaws.com/title.principals.tsv.gz\n",
      "Resolving machine-learning-practico.s3.amazonaws.com (machine-learning-practico.s3.amazonaws.com)... 52.217.41.92\n",
      "Connecting to machine-learning-practico.s3.amazonaws.com (machine-learning-practico.s3.amazonaws.com)|52.217.41.92|:443... connected.\n",
      "HTTP request sent, awaiting response... 200 OK\n",
      "Length: 334519720 (319M) [text/tab-separated-values]\n",
      "Saving to: ‘data/title.principals.tsv.gz’\n",
      "\n",
      "    data/title.prin  87%[================>   ] 280,70M  1,72MB/s    eta 26s    "
     ]
    }
   ],
   "source": [
    "\n",
    "!wget https://machine-learning-practico.s3.amazonaws.com/aclImdb_v1.tar.gz -O $DATA_HOME/aclImdb_v1.tar.gz\n",
    "!wget https://machine-learning-practico.s3.amazonaws.com/movie_gross.csv -O $DATA_HOME/movie_gross.csv\n",
    "!wget https://machine-learning-practico.s3.amazonaws.com/name.basics.tsv.gz -O $DATA_HOME/name.basics.tsv.gz\n",
    "!wget https://machine-learning-practico.s3.amazonaws.com/title.akas.tsv.gz -O $DATA_HOME/title.akas.tsv.gz\n",
    "!wget https://machine-learning-practico.s3.amazonaws.com/title.basics.tsv.gz -O $DATA_HOME/title.basics.tsv.gz\n",
    "!wget https://machine-learning-practico.s3.amazonaws.com/title.crew.tsv.gz -O $DATA_HOME/title.crew.tsv.gz\n",
    "!wget https://machine-learning-practico.s3.amazonaws.com/title.principals.tsv.gz -O $DATA_HOME/title.principals.tsv.gz\n",
    "!wget https://machine-learning-practico.s3.amazonaws.com/title.ratings.tsv.gz -O $DATA_HOME/title.ratings.tsv.gz"
   ]
  },
  {
   "cell_type": "code",
   "execution_count": null,
   "metadata": {
    "colab": {},
    "colab_type": "code",
    "id": "Wl0qAm-hboiQ"
   },
   "outputs": [],
   "source": [
    "# descomprimimos \n",
    "!tar -C $DATA_HOME -xf $DATA_HOME/aclImdb_v1.tar.gz\n",
    "!gunzip $DATA_HOME/*.gz"
   ]
  }
 ],
 "metadata": {
  "colab": {
   "name": "01-get_the_data.ipynb",
   "provenance": []
  },
  "kernelspec": {
   "display_name": "Python 3",
   "language": "python",
   "name": "python3"
  },
  "language_info": {
   "codemirror_mode": {
    "name": "ipython",
    "version": 3
   },
   "file_extension": ".py",
   "mimetype": "text/x-python",
   "name": "python",
   "nbconvert_exporter": "python",
   "pygments_lexer": "ipython3",
   "version": "3.7.6"
  }
 },
 "nbformat": 4,
 "nbformat_minor": 4
}
